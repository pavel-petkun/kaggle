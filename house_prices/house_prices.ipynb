{
 "cells": [
  {
   "cell_type": "code",
   "execution_count": 125,
   "metadata": {},
   "outputs": [],
   "source": [
    "import pandas as pd\n",
    "import numpy as np\n",
    "from sklearn import linear_model, datasets, metrics\n",
    "from sklearn.preprocessing import OneHotEncoder, StandardScaler\n",
    "from sklearn.pipeline import Pipeline\n",
    "from sklearn.metrics import mean_squared_error\n",
    "from sklearn.metrics import make_scorer\n",
    "from sklearn.base import TransformerMixin\n",
    "\n",
    "from sklearn.impute import SimpleImputer\n",
    "from sklearn.compose import ColumnTransformer\n",
    "from sklearn.compose import make_column_selector\n",
    "\n",
    "from sklearn.linear_model import LinearRegression\n",
    "from sklearn.linear_model import RidgeCV\n",
    "\n",
    "from sklearn.model_selection import GridSearchCV\n",
    "from sklearn.model_selection import validation_curve\n",
    "\n",
    "from matplotlib import pyplot as plt\n",
    "%matplotlib inline"
   ]
  },
  {
   "cell_type": "code",
   "execution_count": 126,
   "metadata": {},
   "outputs": [
    {
     "data": {
      "text/plain": [
       "(1460, 81)"
      ]
     },
     "execution_count": 126,
     "metadata": {},
     "output_type": "execute_result"
    }
   ],
   "source": [
    "df_data = pd.read_csv('data/train.csv')\n",
    "df_data.shape"
   ]
  },
  {
   "cell_type": "code",
   "execution_count": 127,
   "metadata": {},
   "outputs": [
    {
     "name": "stdout",
     "output_type": "stream",
     "text": [
      "Index(['Id', 'MSSubClass', 'MSZoning', 'LotFrontage', 'LotArea', 'Street',\n",
      "       'Alley', 'LotShape', 'LandContour', 'Utilities', 'LotConfig',\n",
      "       'LandSlope', 'Neighborhood', 'Condition1', 'Condition2', 'BldgType',\n",
      "       'HouseStyle', 'OverallQual', 'OverallCond', 'YearBuilt', 'YearRemodAdd',\n",
      "       'RoofStyle', 'RoofMatl', 'Exterior1st', 'Exterior2nd', 'MasVnrType',\n",
      "       'MasVnrArea', 'ExterQual', 'ExterCond', 'Foundation', 'BsmtQual',\n",
      "       'BsmtCond', 'BsmtExposure', 'BsmtFinType1', 'BsmtFinSF1',\n",
      "       'BsmtFinType2', 'BsmtFinSF2', 'BsmtUnfSF', 'TotalBsmtSF', 'Heating',\n",
      "       'HeatingQC', 'CentralAir', 'Electrical', '1stFlrSF', '2ndFlrSF',\n",
      "       'LowQualFinSF', 'GrLivArea', 'BsmtFullBath', 'BsmtHalfBath', 'FullBath',\n",
      "       'HalfBath', 'BedroomAbvGr', 'KitchenAbvGr', 'KitchenQual',\n",
      "       'TotRmsAbvGrd', 'Functional', 'Fireplaces', 'FireplaceQu', 'GarageType',\n",
      "       'GarageYrBlt', 'GarageFinish', 'GarageCars', 'GarageArea', 'GarageQual',\n",
      "       'GarageCond', 'PavedDrive', 'WoodDeckSF', 'OpenPorchSF',\n",
      "       'EnclosedPorch', '3SsnPorch', 'ScreenPorch', 'PoolArea', 'PoolQC',\n",
      "       'Fence', 'MiscFeature', 'MiscVal', 'MoSold', 'YrSold', 'SaleType',\n",
      "       'SaleCondition', 'SalePrice'],\n",
      "      dtype='object')\n",
      "81\n",
      "(1460, 81)\n"
     ]
    }
   ],
   "source": [
    "print(df_data.columns)\n",
    "print(df_data.columns.size)\n",
    "print(df_data.shape)"
   ]
  },
  {
   "cell_type": "code",
   "execution_count": 128,
   "metadata": {},
   "outputs": [
    {
     "data": {
      "text/html": [
       "<div>\n",
       "<style scoped>\n",
       "    .dataframe tbody tr th:only-of-type {\n",
       "        vertical-align: middle;\n",
       "    }\n",
       "\n",
       "    .dataframe tbody tr th {\n",
       "        vertical-align: top;\n",
       "    }\n",
       "\n",
       "    .dataframe thead th {\n",
       "        text-align: right;\n",
       "    }\n",
       "</style>\n",
       "<table border=\"1\" class=\"dataframe\">\n",
       "  <thead>\n",
       "    <tr style=\"text-align: right;\">\n",
       "      <th></th>\n",
       "      <th>Id</th>\n",
       "      <th>MSSubClass</th>\n",
       "      <th>MSZoning</th>\n",
       "      <th>LotFrontage</th>\n",
       "      <th>LotArea</th>\n",
       "      <th>Street</th>\n",
       "      <th>Alley</th>\n",
       "      <th>LotShape</th>\n",
       "      <th>LandContour</th>\n",
       "      <th>Utilities</th>\n",
       "      <th>...</th>\n",
       "      <th>ScreenPorch</th>\n",
       "      <th>PoolArea</th>\n",
       "      <th>PoolQC</th>\n",
       "      <th>Fence</th>\n",
       "      <th>MiscFeature</th>\n",
       "      <th>MiscVal</th>\n",
       "      <th>MoSold</th>\n",
       "      <th>YrSold</th>\n",
       "      <th>SaleType</th>\n",
       "      <th>SaleCondition</th>\n",
       "    </tr>\n",
       "  </thead>\n",
       "  <tbody>\n",
       "    <tr>\n",
       "      <th>0</th>\n",
       "      <td>1461</td>\n",
       "      <td>20</td>\n",
       "      <td>RH</td>\n",
       "      <td>80.0</td>\n",
       "      <td>11622</td>\n",
       "      <td>Pave</td>\n",
       "      <td>NaN</td>\n",
       "      <td>Reg</td>\n",
       "      <td>Lvl</td>\n",
       "      <td>AllPub</td>\n",
       "      <td>...</td>\n",
       "      <td>120</td>\n",
       "      <td>0</td>\n",
       "      <td>NaN</td>\n",
       "      <td>MnPrv</td>\n",
       "      <td>NaN</td>\n",
       "      <td>0</td>\n",
       "      <td>6</td>\n",
       "      <td>2010</td>\n",
       "      <td>WD</td>\n",
       "      <td>Normal</td>\n",
       "    </tr>\n",
       "    <tr>\n",
       "      <th>1</th>\n",
       "      <td>1462</td>\n",
       "      <td>20</td>\n",
       "      <td>RL</td>\n",
       "      <td>81.0</td>\n",
       "      <td>14267</td>\n",
       "      <td>Pave</td>\n",
       "      <td>NaN</td>\n",
       "      <td>IR1</td>\n",
       "      <td>Lvl</td>\n",
       "      <td>AllPub</td>\n",
       "      <td>...</td>\n",
       "      <td>0</td>\n",
       "      <td>0</td>\n",
       "      <td>NaN</td>\n",
       "      <td>NaN</td>\n",
       "      <td>Gar2</td>\n",
       "      <td>12500</td>\n",
       "      <td>6</td>\n",
       "      <td>2010</td>\n",
       "      <td>WD</td>\n",
       "      <td>Normal</td>\n",
       "    </tr>\n",
       "    <tr>\n",
       "      <th>2</th>\n",
       "      <td>1463</td>\n",
       "      <td>60</td>\n",
       "      <td>RL</td>\n",
       "      <td>74.0</td>\n",
       "      <td>13830</td>\n",
       "      <td>Pave</td>\n",
       "      <td>NaN</td>\n",
       "      <td>IR1</td>\n",
       "      <td>Lvl</td>\n",
       "      <td>AllPub</td>\n",
       "      <td>...</td>\n",
       "      <td>0</td>\n",
       "      <td>0</td>\n",
       "      <td>NaN</td>\n",
       "      <td>MnPrv</td>\n",
       "      <td>NaN</td>\n",
       "      <td>0</td>\n",
       "      <td>3</td>\n",
       "      <td>2010</td>\n",
       "      <td>WD</td>\n",
       "      <td>Normal</td>\n",
       "    </tr>\n",
       "    <tr>\n",
       "      <th>3</th>\n",
       "      <td>1464</td>\n",
       "      <td>60</td>\n",
       "      <td>RL</td>\n",
       "      <td>78.0</td>\n",
       "      <td>9978</td>\n",
       "      <td>Pave</td>\n",
       "      <td>NaN</td>\n",
       "      <td>IR1</td>\n",
       "      <td>Lvl</td>\n",
       "      <td>AllPub</td>\n",
       "      <td>...</td>\n",
       "      <td>0</td>\n",
       "      <td>0</td>\n",
       "      <td>NaN</td>\n",
       "      <td>NaN</td>\n",
       "      <td>NaN</td>\n",
       "      <td>0</td>\n",
       "      <td>6</td>\n",
       "      <td>2010</td>\n",
       "      <td>WD</td>\n",
       "      <td>Normal</td>\n",
       "    </tr>\n",
       "    <tr>\n",
       "      <th>4</th>\n",
       "      <td>1465</td>\n",
       "      <td>120</td>\n",
       "      <td>RL</td>\n",
       "      <td>43.0</td>\n",
       "      <td>5005</td>\n",
       "      <td>Pave</td>\n",
       "      <td>NaN</td>\n",
       "      <td>IR1</td>\n",
       "      <td>HLS</td>\n",
       "      <td>AllPub</td>\n",
       "      <td>...</td>\n",
       "      <td>144</td>\n",
       "      <td>0</td>\n",
       "      <td>NaN</td>\n",
       "      <td>NaN</td>\n",
       "      <td>NaN</td>\n",
       "      <td>0</td>\n",
       "      <td>1</td>\n",
       "      <td>2010</td>\n",
       "      <td>WD</td>\n",
       "      <td>Normal</td>\n",
       "    </tr>\n",
       "  </tbody>\n",
       "</table>\n",
       "<p>5 rows × 80 columns</p>\n",
       "</div>"
      ],
      "text/plain": [
       "     Id  MSSubClass MSZoning  LotFrontage  LotArea Street Alley LotShape  \\\n",
       "0  1461          20       RH         80.0    11622   Pave   NaN      Reg   \n",
       "1  1462          20       RL         81.0    14267   Pave   NaN      IR1   \n",
       "2  1463          60       RL         74.0    13830   Pave   NaN      IR1   \n",
       "3  1464          60       RL         78.0     9978   Pave   NaN      IR1   \n",
       "4  1465         120       RL         43.0     5005   Pave   NaN      IR1   \n",
       "\n",
       "  LandContour Utilities  ... ScreenPorch PoolArea PoolQC  Fence MiscFeature  \\\n",
       "0         Lvl    AllPub  ...         120        0    NaN  MnPrv         NaN   \n",
       "1         Lvl    AllPub  ...           0        0    NaN    NaN        Gar2   \n",
       "2         Lvl    AllPub  ...           0        0    NaN  MnPrv         NaN   \n",
       "3         Lvl    AllPub  ...           0        0    NaN    NaN         NaN   \n",
       "4         HLS    AllPub  ...         144        0    NaN    NaN         NaN   \n",
       "\n",
       "  MiscVal MoSold  YrSold  SaleType  SaleCondition  \n",
       "0       0      6    2010        WD         Normal  \n",
       "1   12500      6    2010        WD         Normal  \n",
       "2       0      3    2010        WD         Normal  \n",
       "3       0      6    2010        WD         Normal  \n",
       "4       0      1    2010        WD         Normal  \n",
       "\n",
       "[5 rows x 80 columns]"
      ]
     },
     "execution_count": 128,
     "metadata": {},
     "output_type": "execute_result"
    }
   ],
   "source": [
    "df_test = pd.read_csv('data/test.csv')\n",
    "df_test.head()"
   ]
  },
  {
   "cell_type": "markdown",
   "metadata": {},
   "source": [
    "### 1. Предобработка"
   ]
  },
  {
   "cell_type": "markdown",
   "metadata": {},
   "source": [
    "### 1.1 Missing Data"
   ]
  },
  {
   "cell_type": "code",
   "execution_count": 129,
   "metadata": {},
   "outputs": [
    {
     "data": {
      "text/html": [
       "<div>\n",
       "<style scoped>\n",
       "    .dataframe tbody tr th:only-of-type {\n",
       "        vertical-align: middle;\n",
       "    }\n",
       "\n",
       "    .dataframe tbody tr th {\n",
       "        vertical-align: top;\n",
       "    }\n",
       "\n",
       "    .dataframe thead th {\n",
       "        text-align: right;\n",
       "    }\n",
       "</style>\n",
       "<table border=\"1\" class=\"dataframe\">\n",
       "  <thead>\n",
       "    <tr style=\"text-align: right;\">\n",
       "      <th></th>\n",
       "      <th>Total</th>\n",
       "      <th>Percent</th>\n",
       "    </tr>\n",
       "  </thead>\n",
       "  <tbody>\n",
       "    <tr>\n",
       "      <th>PoolQC</th>\n",
       "      <td>1453</td>\n",
       "      <td>0.995205</td>\n",
       "    </tr>\n",
       "    <tr>\n",
       "      <th>MiscFeature</th>\n",
       "      <td>1406</td>\n",
       "      <td>0.963014</td>\n",
       "    </tr>\n",
       "    <tr>\n",
       "      <th>Alley</th>\n",
       "      <td>1369</td>\n",
       "      <td>0.937671</td>\n",
       "    </tr>\n",
       "    <tr>\n",
       "      <th>Fence</th>\n",
       "      <td>1179</td>\n",
       "      <td>0.807534</td>\n",
       "    </tr>\n",
       "    <tr>\n",
       "      <th>FireplaceQu</th>\n",
       "      <td>690</td>\n",
       "      <td>0.472603</td>\n",
       "    </tr>\n",
       "    <tr>\n",
       "      <th>LotFrontage</th>\n",
       "      <td>259</td>\n",
       "      <td>0.177397</td>\n",
       "    </tr>\n",
       "    <tr>\n",
       "      <th>GarageCond</th>\n",
       "      <td>81</td>\n",
       "      <td>0.055479</td>\n",
       "    </tr>\n",
       "    <tr>\n",
       "      <th>GarageType</th>\n",
       "      <td>81</td>\n",
       "      <td>0.055479</td>\n",
       "    </tr>\n",
       "    <tr>\n",
       "      <th>GarageYrBlt</th>\n",
       "      <td>81</td>\n",
       "      <td>0.055479</td>\n",
       "    </tr>\n",
       "    <tr>\n",
       "      <th>GarageFinish</th>\n",
       "      <td>81</td>\n",
       "      <td>0.055479</td>\n",
       "    </tr>\n",
       "    <tr>\n",
       "      <th>GarageQual</th>\n",
       "      <td>81</td>\n",
       "      <td>0.055479</td>\n",
       "    </tr>\n",
       "    <tr>\n",
       "      <th>BsmtExposure</th>\n",
       "      <td>38</td>\n",
       "      <td>0.026027</td>\n",
       "    </tr>\n",
       "    <tr>\n",
       "      <th>BsmtFinType2</th>\n",
       "      <td>38</td>\n",
       "      <td>0.026027</td>\n",
       "    </tr>\n",
       "    <tr>\n",
       "      <th>BsmtFinType1</th>\n",
       "      <td>37</td>\n",
       "      <td>0.025342</td>\n",
       "    </tr>\n",
       "    <tr>\n",
       "      <th>BsmtCond</th>\n",
       "      <td>37</td>\n",
       "      <td>0.025342</td>\n",
       "    </tr>\n",
       "    <tr>\n",
       "      <th>BsmtQual</th>\n",
       "      <td>37</td>\n",
       "      <td>0.025342</td>\n",
       "    </tr>\n",
       "    <tr>\n",
       "      <th>MasVnrArea</th>\n",
       "      <td>8</td>\n",
       "      <td>0.005479</td>\n",
       "    </tr>\n",
       "    <tr>\n",
       "      <th>MasVnrType</th>\n",
       "      <td>8</td>\n",
       "      <td>0.005479</td>\n",
       "    </tr>\n",
       "    <tr>\n",
       "      <th>Electrical</th>\n",
       "      <td>1</td>\n",
       "      <td>0.000685</td>\n",
       "    </tr>\n",
       "    <tr>\n",
       "      <th>Utilities</th>\n",
       "      <td>0</td>\n",
       "      <td>0.000000</td>\n",
       "    </tr>\n",
       "  </tbody>\n",
       "</table>\n",
       "</div>"
      ],
      "text/plain": [
       "              Total   Percent\n",
       "PoolQC         1453  0.995205\n",
       "MiscFeature    1406  0.963014\n",
       "Alley          1369  0.937671\n",
       "Fence          1179  0.807534\n",
       "FireplaceQu     690  0.472603\n",
       "LotFrontage     259  0.177397\n",
       "GarageCond       81  0.055479\n",
       "GarageType       81  0.055479\n",
       "GarageYrBlt      81  0.055479\n",
       "GarageFinish     81  0.055479\n",
       "GarageQual       81  0.055479\n",
       "BsmtExposure     38  0.026027\n",
       "BsmtFinType2     38  0.026027\n",
       "BsmtFinType1     37  0.025342\n",
       "BsmtCond         37  0.025342\n",
       "BsmtQual         37  0.025342\n",
       "MasVnrArea        8  0.005479\n",
       "MasVnrType        8  0.005479\n",
       "Electrical        1  0.000685\n",
       "Utilities         0  0.000000"
      ]
     },
     "execution_count": 129,
     "metadata": {},
     "output_type": "execute_result"
    }
   ],
   "source": [
    "# missing data\n",
    "total = df_data.isnull().sum().sort_values(ascending=False)\n",
    "percent = (df_data.isnull().sum()/df_data.isnull().count()).sort_values(ascending=False)\n",
    "missing_data = pd.concat([total, percent], axis=1, keys=['Total', 'Percent'])\n",
    "missing_data.head(20)"
   ]
  },
  {
   "cell_type": "code",
   "execution_count": 189,
   "metadata": {},
   "outputs": [
    {
     "name": "stdout",
     "output_type": "stream",
     "text": [
      "Columns with too much missing data:\n",
      "['PoolQC' 'MiscFeature' 'Alley']\n",
      "Columns to remove:\n",
      "['PoolQC' 'MiscFeature' 'Alley' 'Id']\n"
     ]
    }
   ],
   "source": [
    "#columns_with_too_much_missing_data = percent[percent > 0.8].index.values\n",
    "columns_with_too_much_missing_data = percent[percent > 0.9].index.values\n",
    "print('Columns with too much missing data:')\n",
    "print(columns_with_too_much_missing_data)\n",
    "\n",
    "# remove the 'Id' column\n",
    "columns_to_remove = np.append(columns_with_too_much_missing_data, ['Id'])\n",
    "print('Columns to remove:')\n",
    "print(columns_to_remove)"
   ]
  },
  {
   "cell_type": "markdown",
   "metadata": {},
   "source": [
    "Анализировал пропущенные значения. Пока думаю так:\n",
    "\n",
    "* удалить колонки с > 90% пропущенных значений. Это PoolQC, MiscFeature, Alley.\n",
    "* для категориальных признаков: пропущенное значение выделить в отдельную категорию. Назвать ее как-то. Эти пропущенные значения имеют осмысленный характер, так как, судя по данным, обусловлены отсуствием той или иной характеристики у объекта наблюдения.\n",
    "* для числовых признаков: Применить Imputer, strategy=mean\n",
    "\n",
    "Остается вопрос с колонкой Id."
   ]
  },
  {
   "cell_type": "code",
   "execution_count": 169,
   "metadata": {},
   "outputs": [],
   "source": [
    "class DataFrameColumnsRemove(TransformerMixin):\n",
    "    def __init__(self, feature_names):\n",
    "        self._feature_names = feature_names\n",
    "    \n",
    "    def fit(self, X, y=None):\n",
    "        return self\n",
    "    \n",
    "    def transform(self, X, y=None):\n",
    "        return X.drop(self._feature_names, axis='columns')"
   ]
  },
  {
   "cell_type": "markdown",
   "metadata": {},
   "source": [
    "### 1.2 Outliers"
   ]
  },
  {
   "cell_type": "markdown",
   "metadata": {},
   "source": [
    "Поискать выбросы по разным признакам в рамках анализа данных в предыдущем ноутбуке. Удалить, что найдется."
   ]
  },
  {
   "cell_type": "code",
   "execution_count": 132,
   "metadata": {},
   "outputs": [
    {
     "data": {
      "text/plain": [
       "<matplotlib.axes._subplots.AxesSubplot at 0x26032c9d880>"
      ]
     },
     "execution_count": 132,
     "metadata": {},
     "output_type": "execute_result"
    },
    {
     "data": {
      "image/png": "[encoded data removed]",
      "text/plain": [
       "<Figure size 432x288 with 1 Axes>"
      ]
     },
     "metadata": {
      "needs_background": "light"
     },
     "output_type": "display_data"
    }
   ],
   "source": [
    "var = 'GrLivArea'\n",
    "data = pd.concat([df_data['SalePrice'], df_data[var]], axis=1)\n",
    "data.plot.scatter(x=var, y='SalePrice', ylim=(0,800000))"
   ]
  },
  {
   "cell_type": "code",
   "execution_count": 133,
   "metadata": {},
   "outputs": [
    {
     "data": {
      "text/html": [
       "<div>\n",
       "<style scoped>\n",
       "    .dataframe tbody tr th:only-of-type {\n",
       "        vertical-align: middle;\n",
       "    }\n",
       "\n",
       "    .dataframe tbody tr th {\n",
       "        vertical-align: top;\n",
       "    }\n",
       "\n",
       "    .dataframe thead th {\n",
       "        text-align: right;\n",
       "    }\n",
       "</style>\n",
       "<table border=\"1\" class=\"dataframe\">\n",
       "  <thead>\n",
       "    <tr style=\"text-align: right;\">\n",
       "      <th></th>\n",
       "      <th>Id</th>\n",
       "      <th>GrLivArea</th>\n",
       "    </tr>\n",
       "  </thead>\n",
       "  <tbody>\n",
       "    <tr>\n",
       "      <th>523</th>\n",
       "      <td>524</td>\n",
       "      <td>4676</td>\n",
       "    </tr>\n",
       "    <tr>\n",
       "      <th>691</th>\n",
       "      <td>692</td>\n",
       "      <td>4316</td>\n",
       "    </tr>\n",
       "    <tr>\n",
       "      <th>1182</th>\n",
       "      <td>1183</td>\n",
       "      <td>4476</td>\n",
       "    </tr>\n",
       "    <tr>\n",
       "      <th>1298</th>\n",
       "      <td>1299</td>\n",
       "      <td>5642</td>\n",
       "    </tr>\n",
       "  </tbody>\n",
       "</table>\n",
       "</div>"
      ],
      "text/plain": [
       "        Id  GrLivArea\n",
       "523    524       4676\n",
       "691    692       4316\n",
       "1182  1183       4476\n",
       "1298  1299       5642"
      ]
     },
     "execution_count": 133,
     "metadata": {},
     "output_type": "execute_result"
    }
   ],
   "source": [
    "df_data[df_data['GrLivArea'] > 4000][['Id','GrLivArea']]"
   ]
  },
  {
   "cell_type": "code",
   "execution_count": 134,
   "metadata": {},
   "outputs": [],
   "source": [
    "#deleting points\n",
    "df_data.sort_values(by='GrLivArea', ascending=False)[:2]\n",
    "df_data = df_data.drop(df_data[df_data['Id'] == 1299].index)\n",
    "df_data = df_data.drop(df_data[df_data['Id'] == 524].index)"
   ]
  },
  {
   "cell_type": "code",
   "execution_count": 135,
   "metadata": {},
   "outputs": [
    {
     "data": {
      "text/plain": [
       "(1458, 81)"
      ]
     },
     "execution_count": 135,
     "metadata": {},
     "output_type": "execute_result"
    }
   ],
   "source": [
    "df_data.shape"
   ]
  },
  {
   "cell_type": "markdown",
   "metadata": {},
   "source": [
    "Удалили пока только выбросы по признаку 'GrLivArea'"
   ]
  },
  {
   "cell_type": "markdown",
   "metadata": {},
   "source": [
    "### 1.3 Preprocessing pipeline "
   ]
  },
  {
   "cell_type": "code",
   "execution_count": 170,
   "metadata": {},
   "outputs": [
    {
     "data": {
      "text/plain": [
       "array(['PoolQC', 'MiscFeature', 'Alley', 'Fence', 'Id'], dtype=object)"
      ]
     },
     "execution_count": 170,
     "metadata": {},
     "output_type": "execute_result"
    }
   ],
   "source": [
    "columns_to_remove"
   ]
  },
  {
   "cell_type": "markdown",
   "metadata": {},
   "source": [
    "### 1.3.2 Ordinal encoded features"
   ]
  },
  {
   "cell_type": "markdown",
   "metadata": {},
   "source": [
    "С признаком \"BldgType\" есть несоответствия между data_description и реальными значениями. Чтобы не допустить тут ошибки в определении порядка значений, думаю, лучше его не добавлять в этот процесс."
   ]
  },
  {
   "cell_type": "code",
   "execution_count": 195,
   "metadata": {},
   "outputs": [],
   "source": [
    "#'MSZoning': ['A', 'I', 'C (all)', 'FV', 'RH', 'RM', 'RL', 'RP']\n",
    "\n",
    "ordered_cat_feature_values_dict = {\n",
    "    'Street': ['Grvl', 'Pave'],\n",
    "    'LotShape': ['IR3', 'IR2', 'IR1', 'Reg'],\n",
    "    'LandContour': ['Low', 'Bnk', 'HLS', 'Lvl'],\n",
    "    'Utilities': ['ELO', 'NoSeWa', 'NoSewr', 'AllPub'],\n",
    "    'LandSlope': ['Sev', 'Mod', 'Gtl'],\n",
    "    'HouseStyle': ['1Story', 'SFoyer', 'SLvl', '1.5Unf', '1.5Fin', '2Story', '2.5Unf', '2.5Fin'],\n",
    "    'ExterQual': ['Po', 'Fa', 'TA', 'Gd', 'Ex'],\n",
    "    'ExterCond': ['Po', 'Fa', 'TA', 'Gd', 'Ex'],\n",
    "    'BsmtQual': [np.nan, 'Po', 'Fa', 'TA', 'Gd', 'Ex'],\n",
    "    'BsmtCond': [np.nan, 'Po', 'Fa', 'TA', 'Gd', 'Ex'],\n",
    "    'BsmtExposure': [np.nan, 'No', 'Mn', 'Av', 'Gd'],\n",
    "    'BsmtFinType1': [np.nan, 'Unf', 'LwQ', 'BLQ', 'Rec', 'ALQ', 'GLQ'],\n",
    "    'BsmtFinType2': [np.nan, 'Unf', 'LwQ', 'BLQ', 'Rec', 'ALQ', 'GLQ'],\n",
    "    'HeatingQC': ['Po', 'Fa', 'TA', 'Gd', 'Ex'],\n",
    "    'CentralAir': ['N', 'Y'],\n",
    "    'KitchenQual': ['Po', 'Fa', 'TA', 'Gd', 'Ex'],\n",
    "    'Functional': ['Sal', 'Sev', 'Maj2', 'Maj1', 'Mod', 'Min2', 'Min1', 'Typ'],\n",
    "    'FireplaceQu': [np.nan, 'Po', 'Fa', 'TA', 'Gd', 'Ex'],\n",
    "    'GarageFinish': [np.nan, 'Unf', 'RFn', 'Fin'],\n",
    "    'GarageQual': [np.nan, 'Po', 'Fa', 'TA', 'Gd', 'Ex'],\n",
    "    'GarageCond': [np.nan, 'Po', 'Fa', 'TA', 'Gd', 'Ex'],\n",
    "    'PavedDrive': ['N', 'P', 'Y']\n",
    "}\n",
    "\n",
    "cat_feature_num_values_dict = \\\n",
    "    {feature: dict(zip(ordered_values, list(range(1, len(ordered_values) + 1)))) \\\n",
    "    for feature, ordered_values in ordered_cat_feature_values_dict.items()}"
   ]
  },
  {
   "cell_type": "code",
   "execution_count": 196,
   "metadata": {},
   "outputs": [
    {
     "data": {
      "text/plain": [
       "{'Street': {'Grvl': 1, 'Pave': 2},\n",
       " 'LotShape': {'IR3': 1, 'IR2': 2, 'IR1': 3, 'Reg': 4},\n",
       " 'LandContour': {'Low': 1, 'Bnk': 2, 'HLS': 3, 'Lvl': 4},\n",
       " 'Utilities': {'ELO': 1, 'NoSeWa': 2, 'NoSewr': 3, 'AllPub': 4},\n",
       " 'LandSlope': {'Sev': 1, 'Mod': 2, 'Gtl': 3},\n",
       " 'HouseStyle': {'1Story': 1,\n",
       "  'SFoyer': 2,\n",
       "  'SLvl': 3,\n",
       "  '1.5Unf': 4,\n",
       "  '1.5Fin': 5,\n",
       "  '2Story': 6,\n",
       "  '2.5Unf': 7,\n",
       "  '2.5Fin': 8},\n",
       " 'ExterQual': {'Po': 1, 'Fa': 2, 'TA': 3, 'Gd': 4, 'Ex': 5},\n",
       " 'ExterCond': {'Po': 1, 'Fa': 2, 'TA': 3, 'Gd': 4, 'Ex': 5},\n",
       " 'BsmtQual': {nan: 1, 'Po': 2, 'Fa': 3, 'TA': 4, 'Gd': 5, 'Ex': 6},\n",
       " 'BsmtCond': {nan: 1, 'Po': 2, 'Fa': 3, 'TA': 4, 'Gd': 5, 'Ex': 6},\n",
       " 'BsmtExposure': {nan: 1, 'No': 2, 'Mn': 3, 'Av': 4, 'Gd': 5},\n",
       " 'BsmtFinType1': {nan: 1,\n",
       "  'Unf': 2,\n",
       "  'LwQ': 3,\n",
       "  'BLQ': 4,\n",
       "  'Rec': 5,\n",
       "  'ALQ': 6,\n",
       "  'GLQ': 7},\n",
       " 'BsmtFinType2': {nan: 1,\n",
       "  'Unf': 2,\n",
       "  'LwQ': 3,\n",
       "  'BLQ': 4,\n",
       "  'Rec': 5,\n",
       "  'ALQ': 6,\n",
       "  'GLQ': 7},\n",
       " 'HeatingQC': {'Po': 1, 'Fa': 2, 'TA': 3, 'Gd': 4, 'Ex': 5},\n",
       " 'CentralAir': {'N': 1, 'Y': 2},\n",
       " 'KitchenQual': {'Po': 1, 'Fa': 2, 'TA': 3, 'Gd': 4, 'Ex': 5},\n",
       " 'Functional': {'Sal': 1,\n",
       "  'Sev': 2,\n",
       "  'Maj2': 3,\n",
       "  'Maj1': 4,\n",
       "  'Mod': 5,\n",
       "  'Min2': 6,\n",
       "  'Min1': 7,\n",
       "  'Typ': 8},\n",
       " 'FireplaceQu': {nan: 1, 'Po': 2, 'Fa': 3, 'TA': 4, 'Gd': 5, 'Ex': 6},\n",
       " 'GarageFinish': {nan: 1, 'Unf': 2, 'RFn': 3, 'Fin': 4},\n",
       " 'GarageQual': {nan: 1, 'Po': 2, 'Fa': 3, 'TA': 4, 'Gd': 5, 'Ex': 6},\n",
       " 'GarageCond': {nan: 1, 'Po': 2, 'Fa': 3, 'TA': 4, 'Gd': 5, 'Ex': 6},\n",
       " 'PavedDrive': {'N': 1, 'P': 2, 'Y': 3}}"
      ]
     },
     "execution_count": 196,
     "metadata": {},
     "output_type": "execute_result"
    }
   ],
   "source": [
    "cat_feature_num_values_dict"
   ]
  },
  {
   "cell_type": "code",
   "execution_count": 139,
   "metadata": {},
   "outputs": [],
   "source": [
    "class CustomOrdinalEncoder(TransformerMixin):\n",
    "    def __init__(self, cat_feature_num_values_dict):\n",
    "        self._cat_feature_num_values_dict = cat_feature_num_values_dict\n",
    "    \n",
    "    def fit(self, X, y=None):\n",
    "        return self\n",
    "    \n",
    "    def transform(self, X, y=None):\n",
    "        result_df = X.copy()\n",
    "        for feature in self._cat_feature_num_values_dict.keys():\n",
    "            result_df[feature] = X[feature].map(self._cat_feature_num_values_dict[feature])\n",
    "        return result_df"
   ]
  },
  {
   "cell_type": "code",
   "execution_count": 140,
   "metadata": {},
   "outputs": [],
   "source": [
    "#df_data[df_data['BsmtFinType2'].isnull() == True]['BsmtFinType2']\n",
    "#test_series = df_data['BsmtFinType2'].map(ordered_feature_num_values_dict['BsmtFinType2'])\n",
    "#test_series[test_series.isnull() == True]\n",
    "\n",
    "#df_data[ordered_feature_num_values_dict.keys()]\n",
    "#df_data[df_data['BldgType'].isnull() == True]['BldgType']\n",
    "#df_data[ordered_feature_num_values_dict.keys()].isnull().sum()"
   ]
  },
  {
   "cell_type": "code",
   "execution_count": 141,
   "metadata": {},
   "outputs": [],
   "source": [
    "#def test_transform_ordered_cat_to_num(df_data):\n",
    "#for dict_key in ordered_feature_num_values_dict.keys():\n",
    "#    df_data[dict_key] = df_data[dict_key].map(ordered_feature_num_values_dict[dict_key])"
   ]
  },
  {
   "cell_type": "markdown",
   "metadata": {},
   "source": [
    "#### Preprocessing Pipelines"
   ]
  },
  {
   "cell_type": "markdown",
   "metadata": {},
   "source": [
    "##### StandardScaler"
   ]
  },
  {
   "cell_type": "markdown",
   "metadata": {},
   "source": [
    "If a feature has a variance that is orders of magnitude larger that others, it might dominate the objective function and make the estimator unable to learn from other features correctly as expected."
   ]
  },
  {
   "cell_type": "code",
   "execution_count": 142,
   "metadata": {},
   "outputs": [],
   "source": [
    "remove_columns_transformer = DataFrameColumnsRemove(columns_to_remove)\n",
    "\n",
    "#num_preprocess_pipeline = Pipeline([('imputer', SimpleImputer(strategy='mean'))])\n",
    "\n",
    "#cat_preprocess_pipeline = Pipeline([('imputer', SimpleImputer(strategy='constant', fill_value='<missing>'))])\n",
    "\n",
    "num_preprocess_pipeline = Pipeline([('imputer', SimpleImputer(strategy='mean')),\n",
    "                                   ('scaler', StandardScaler())])\n",
    "\n",
    "\n",
    "cat_preprocess_pipeline = Pipeline([('imputer', SimpleImputer(strategy='constant', fill_value='<missing>')),\n",
    "                                   ('one_hot_encoder', OneHotEncoder(handle_unknown='ignore'))])\n",
    "\n",
    "\n",
    "column_type_based_preprocess_transformer = ColumnTransformer([\n",
    "    ('numerical', num_preprocess_pipeline, make_column_selector(dtype_include='number')),\n",
    "    ('categorical', cat_preprocess_pipeline, make_column_selector(dtype_include='object'))\n",
    "])\n",
    "\n",
    "preprocessing_pipeline = Pipeline([('remove_columns', remove_columns_transformer),\n",
    "                                  ('column_based_preprocess_pipeline', column_type_based_preprocess_transformer)])"
   ]
  },
  {
   "cell_type": "code",
   "execution_count": 197,
   "metadata": {},
   "outputs": [],
   "source": [
    "remove_columns_transformer = DataFrameColumnsRemove(columns_to_remove)\n",
    "custom_ordinal_encoder = CustomOrdinalEncoder(cat_feature_num_values_dict)\n",
    "\n",
    "#num_preprocess_pipeline = Pipeline([('imputer', SimpleImputer(strategy='mean'))])\n",
    "\n",
    "#cat_preprocess_pipeline = Pipeline([('imputer', SimpleImputer(strategy='constant', fill_value='<missing>'))])\n",
    "\n",
    "num_preprocess_pipeline = Pipeline([('imputer', SimpleImputer(strategy='mean')),\n",
    "                                   ('scaler', StandardScaler())])\n",
    "\n",
    "\n",
    "cat_preprocess_pipeline = Pipeline([('imputer', SimpleImputer(strategy='constant', fill_value='<missing>')),\n",
    "                                   ('one_hot_encoder', OneHotEncoder(handle_unknown='ignore'))])\n",
    "\n",
    "\n",
    "column_type_based_preprocess_transformer = ColumnTransformer([\n",
    "    ('numerical', num_preprocess_pipeline, make_column_selector(dtype_include='number')),\n",
    "    ('categorical', cat_preprocess_pipeline, make_column_selector(dtype_include='object'))\n",
    "])\n",
    "\n",
    "#preprocessing_pipeline = Pipeline([('remove_columns', remove_columns_transformer),\n",
    "#                                  ('column_based_preprocess_pipeline', column_type_based_preprocess_transformer)])\n",
    "\n",
    "\n",
    "preprocessing_pipeline_cat_ordinal = Pipeline([('remove_columns', remove_columns_transformer),\n",
    "                                    ('custom_ordinal_encoder', custom_ordinal_encoder),\n",
    "                                    ('column_based_preprocess_pipeline', column_type_based_preprocess_transformer)])"
   ]
  },
  {
   "cell_type": "code",
   "execution_count": 14,
   "metadata": {},
   "outputs": [
    {
     "data": {
      "text/plain": [
       "<1458x292 sparse matrix of type '<class 'numpy.float64'>'\n",
       "\twith 112007 stored elements in Compressed Sparse Row format>"
      ]
     },
     "execution_count": 14,
     "metadata": {},
     "output_type": "execute_result"
    }
   ],
   "source": [
    "#test\n",
    "preprocessed_data_test = preprocessing_pipeline.fit_transform(df_data)\n",
    "preprocessed_data_test"
   ]
  },
  {
   "cell_type": "code",
   "execution_count": 15,
   "metadata": {},
   "outputs": [
    {
     "name": "stdout",
     "output_type": "stream",
     "text": [
      "292\n"
     ]
    },
    {
     "data": {
      "text/plain": [
       "array([ 0.07342554, -0.22808532, -0.20341024,  0.65850569, -0.5176494 ,\n",
       "        1.05295943,  0.88036165,  0.52125624,  0.61728311, -0.28886725,\n",
       "       -0.94379532, -0.4737659 , -0.81430891,  1.1676262 , -0.12032536,\n",
       "        0.3930128 ,  1.11388595, -0.24123593,  0.79354567,  1.22969871,\n",
       "        0.16389443, -0.21160505,  0.92181186, -0.95223126,  1.02323777,\n",
       "        0.31315878,  0.35797333, -0.7508307 ,  0.2259816 , -0.35960311,\n",
       "       -0.11642013, -0.27040716, -0.06370868, -0.0877484 , -1.60157805,\n",
       "        0.1383752 ,  0.34689629,  0.        ,  0.        ,  0.        ,\n",
       "        1.        ,  0.        ,  0.        ,  1.        ,  0.        ,\n",
       "        0.        ,  0.        ,  1.        ,  0.        ,  0.        ,\n",
       "        0.        ,  1.        ,  1.        ,  0.        ,  0.        ,\n",
       "        0.        ,  0.        ,  0.        ,  1.        ,  1.        ,\n",
       "        0.        ,  0.        ,  0.        ,  0.        ,  0.        ,\n",
       "        0.        ,  0.        ,  1.        ,  0.        ,  0.        ,\n",
       "        0.        ,  0.        ,  0.        ,  0.        ,  0.        ,\n",
       "        0.        ,  0.        ,  0.        ,  0.        ,  0.        ,\n",
       "        0.        ,  0.        ,  0.        ,  0.        ,  0.        ,\n",
       "        0.        ,  0.        ,  0.        ,  0.        ,  1.        ,\n",
       "        0.        ,  0.        ,  0.        ,  0.        ,  0.        ,\n",
       "        0.        ,  0.        ,  0.        ,  1.        ,  0.        ,\n",
       "        0.        ,  0.        ,  0.        ,  0.        ,  1.        ,\n",
       "        0.        ,  0.        ,  0.        ,  0.        ,  0.        ,\n",
       "        0.        ,  0.        ,  0.        ,  0.        ,  1.        ,\n",
       "        0.        ,  0.        ,  0.        ,  1.        ,  0.        ,\n",
       "        0.        ,  0.        ,  0.        ,  1.        ,  0.        ,\n",
       "        0.        ,  0.        ,  0.        ,  0.        ,  0.        ,\n",
       "        0.        ,  0.        ,  0.        ,  0.        ,  0.        ,\n",
       "        0.        ,  0.        ,  0.        ,  0.        ,  0.        ,\n",
       "        0.        ,  0.        ,  1.        ,  0.        ,  0.        ,\n",
       "        0.        ,  0.        ,  0.        ,  0.        ,  0.        ,\n",
       "        0.        ,  0.        ,  0.        ,  0.        ,  0.        ,\n",
       "        0.        ,  0.        ,  0.        ,  1.        ,  0.        ,\n",
       "        0.        ,  0.        ,  0.        ,  1.        ,  0.        ,\n",
       "        0.        ,  0.        ,  0.        ,  1.        ,  0.        ,\n",
       "        0.        ,  0.        ,  0.        ,  0.        ,  1.        ,\n",
       "        0.        ,  0.        ,  1.        ,  0.        ,  0.        ,\n",
       "        0.        ,  0.        ,  0.        ,  0.        ,  1.        ,\n",
       "        0.        ,  0.        ,  0.        ,  0.        ,  0.        ,\n",
       "        1.        ,  0.        ,  0.        ,  0.        ,  0.        ,\n",
       "        1.        ,  0.        ,  0.        ,  0.        ,  1.        ,\n",
       "        0.        ,  0.        ,  0.        ,  0.        ,  0.        ,\n",
       "        0.        ,  0.        ,  0.        ,  0.        ,  1.        ,\n",
       "        0.        ,  1.        ,  0.        ,  0.        ,  0.        ,\n",
       "        0.        ,  1.        ,  0.        ,  0.        ,  0.        ,\n",
       "        0.        ,  0.        ,  1.        ,  0.        ,  0.        ,\n",
       "        0.        ,  0.        ,  0.        ,  1.        ,  0.        ,\n",
       "        0.        ,  1.        ,  0.        ,  0.        ,  0.        ,\n",
       "        0.        ,  0.        ,  0.        ,  0.        ,  1.        ,\n",
       "        1.        ,  0.        ,  0.        ,  0.        ,  0.        ,\n",
       "        0.        ,  0.        ,  0.        ,  1.        ,  0.        ,\n",
       "        0.        ,  0.        ,  0.        ,  0.        ,  0.        ,\n",
       "        1.        ,  0.        ,  0.        ,  0.        ,  0.        ,\n",
       "        0.        ,  0.        ,  1.        ,  0.        ,  0.        ,\n",
       "        0.        ,  0.        ,  0.        ,  1.        ,  0.        ,\n",
       "        0.        ,  1.        ,  1.        ,  0.        ,  0.        ,\n",
       "        0.        ,  0.        ,  0.        ,  0.        ,  0.        ,\n",
       "        0.        ,  0.        ,  0.        ,  0.        ,  0.        ,\n",
       "        1.        ,  0.        ,  0.        ,  0.        ,  0.        ,\n",
       "        1.        ,  0.        ])"
      ]
     },
     "execution_count": 15,
     "metadata": {},
     "output_type": "execute_result"
    }
   ],
   "source": [
    "#test\n",
    "print(preprocessed_data_test.toarray()[0].size)\n",
    "preprocessed_data_test.toarray()[0]"
   ]
  },
  {
   "cell_type": "code",
   "execution_count": 16,
   "metadata": {},
   "outputs": [
    {
     "name": "stdout",
     "output_type": "stream",
     "text": [
      "38\n",
      "43\n"
     ]
    }
   ],
   "source": [
    "#test\n",
    "num_vars = df_data.select_dtypes(include='number').columns\n",
    "cat_vars = df_data.select_dtypes(include='object').columns\n",
    "print(num_vars.size)\n",
    "print(cat_vars.size)"
   ]
  },
  {
   "cell_type": "code",
   "execution_count": 184,
   "metadata": {},
   "outputs": [
    {
     "data": {
      "text/plain": [
       "10"
      ]
     },
     "execution_count": 184,
     "metadata": {},
     "output_type": "execute_result"
    }
   ],
   "source": [
    "preprocessed_data_test_ordinal = custom_ordinal_encoder.fit_transform(df_data)\n",
    "preprocessed_data_test_ordinal['MSZoning'].isnull().sum()\n",
    "#preprocessed_data_test_ordinal['MSZoning'][5:10]"
   ]
  },
  {
   "cell_type": "code",
   "execution_count": 181,
   "metadata": {},
   "outputs": [
    {
     "name": "stdout",
     "output_type": "stream",
     "text": [
      "210\n"
     ]
    },
    {
     "data": {
      "text/plain": [
       "array([ 0.07342554, -0.22808532, -0.20341024,  0.06428243,  0.70210024,\n",
       "        0.30871097,  0.02619813,  0.22587878,  1.21689695,  0.65850569,\n",
       "       -0.5176494 ,  1.05295943,  0.88036165,  0.52125624,  1.06110904,\n",
       "       -0.23828489,  0.58632935,  0.11796619, -0.58910196,  1.17137838,\n",
       "        0.61728311, -0.28229584, -0.28886725, -0.94379532, -0.4737659 ,\n",
       "        0.89227664,  0.26400605, -0.81430891,  1.1676262 , -0.12032536,\n",
       "        0.3930128 ,  1.11388595, -0.24123593,  0.79354567,  1.22969871,\n",
       "        0.16389443, -0.21160505,  0.74112686,  0.92181186,  0.23721521,\n",
       "       -0.95223126, -1.00699314,  1.02323777,  0.32068452,  0.31315878,\n",
       "        0.35797333,  0.26273445,  0.26581303,  0.28996012, -0.7508307 ,\n",
       "        0.2259816 , -0.35960311, -0.11642013, -0.27040716, -0.06370868,\n",
       "       -0.0877484 , -1.60157805,  0.1383752 ,  0.34689629,  0.        ,\n",
       "        0.        ,  0.        ,  1.        ,  0.        ,  0.        ,\n",
       "        0.        ,  0.        ,  0.        ,  1.        ,  0.        ,\n",
       "        0.        ,  0.        ,  0.        ,  0.        ,  1.        ,\n",
       "        0.        ,  0.        ,  0.        ,  0.        ,  0.        ,\n",
       "        0.        ,  0.        ,  0.        ,  0.        ,  0.        ,\n",
       "        0.        ,  0.        ,  0.        ,  0.        ,  0.        ,\n",
       "        0.        ,  0.        ,  0.        ,  0.        ,  0.        ,\n",
       "        0.        ,  1.        ,  0.        ,  0.        ,  0.        ,\n",
       "        0.        ,  0.        ,  0.        ,  0.        ,  0.        ,\n",
       "        1.        ,  0.        ,  0.        ,  0.        ,  0.        ,\n",
       "        0.        ,  1.        ,  0.        ,  0.        ,  0.        ,\n",
       "        0.        ,  0.        ,  1.        ,  0.        ,  0.        ,\n",
       "        0.        ,  0.        ,  1.        ,  0.        ,  0.        ,\n",
       "        0.        ,  0.        ,  0.        ,  0.        ,  0.        ,\n",
       "        0.        ,  0.        ,  0.        ,  0.        ,  0.        ,\n",
       "        0.        ,  0.        ,  0.        ,  0.        ,  0.        ,\n",
       "        0.        ,  1.        ,  0.        ,  0.        ,  0.        ,\n",
       "        0.        ,  0.        ,  0.        ,  0.        ,  0.        ,\n",
       "        0.        ,  0.        ,  0.        ,  0.        ,  0.        ,\n",
       "        0.        ,  0.        ,  1.        ,  0.        ,  0.        ,\n",
       "        0.        ,  0.        ,  1.        ,  0.        ,  0.        ,\n",
       "        0.        ,  0.        ,  1.        ,  0.        ,  0.        ,\n",
       "        0.        ,  0.        ,  1.        ,  0.        ,  0.        ,\n",
       "        0.        ,  0.        ,  0.        ,  0.        ,  0.        ,\n",
       "        0.        ,  0.        ,  1.        ,  0.        ,  0.        ,\n",
       "        1.        ,  0.        ,  0.        ,  0.        ,  0.        ,\n",
       "        1.        ,  0.        ,  0.        ,  0.        ,  0.        ,\n",
       "        0.        ,  0.        ,  0.        ,  0.        ,  0.        ,\n",
       "        0.        ,  0.        ,  0.        ,  1.        ,  0.        ,\n",
       "        0.        ,  0.        ,  0.        ,  1.        ,  0.        ])"
      ]
     },
     "execution_count": 181,
     "metadata": {},
     "output_type": "execute_result"
    }
   ],
   "source": [
    "#test 2\n",
    "preprocessed_data_test_ordinal = test_preprocess_pipeline.fit_transform(df_data)\n",
    "print(preprocessed_data_test_ordinal[0].size)\n",
    "preprocessed_data_test_ordinal[0]"
   ]
  },
  {
   "cell_type": "markdown",
   "metadata": {},
   "source": [
    "### [Эксперименты] 1.4 OneHotEncoder, анализ собственных значений"
   ]
  },
  {
   "cell_type": "markdown",
   "metadata": {},
   "source": [
    "use function DataFrame.dtypes"
   ]
  },
  {
   "cell_type": "code",
   "execution_count": 17,
   "metadata": {},
   "outputs": [
    {
     "data": {
      "text/plain": [
       "object     43\n",
       "int64      35\n",
       "float64     3\n",
       "dtype: int64"
      ]
     },
     "execution_count": 17,
     "metadata": {},
     "output_type": "execute_result"
    }
   ],
   "source": [
    "df_data.dtypes.value_counts()"
   ]
  },
  {
   "cell_type": "code",
   "execution_count": 18,
   "metadata": {},
   "outputs": [
    {
     "name": "stdout",
     "output_type": "stream",
     "text": [
      "<class 'scipy.sparse.csr.csr_matrix'>\n",
      "[array(['Grvl', 'Pave'], dtype=object)]\n",
      "[[0. 1.]\n",
      " [0. 1.]\n",
      " [0. 1.]\n",
      " ...\n",
      " [0. 1.]\n",
      " [0. 1.]\n",
      " [0. 1.]]\n",
      "Grvl element: [1. 0.]\n"
     ]
    }
   ],
   "source": [
    "# test transform of single categorical feature\n",
    "encoder = OneHotEncoder()\n",
    "street_feature_as_array = df_data['Street'].to_numpy().reshape(-1, 1)\n",
    "transformed_array_sparse_mtx = encoder.fit_transform(street_feature_as_array)\n",
    "print(type(transformed_array_sparse_mtx))\n",
    "print(encoder.categories_)\n",
    "transformed_array = transformed_array_sparse_mtx.toarray()\n",
    "print(transformed_array)\n",
    "print('Grvl element: ' + str(transformed_array[52]))"
   ]
  },
  {
   "cell_type": "markdown",
   "metadata": {},
   "source": [
    "Пишут, что гораздо чаще используется кросс-валидация, чем hold-out (отложенная выборка). См. закладки"
   ]
  },
  {
   "cell_type": "markdown",
   "metadata": {},
   "source": [
    "### Анализ собственный значений "
   ]
  },
  {
   "cell_type": "code",
   "execution_count": 19,
   "metadata": {},
   "outputs": [],
   "source": [
    "from scipy.sparse.linalg import eigs\n",
    "from scipy.sparse.linalg import inv"
   ]
  },
  {
   "cell_type": "code",
   "execution_count": 20,
   "metadata": {},
   "outputs": [
    {
     "name": "stdout",
     "output_type": "stream",
     "text": [
      "(292, 292)\n"
     ]
    }
   ],
   "source": [
    "XtX = np.dot(np.transpose(preprocessed_data_test), preprocessed_data_test)\n",
    "print(XtX.shape)"
   ]
  },
  {
   "cell_type": "code",
   "execution_count": 21,
   "metadata": {},
   "outputs": [
    {
     "data": {
      "text/plain": [
       "array([ 3.67643779e+04+0.00000000e+00j,  1.35148288e+04+0.00000000e+00j,\n",
       "        5.39170859e+03+0.00000000e+00j,  4.60186551e+03+0.00000000e+00j,\n",
       "        3.37076469e+03+0.00000000e+00j,  2.41934772e+03+0.00000000e+00j,\n",
       "        1.98167976e+03+0.00000000e+00j,  1.95128111e+03+0.00000000e+00j,\n",
       "        1.78466459e+03+0.00000000e+00j,  1.70273465e+03+0.00000000e+00j,\n",
       "        1.73273841e+03+0.00000000e+00j,  1.61185520e+03+0.00000000e+00j,\n",
       "        1.57314917e+03+0.00000000e+00j,  1.54316255e+03+0.00000000e+00j,\n",
       "        1.50829134e+03+0.00000000e+00j,  1.45422140e+03+0.00000000e+00j,\n",
       "        1.36033398e+03+0.00000000e+00j,  1.33238175e+03+0.00000000e+00j,\n",
       "        1.30841583e+03+0.00000000e+00j,  1.23301097e+03+0.00000000e+00j,\n",
       "        1.16688554e+03+0.00000000e+00j,  1.09967139e+03+0.00000000e+00j,\n",
       "        1.03219809e+03+0.00000000e+00j,  9.39252062e+02+0.00000000e+00j,\n",
       "        9.25405968e+02+0.00000000e+00j,  8.86146692e+02+0.00000000e+00j,\n",
       "        7.33921480e+02+0.00000000e+00j,  6.77194817e+02+0.00000000e+00j,\n",
       "        6.22896837e+02+0.00000000e+00j,  5.92267939e+02+0.00000000e+00j,\n",
       "        4.98644585e+02+0.00000000e+00j,  4.76576281e+02+0.00000000e+00j,\n",
       "        4.59109288e+02+0.00000000e+00j,  4.39898425e+02+0.00000000e+00j,\n",
       "        4.16668403e+02+0.00000000e+00j,  4.11160326e+02+0.00000000e+00j,\n",
       "        3.99057701e+02+0.00000000e+00j,  3.91923055e+02+0.00000000e+00j,\n",
       "        3.88974175e+02+0.00000000e+00j,  3.50640430e+02+0.00000000e+00j,\n",
       "        3.42854485e+02+0.00000000e+00j,  3.31230521e+02+0.00000000e+00j,\n",
       "        3.18015936e+02+0.00000000e+00j,  3.05303351e+02+0.00000000e+00j,\n",
       "        2.94905165e+02+0.00000000e+00j,  2.84229113e+02+0.00000000e+00j,\n",
       "        2.73835142e+02+0.00000000e+00j,  2.66561384e+02+0.00000000e+00j,\n",
       "        2.53931561e+02+0.00000000e+00j,  2.50982745e+02+0.00000000e+00j,\n",
       "        2.42716306e+02+0.00000000e+00j,  2.38530741e+02+0.00000000e+00j,\n",
       "        2.28345822e+02+0.00000000e+00j,  2.21171947e+02+0.00000000e+00j,\n",
       "        2.15824386e+02+0.00000000e+00j,  2.11594583e+02+0.00000000e+00j,\n",
       "        1.98373617e+02+0.00000000e+00j,  1.85939079e+02+0.00000000e+00j,\n",
       "        1.84149084e+02+0.00000000e+00j,  1.80007909e+02+0.00000000e+00j,\n",
       "        1.73665500e+02+0.00000000e+00j,  1.70055074e+02+0.00000000e+00j,\n",
       "        1.60698341e+02+0.00000000e+00j,  1.55998313e+02+0.00000000e+00j,\n",
       "        1.52382708e+02+0.00000000e+00j,  1.45019529e+02+0.00000000e+00j,\n",
       "        1.40650460e+02+0.00000000e+00j,  1.37897199e+02+0.00000000e+00j,\n",
       "        1.35786664e+02+0.00000000e+00j,  1.32126498e+02+0.00000000e+00j,\n",
       "        1.29110175e+02+0.00000000e+00j,  1.25851183e+02+0.00000000e+00j,\n",
       "        1.21312875e+02+0.00000000e+00j,  1.17189452e+02+0.00000000e+00j,\n",
       "        1.14823174e+02+0.00000000e+00j,  1.10537712e+02+0.00000000e+00j,\n",
       "        1.05965480e+02+0.00000000e+00j,  1.02472046e+02+0.00000000e+00j,\n",
       "        1.01277247e+02+0.00000000e+00j,  9.68673669e+01+0.00000000e+00j,\n",
       "        9.57647679e+01+0.00000000e+00j,  9.02619269e+01+0.00000000e+00j,\n",
       "        8.95157511e+01+0.00000000e+00j,  8.58975682e+01+0.00000000e+00j,\n",
       "        8.43558337e+01+0.00000000e+00j,  8.24002598e+01+0.00000000e+00j,\n",
       "        7.95758448e+01+0.00000000e+00j,  7.56505281e+01+0.00000000e+00j,\n",
       "        7.40412047e+01+0.00000000e+00j,  7.32057136e+01+0.00000000e+00j,\n",
       "        7.12390660e+01+0.00000000e+00j,  6.96974536e+01+0.00000000e+00j,\n",
       "        6.91028366e+01+0.00000000e+00j,  6.48741447e+01+0.00000000e+00j,\n",
       "        6.14868528e+01+0.00000000e+00j,  6.11477786e+01+0.00000000e+00j,\n",
       "        5.98591817e+01+0.00000000e+00j,  5.87648853e+01+0.00000000e+00j,\n",
       "        5.65783224e+01+0.00000000e+00j,  5.59919691e+01+0.00000000e+00j,\n",
       "        5.43238171e+01+0.00000000e+00j,  5.28181759e+01+0.00000000e+00j,\n",
       "        5.10468578e+01+0.00000000e+00j,  5.03038134e+01+0.00000000e+00j,\n",
       "        4.93782463e+01+0.00000000e+00j,  4.85700064e+01+0.00000000e+00j,\n",
       "        4.76852660e+01+0.00000000e+00j,  4.66189191e+01+0.00000000e+00j,\n",
       "        4.49992308e+01+0.00000000e+00j,  4.43540227e+01+0.00000000e+00j,\n",
       "        4.37091249e+01+0.00000000e+00j,  4.35223168e+01+0.00000000e+00j,\n",
       "        4.17269597e+01+0.00000000e+00j,  4.07566244e+01+0.00000000e+00j,\n",
       "        4.02397313e+01+0.00000000e+00j,  3.91229187e+01+0.00000000e+00j,\n",
       "        3.79359338e+01+0.00000000e+00j,  3.70246545e+01+0.00000000e+00j,\n",
       "        3.64379604e+01+0.00000000e+00j,  3.56332010e+01+0.00000000e+00j,\n",
       "        3.51260434e+01+0.00000000e+00j,  3.46563033e+01+0.00000000e+00j,\n",
       "        3.30752417e+01+0.00000000e+00j,  3.16114073e+01+0.00000000e+00j,\n",
       "        3.08943275e+01+0.00000000e+00j,  3.10341482e+01+0.00000000e+00j,\n",
       "        2.96562850e+01+0.00000000e+00j,  2.88592108e+01+0.00000000e+00j,\n",
       "        2.81634834e+01+0.00000000e+00j,  2.76722188e+01+0.00000000e+00j,\n",
       "        2.71491431e+01+0.00000000e+00j,  2.61754855e+01+0.00000000e+00j,\n",
       "        2.55298465e+01+0.00000000e+00j,  2.48934985e+01+0.00000000e+00j,\n",
       "        2.45226718e+01+0.00000000e+00j,  2.35603577e+01+0.00000000e+00j,\n",
       "        2.36479001e+01+0.00000000e+00j,  2.21756127e+01+0.00000000e+00j,\n",
       "        2.12177887e+01+0.00000000e+00j,  2.07661064e+01+0.00000000e+00j,\n",
       "        2.03250274e+01+0.00000000e+00j,  1.99764424e+01+0.00000000e+00j,\n",
       "        1.89256140e+01+0.00000000e+00j,  1.85011529e+01+0.00000000e+00j,\n",
       "        1.78607571e+01+0.00000000e+00j,  1.73696267e+01+0.00000000e+00j,\n",
       "        1.67576355e+01+0.00000000e+00j,  1.66339765e+01+0.00000000e+00j,\n",
       "        1.59345878e+01+0.00000000e+00j,  1.56872616e+01+0.00000000e+00j,\n",
       "        1.53820381e+01+0.00000000e+00j,  1.46056879e+01+0.00000000e+00j,\n",
       "        1.44725078e+01+0.00000000e+00j,  1.42738550e+01+0.00000000e+00j,\n",
       "        1.38574559e+01+0.00000000e+00j,  1.30473674e+01+0.00000000e+00j,\n",
       "        1.28934982e+01+0.00000000e+00j,  1.26633038e+01+0.00000000e+00j,\n",
       "        1.22459180e+01+0.00000000e+00j,  1.17925698e+01+0.00000000e+00j,\n",
       "        1.15686977e+01+0.00000000e+00j,  1.13862827e+01+0.00000000e+00j,\n",
       "        1.10241766e+01+0.00000000e+00j,  1.05887941e+01+0.00000000e+00j,\n",
       "        1.04492542e+01+0.00000000e+00j,  1.03761813e+01+0.00000000e+00j,\n",
       "        1.00925210e+01+0.00000000e+00j,  9.75428911e+00+0.00000000e+00j,\n",
       "        9.54411015e+00+0.00000000e+00j,  9.36514848e+00+0.00000000e+00j,\n",
       "        8.77627182e+00+0.00000000e+00j,  8.56757866e+00+0.00000000e+00j,\n",
       "        8.41965589e+00+0.00000000e+00j,  8.29902526e+00+0.00000000e+00j,\n",
       "        8.05262789e+00+0.00000000e+00j,  7.86813111e+00+0.00000000e+00j,\n",
       "        7.71112369e+00+0.00000000e+00j,  7.42009438e+00+0.00000000e+00j,\n",
       "        7.16432793e+00+0.00000000e+00j,  7.02117662e+00+0.00000000e+00j,\n",
       "        6.97855575e+00+0.00000000e+00j,  6.73986420e+00+0.00000000e+00j,\n",
       "        6.56779774e+00+0.00000000e+00j,  6.44959496e+00+0.00000000e+00j,\n",
       "        5.78203741e+00+0.00000000e+00j,  5.40789664e+00+0.00000000e+00j,\n",
       "        5.44157966e+00+0.00000000e+00j,  5.13965175e+00+0.00000000e+00j,\n",
       "        4.90947111e+00+0.00000000e+00j,  4.78678497e+00+0.00000000e+00j,\n",
       "        4.70304073e+00+0.00000000e+00j,  4.52860577e+00+0.00000000e+00j,\n",
       "        4.37171620e+00+0.00000000e+00j,  4.27840094e+00+0.00000000e+00j,\n",
       "        4.21358158e+00+0.00000000e+00j,  4.10122913e+00+0.00000000e+00j,\n",
       "        3.94588994e+00+0.00000000e+00j,  3.79014552e+00+0.00000000e+00j,\n",
       "        3.61285888e+00+0.00000000e+00j,  3.49571496e+00+0.00000000e+00j,\n",
       "        3.45269026e+00+0.00000000e+00j,  3.26716700e+00+0.00000000e+00j,\n",
       "        3.19654551e+00+0.00000000e+00j,  3.11268822e+00+0.00000000e+00j,\n",
       "        2.89005682e+00+0.00000000e+00j,  2.79539481e+00+0.00000000e+00j,\n",
       "        2.67656616e+00+0.00000000e+00j,  2.60218251e+00+0.00000000e+00j,\n",
       "        2.46692320e+00+0.00000000e+00j,  2.21291632e+00+0.00000000e+00j,\n",
       "        2.05693820e+00+0.00000000e+00j,  1.96192942e+00+0.00000000e+00j,\n",
       "        1.91047671e+00+0.00000000e+00j,  1.87245974e+00+0.00000000e+00j,\n",
       "        1.83472651e+00+0.00000000e+00j,  1.79398309e+00+0.00000000e+00j,\n",
       "        2.12062502e-01+0.00000000e+00j,  1.61930571e+00+0.00000000e+00j,\n",
       "        1.59569628e+00+0.00000000e+00j,  2.72091522e-01+0.00000000e+00j,\n",
       "        3.10356051e-01+0.00000000e+00j,  1.48337050e+00+0.00000000e+00j,\n",
       "        1.41111918e+00+0.00000000e+00j,  1.39891850e+00+0.00000000e+00j,\n",
       "        1.35576811e+00+0.00000000e+00j,  4.27643100e-01+0.00000000e+00j,\n",
       "        4.71548121e-01+0.00000000e+00j,  4.99159621e-01+0.00000000e+00j,\n",
       "        1.27253959e+00+0.00000000e+00j,  6.13106457e-01+0.00000000e+00j,\n",
       "        6.34025299e-01+0.00000000e+00j,  1.12942851e+00+0.00000000e+00j,\n",
       "        1.12210719e+00+0.00000000e+00j,  1.09157357e+00+0.00000000e+00j,\n",
       "        1.04518047e+00+0.00000000e+00j,  7.13686260e-01+0.00000000e+00j,\n",
       "        9.66760908e-01+0.00000000e+00j,  9.55617661e-01+0.00000000e+00j,\n",
       "        8.85664144e-01+0.00000000e+00j,  8.01306846e-01+0.00000000e+00j,\n",
       "        8.11864568e-01+0.00000000e+00j,  8.20418652e-01+0.00000000e+00j,\n",
       "        8.67003865e-01+0.00000000e+00j,  8.58205383e-01+0.00000000e+00j,\n",
       "        8.46695456e-01+0.00000000e+00j, -9.58294863e-12+0.00000000e+00j,\n",
       "       -1.70610646e-12+0.00000000e+00j,  9.45894524e-13+0.00000000e+00j,\n",
       "        2.74196479e-13+4.17657047e-13j,  2.74196479e-13-4.17657047e-13j,\n",
       "       -2.38463407e-14+4.69470854e-13j, -2.38463407e-14-4.69470854e-13j,\n",
       "       -4.48251425e-13+0.00000000e+00j,  3.93164596e-13+1.45704586e-13j,\n",
       "        3.93164596e-13-1.45704586e-13j,  3.77405080e-13+3.81806532e-14j,\n",
       "        3.77405080e-13-3.81806532e-14j,  7.95577086e-14+3.67059459e-13j,\n",
       "        7.95577086e-14-3.67059459e-13j,  1.81523389e-13+2.86133643e-13j,\n",
       "        1.81523389e-13-2.86133643e-13j, -2.79377021e-13+1.83877350e-13j,\n",
       "       -2.79377021e-13-1.83877350e-13j, -1.01082353e-13+2.59962104e-13j,\n",
       "       -1.01082353e-13-2.59962104e-13j, -2.72342827e-13+0.00000000e+00j,\n",
       "       -2.48161000e-13+7.17795567e-14j, -2.48161000e-13-7.17795567e-14j,\n",
       "       -1.78422620e-13+1.67961725e-13j, -1.78422620e-13-1.67961725e-13j,\n",
       "        1.12190252e-13+1.99925770e-13j,  1.12190252e-13-1.99925770e-13j,\n",
       "        1.58383327e-13+8.08922236e-14j,  1.58383327e-13-8.08922236e-14j,\n",
       "        1.89808753e-14+1.70736841e-13j,  1.89808753e-14-1.70736841e-13j,\n",
       "       -1.63448063e-13+0.00000000e+00j,  9.27546105e-14+0.00000000e+00j,\n",
       "        6.73639931e-14+2.13901595e-14j,  6.73639931e-14-2.13901595e-14j,\n",
       "       -1.05412450e-13+0.00000000e+00j, -2.25852816e-14+6.94206423e-14j,\n",
       "       -2.25852816e-14-6.94206423e-14j, -5.15263392e-14+5.92511068e-14j,\n",
       "       -5.15263392e-14-5.92511068e-14j, -5.28312555e-14+0.00000000e+00j,\n",
       "       -2.26787832e-15+0.00000000e+00j,  2.58085944e-18+0.00000000e+00j,\n",
       "       -3.73153200e-22+0.00000000e+00j,  9.22601583e-27+0.00000000e+00j])"
      ]
     },
     "execution_count": 21,
     "metadata": {},
     "output_type": "execute_result"
    }
   ],
   "source": [
    "e_vals, e_vectors = eigs(XtX, 290)\n",
    "e_vals"
   ]
  },
  {
   "cell_type": "code",
   "execution_count": 22,
   "metadata": {},
   "outputs": [],
   "source": [
    "# this command sometimes throws \"Factor is exactly singular\", so we comment it out.\n",
    "#eigs(inv(XtX), 100);"
   ]
  },
  {
   "cell_type": "markdown",
   "metadata": {},
   "source": [
    "min eigenvalues:       \n",
    "       \n",
    "       -1.46936091e-13-3.36501025e-13j,  4.00680184e-14+3.36715826e-13j,\n",
    "        4.00680184e-14-3.36715826e-13j,  3.27847335e-13+4.83837074e-14j,\n",
    "        3.27847335e-13-4.83837074e-14j,  3.06952410e-13+0.00000000e+00j,\n",
    "        2.39065398e-13+1.67944371e-13j,  2.39065398e-13-1.67944371e-13j,\n",
    "       -2.58602867e-13+1.06867170e-13j, -2.58602867e-13-1.06867170e-13j,\n",
    "       -2.85274987e-13+0.00000000e+00j, -1.07135117e-13+2.36030486e-13j,\n",
    "       -1.07135117e-13-2.36030486e-13j,  3.35811568e-14+2.24558764e-13j,\n",
    "        3.35811568e-14-2.24558764e-13j,  1.41673084e-13+1.39878617e-13j,\n",
    "        1.41673084e-13-1.39878617e-13j, -1.51199098e-13+1.18577370e-13j,\n",
    "       -1.51199098e-13-1.18577370e-13j,  5.29510951e-14+1.52263207e-13j,\n",
    "        5.29510951e-14-1.52263207e-13j, -1.22751738e-13+4.93295961e-14j,\n",
    "       -1.22751738e-13-4.93295961e-14j, -1.24677735e-13+0.00000000e+00j,\n",
    "        1.09252641e-13+0.00000000e+00j,  3.00100431e-14+9.49647064e-14j,\n",
    "        3.00100431e-14-9.49647064e-14j, -3.10036527e-15+5.30780476e-14j,\n",
    "       -3.10036527e-15-5.30780476e-14j,  3.44370538e-14+0.00000000e+00j,\n",
    "       -2.31522579e-14+0.00000000e+00j,  8.12223381e-15+5.72864175e-15j,\n",
    "        8.12223381e-15-5.72864175e-15j, -1.84537544e-20+0.00000000e+00j,\n",
    "        4.71461149e-18+0.00000000e+00j,  3.24852434e-28+0.00000000e+00j"
   ]
  },
  {
   "cell_type": "code",
   "execution_count": 23,
   "metadata": {},
   "outputs": [
    {
     "name": "stdout",
     "output_type": "stream",
     "text": [
      "Число обусловленности матрицы: 3836436914511114.0\n"
     ]
    }
   ],
   "source": [
    "condition_num = abs(e_vals.max())/abs(e_vals.min())\n",
    "print('Число обусловленности матрицы: ' + str(condition_num))"
   ]
  },
  {
   "cell_type": "markdown",
   "metadata": {},
   "source": [
    "Число обусловленности матрицы очень велико, то есть задача плохо обусловлена. Признак мультиколлинеарности.\n",
    "Можно попробовать решить проблему с помощью регуляризации.\n",
    "Дописать про последствия мультиколлинеарности завтра... \n",
    "\n",
    "См. пример в конспекте (неделя 2, пункт 1), а также в лекция Воронцова. Очень много близких к оптимальному алгоритмов (наборов весов), оптимальных наборов весов. Веса получаются ненадежные, не устойчивые к изменениям в данных.\n",
    "\n",
    "При некоторых входных данных возникает даже такая ошибка:\n",
    "RuntimeError: Factor is exactly singular\n",
    "при вызове eigs()\n",
    "\n",
    "То есть матрица вырожденная."
   ]
  },
  {
   "cell_type": "markdown",
   "metadata": {},
   "source": [
    "### 2. Train-test split (hold-out). Estimator "
   ]
  },
  {
   "cell_type": "code",
   "execution_count": 158,
   "metadata": {},
   "outputs": [],
   "source": [
    "from sklearn.model_selection import train_test_split\n",
    "\n",
    "df_data_X = df_data.iloc[:,:-1]\n",
    "df_data_y = df_data.iloc[:,-1]\n",
    "\n",
    "train_X, test_X, train_y, test_y = train_test_split(df_data_X, df_data_y, test_size=0.3, random_state=19)"
   ]
  },
  {
   "cell_type": "markdown",
   "metadata": {},
   "source": [
    "### Метрика "
   ]
  },
  {
   "cell_type": "code",
   "execution_count": 159,
   "metadata": {},
   "outputs": [],
   "source": [
    "log_rmse_metric = make_scorer(lambda y_true, y_pred: \\\n",
    "                            mean_squared_error(np.log(y_true), np.log(y_pred), squared=False), greater_is_better=False)\n",
    "\n",
    "#В режиме leave-one-out np.log не работает.."
   ]
  },
  {
   "cell_type": "markdown",
   "metadata": {},
   "source": [
    "#### ColumnTransformer (StandardScaler + OneHotEncoder)\n",
    "\n",
    "###### StandardScaler info\n",
    "If a feature has a variance that is orders of magnitude larger that others, it might dominate the objective function and make the estimator unable to learn from other features correctly as expected."
   ]
  },
  {
   "cell_type": "code",
   "execution_count": 37,
   "metadata": {},
   "outputs": [],
   "source": [
    "#log_rmse_metric = make_scorer(\\\n",
    "#    lambda y_true, y_pred: mean_squared_error(np.log(y_true), np.log(y_pred), squared=False), greater_is_better=False)"
   ]
  },
  {
   "cell_type": "markdown",
   "metadata": {},
   "source": [
    "## Linear models \n",
    "\n",
    "Info:\n",
    "https://scikit-learn.org/stable/modules/linear_model.html"
   ]
  },
  {
   "cell_type": "markdown",
   "metadata": {},
   "source": [
    "### Model 1. Standard Linear Regression, without regularization"
   ]
  },
  {
   "cell_type": "markdown",
   "metadata": {},
   "source": [
    "The coefficient estimates for Ordinary Least Squares rely on the independence of the features. When features are correlated and the columns of the design matrix  have an approximate linear dependence, the design matrix becomes close to singular and as a result, the least-squares estimate becomes highly sensitive to random errors in the observed target, producing a large variance. This situation of multicollinearity can arise, for example, when data are collected without an experimental design."
   ]
  },
  {
   "cell_type": "code",
   "execution_count": 38,
   "metadata": {},
   "outputs": [
    {
     "data": {
      "text/plain": [
       "Pipeline(steps=[('preprocessing',\n",
       "                 Pipeline(steps=[('remove_columns',\n",
       "                                  <__main__.DataFrameColumnsRemove object at 0x000002BB81A93EB0>),\n",
       "                                 ('column_based_preprocess_pipeline',\n",
       "                                  ColumnTransformer(transformers=[('numerical',\n",
       "                                                                   Pipeline(steps=[('imputer',\n",
       "                                                                                    SimpleImputer()),\n",
       "                                                                                   ('scaler',\n",
       "                                                                                    StandardScaler())]),\n",
       "                                                                   <sklearn.compose._column_transformer.make_column_selector object at 0x000002BB81AA8190>),\n",
       "                                                                  ('categorical',\n",
       "                                                                   Pipeline(steps=[('imputer',\n",
       "                                                                                    SimpleImputer(fill_value='<missing>',\n",
       "                                                                                                  strategy='constant')),\n",
       "                                                                                   ('one_hot_encoder',\n",
       "                                                                                    OneHotEncoder(handle_unknown='ignore'))]),\n",
       "                                                                   <sklearn.compose._column_transformer.make_column_selector object at 0x000002BB81AA81C0>)]))])),\n",
       "                ('model', LinearRegression())])"
      ]
     },
     "execution_count": 38,
     "metadata": {},
     "output_type": "execute_result"
    }
   ],
   "source": [
    "model = LinearRegression()\n",
    "pipeline = Pipeline([('preprocessing', preprocessing_pipeline), ('model', model)])\n",
    "pipeline.fit(train_X, train_y)"
   ]
  },
  {
   "cell_type": "code",
   "execution_count": 39,
   "metadata": {},
   "outputs": [
    {
     "data": {
      "text/plain": [
       "array(['x0_C (all)', 'x0_FV', 'x0_RH', 'x0_RL', 'x0_RM', 'x1_Grvl',\n",
       "       'x1_Pave', 'x2_IR1', 'x2_IR2', 'x2_IR3', 'x2_Reg', 'x3_Bnk',\n",
       "       'x3_HLS', 'x3_Low', 'x3_Lvl', 'x4_AllPub', 'x4_NoSeWa',\n",
       "       'x5_Corner', 'x5_CulDSac', 'x5_FR2', 'x5_FR3', 'x5_Inside',\n",
       "       'x6_Gtl', 'x6_Mod', 'x6_Sev', 'x7_Blmngtn', 'x7_Blueste',\n",
       "       'x7_BrDale', 'x7_BrkSide', 'x7_ClearCr', 'x7_CollgCr',\n",
       "       'x7_Crawfor', 'x7_Edwards', 'x7_Gilbert', 'x7_IDOTRR',\n",
       "       'x7_MeadowV', 'x7_Mitchel', 'x7_NAmes', 'x7_NPkVill', 'x7_NWAmes',\n",
       "       'x7_NoRidge', 'x7_NridgHt', 'x7_OldTown', 'x7_SWISU', 'x7_Sawyer',\n",
       "       'x7_SawyerW', 'x7_Somerst', 'x7_StoneBr', 'x7_Timber',\n",
       "       'x7_Veenker', 'x8_Artery', 'x8_Feedr', 'x8_Norm', 'x8_PosA',\n",
       "       'x8_PosN', 'x8_RRAe', 'x8_RRAn', 'x8_RRNe', 'x8_RRNn', 'x9_Artery',\n",
       "       'x9_Feedr', 'x9_Norm', 'x9_PosA', 'x9_PosN', 'x9_RRAe', 'x9_RRAn',\n",
       "       'x9_RRNn', 'x10_1Fam', 'x10_2fmCon', 'x10_Duplex', 'x10_Twnhs',\n",
       "       'x10_TwnhsE', 'x11_1.5Fin', 'x11_1.5Unf', 'x11_1Story',\n",
       "       'x11_2.5Fin', 'x11_2.5Unf', 'x11_2Story', 'x11_SFoyer', 'x11_SLvl',\n",
       "       'x12_Flat', 'x12_Gable', 'x12_Gambrel', 'x12_Hip', 'x12_Mansard',\n",
       "       'x12_Shed', 'x13_CompShg', 'x13_Membran', 'x13_Tar&Grv',\n",
       "       'x13_WdShake', 'x13_WdShngl', 'x14_AsbShng', 'x14_BrkComm',\n",
       "       'x14_BrkFace', 'x14_CemntBd', 'x14_HdBoard', 'x14_ImStucc',\n",
       "       'x14_MetalSd', 'x14_Plywood', 'x14_Stone', 'x14_Stucco',\n",
       "       'x14_VinylSd', 'x14_Wd Sdng', 'x14_WdShing', 'x15_AsbShng',\n",
       "       'x15_AsphShn', 'x15_Brk Cmn', 'x15_BrkFace', 'x15_CmentBd',\n",
       "       'x15_HdBoard', 'x15_ImStucc', 'x15_MetalSd', 'x15_Plywood',\n",
       "       'x15_Stone', 'x15_Stucco', 'x15_VinylSd', 'x15_Wd Sdng',\n",
       "       'x15_Wd Shng', 'x16_<missing>', 'x16_BrkCmn', 'x16_BrkFace',\n",
       "       'x16_None', 'x16_Stone', 'x17_Ex', 'x17_Fa', 'x17_Gd', 'x17_TA',\n",
       "       'x18_Ex', 'x18_Fa', 'x18_Gd', 'x18_Po', 'x18_TA', 'x19_BrkTil',\n",
       "       'x19_CBlock', 'x19_PConc', 'x19_Slab', 'x19_Stone', 'x19_Wood',\n",
       "       'x20_<missing>', 'x20_Ex', 'x20_Fa', 'x20_Gd', 'x20_TA',\n",
       "       'x21_<missing>', 'x21_Fa', 'x21_Gd', 'x21_Po', 'x21_TA',\n",
       "       'x22_<missing>', 'x22_Av', 'x22_Gd', 'x22_Mn', 'x22_No',\n",
       "       'x23_<missing>', 'x23_ALQ', 'x23_BLQ', 'x23_GLQ', 'x23_LwQ',\n",
       "       'x23_Rec', 'x23_Unf', 'x24_<missing>', 'x24_ALQ', 'x24_BLQ',\n",
       "       'x24_GLQ', 'x24_LwQ', 'x24_Rec', 'x24_Unf', 'x25_Floor',\n",
       "       'x25_GasA', 'x25_GasW', 'x25_Grav', 'x25_OthW', 'x25_Wall',\n",
       "       'x26_Ex', 'x26_Fa', 'x26_Gd', 'x26_Po', 'x26_TA', 'x27_N', 'x27_Y',\n",
       "       'x28_<missing>', 'x28_FuseA', 'x28_FuseF', 'x28_FuseP',\n",
       "       'x28_SBrkr', 'x29_Ex', 'x29_Fa', 'x29_Gd', 'x29_TA', 'x30_Maj1',\n",
       "       'x30_Maj2', 'x30_Min1', 'x30_Min2', 'x30_Mod', 'x30_Sev',\n",
       "       'x30_Typ', 'x31_<missing>', 'x31_Ex', 'x31_Fa', 'x31_Gd', 'x31_Po',\n",
       "       'x31_TA', 'x32_2Types', 'x32_<missing>', 'x32_Attchd',\n",
       "       'x32_Basment', 'x32_BuiltIn', 'x32_CarPort', 'x32_Detchd',\n",
       "       'x33_<missing>', 'x33_Fin', 'x33_RFn', 'x33_Unf', 'x34_<missing>',\n",
       "       'x34_Ex', 'x34_Fa', 'x34_Gd', 'x34_Po', 'x34_TA', 'x35_<missing>',\n",
       "       'x35_Ex', 'x35_Fa', 'x35_Gd', 'x35_Po', 'x35_TA', 'x36_N', 'x36_P',\n",
       "       'x36_Y', 'x37_<missing>', 'x37_GdPrv', 'x37_GdWo', 'x37_MnPrv',\n",
       "       'x37_MnWw', 'x38_COD', 'x38_CWD', 'x38_Con', 'x38_ConLD',\n",
       "       'x38_ConLI', 'x38_ConLw', 'x38_New', 'x38_Oth', 'x38_WD',\n",
       "       'x39_Abnorml', 'x39_AdjLand', 'x39_Alloca', 'x39_Family',\n",
       "       'x39_Normal', 'x39_Partial'], dtype=object)"
      ]
     },
     "execution_count": 39,
     "metadata": {},
     "output_type": "execute_result"
    }
   ],
   "source": [
    "cat_feature_names = preprocessing_pipeline.named_steps['column_based_preprocess_pipeline'].transformers_[1][1].\\\n",
    "named_steps['one_hot_encoder'].get_feature_names()\n",
    "cat_feature_names"
   ]
  },
  {
   "cell_type": "code",
   "execution_count": 40,
   "metadata": {},
   "outputs": [
    {
     "name": "stdout",
     "output_type": "stream",
     "text": [
      "[  2436.42911814   1132.38094945   6854.7772293    8827.7484443\n",
      "   8059.75081552  11127.07450668   2121.00624818   3727.14703915\n",
      "  11275.42644737   1223.70536311    538.26158107  12520.27456082\n",
      "   6012.33852933  17276.27996299  -2074.53902255  18764.586385\n",
      "   -541.3636808      97.84744941   2327.37870374   -544.60566601\n",
      "  -5378.75620466  -1537.69068151   2953.44968399   3981.2100373\n",
      "   -370.31976991   4907.93030804    598.01050394    937.71437506\n",
      "    345.05123394    886.09077471   1129.30574237    713.03454706\n",
      "   2515.37604035   -207.7568739   -1032.65278768  -1139.70889114\n",
      "  -2966.49292932   2346.5522918   -2916.06110649   2686.22634143\n",
      "    849.77540251 -31440.98437252  31440.98437254   2286.89484854\n",
      "    -83.50088719  -4030.72187915   1827.32791774   3328.02769845\n",
      "   2564.97449384  -6670.39167159]\n",
      "[ -8446.7698067   -1026.4375549    8240.90820711  -1010.85767631\n",
      "  -6553.4777464    2640.30722085   -150.98757551  -2986.13768328\n",
      "   5318.57756007  -2700.08418312   4431.80240735   2640.30722085\n",
      "  -2196.54203353   -984.23559888    540.47041159   2640.30722085\n",
      " 117877.89699594 -19283.27371968 -12430.12725403 -77811.38896678\n",
      " -10993.41427628   2640.30722085 -92422.06778995  16469.82107239\n",
      "  21572.91336285  35220.05164537  16518.9744885    3119.93408151\n",
      "  -7147.31526398   4027.38118246    964.53182925  -4638.72394761\n",
      "   -371.39300492   3235.24921483    810.33590844  -8186.75798321\n",
      "  21223.74692279  16164.00179747   4947.56051731 -22311.1190981\n",
      "  -5428.58655018 -12970.04815638  11172.90446405  -4611.70191375\n",
      " -15997.97969792  -3645.63216884  14136.96454649 -12746.12819688\n",
      "  -4168.30190828  22421.07742544]\n",
      "284\n"
     ]
    }
   ],
   "source": [
    "print(model.coef_[:50])\n",
    "print(model.coef_[-50:])\n",
    "print(model.coef_.size)"
   ]
  },
  {
   "cell_type": "code",
   "execution_count": 41,
   "metadata": {},
   "outputs": [
    {
     "name": "stdout",
     "output_type": "stream",
     "text": [
      "[106875.68937917 354809.17633693  98911.9082323  159041.46518521\n",
      " 211265.8984094 ]\n",
      "[224342.34673543 358436.30409429 179570.73619691  79100.44074645\n",
      " 290182.71630319]\n"
     ]
    }
   ],
   "source": [
    "predicted_y = pipeline.predict(test_X)\n",
    "print(predicted_y[:5])\n",
    "print(predicted_y[-5:])"
   ]
  },
  {
   "cell_type": "code",
   "execution_count": 42,
   "metadata": {},
   "outputs": [
    {
     "name": "stdout",
     "output_type": "stream",
     "text": [
      "Standard Linear Regression: r2=0.855709659758124\n"
     ]
    }
   ],
   "source": [
    "r_squared = pipeline.score(test_X, test_y)\n",
    "print('Standard Linear Regression: r2=' + str(r_squared))"
   ]
  },
  {
   "cell_type": "code",
   "execution_count": 43,
   "metadata": {},
   "outputs": [
    {
     "name": "stdout",
     "output_type": "stream",
     "text": [
      "[106875.68937917 354809.17633693  98911.9082323  159041.46518521\n",
      " 211265.8984094  104656.87052732 134854.39041212 131755.47519933\n",
      " 194602.21729935 147077.17034178 114289.63213709 146942.05173158\n",
      " 314256.26049435 179624.9694814  120846.81587509 164295.79466597\n",
      " 200315.0860888  223515.54239086 275964.68958824 123444.76982312\n",
      " 116362.83802232 386492.70914084 192117.19480471 118948.08471592\n",
      "  31686.38618409 149202.96149258 211015.8166307  119856.66192737\n",
      "  83396.52401352 123119.36672819 219757.13334993 338828.96479522\n",
      " 178896.22398167 153791.68072463 127843.95894866 157444.57304113\n",
      " 191807.21409538 297055.83326481 144406.0645896  217804.45325892\n",
      " 124780.07555629  96665.90974538 150236.99512096 134073.19774116\n",
      " 209401.42726599  49709.20770773 179106.64560723 241146.51896251\n",
      " 175034.56632698 225686.02466295 266395.698831   166607.08920657\n",
      " 124919.86250306  90751.92491143 158358.27557826 205477.02813908\n",
      " 185142.8195591  277531.49229229 175662.30302082 115716.13217588\n",
      " 142632.58914434 121078.32214444 124666.47154555 162768.85985556\n",
      " 271568.36398108 163213.70150981 148852.28719421 315283.82988022\n",
      " 223281.45519334 297875.61378569 121613.50467429 194332.3958173\n",
      " 121554.1512947  181319.08626284  80461.02877849 149470.38673014\n",
      " 266353.17262252 150365.9134536  120962.47270964 329673.18479169\n",
      " 124777.64634798 230101.95443702 169963.32865191 139782.06310399\n",
      " 142250.36090877 161169.15948058 120192.28237477 108998.20284242\n",
      " 135757.2367433  370593.25945228 158492.47727105 195923.87662976\n",
      " 151007.5154728  120312.49835912 112130.42103251 100973.78061129\n",
      " 185839.30490447 184019.28349733 168064.37626743 207079.59283966\n",
      " 170474.13479237 122337.05213475 281462.88288202 129341.52091779\n",
      " 299801.80115158 219466.75229412 313003.2784369  112768.86900767\n",
      " 211231.65735303 165319.30374853 268713.39201403 167723.99512198\n",
      " 156319.27135675  78181.30598557 208044.73174299  95312.78414916\n",
      " 239680.61309042 130074.91080107 169766.10952445 227008.82029962\n",
      " 170308.60234342 198575.27049452 122995.78063548 185385.83808427\n",
      " 339828.892685   228411.11206722 329275.56773832 314297.30002346\n",
      " 137084.40861466 159466.12122012 230155.83778246 115017.10094063\n",
      "  62986.99979871 180765.72803708 121323.69367885 207582.24882366\n",
      " 117865.266369   181787.34151418 114404.24790571 101583.36984812\n",
      " 131377.24213313 148128.01619514 137964.53436949 152473.14474332\n",
      "  88802.82713017  81794.07360688 151753.47321136 166954.41060672\n",
      " 244809.58349805 242963.66812095 278457.30124329 172024.84910377\n",
      " 367218.0567704  155654.69924143 205842.51267322 150171.22047306\n",
      " 126091.04090533 157885.3011197   75189.0609473  163285.99720871\n",
      " 136961.40235867 215620.03960126 177459.47737764 242424.18429074\n",
      " 131487.98157535 150706.61849733 183918.42712605 104839.44155465\n",
      " 149778.13357965  97899.47211415 193055.85644163  96574.33375324\n",
      " 195891.20010005 258154.14858579 167110.72954089 135783.16883284\n",
      " 296408.35406098 191867.2517504  123548.31953567 324435.71559815\n",
      " 271030.96413048 237829.94879059 194334.77950143 117825.90264147\n",
      " 300053.16772888 178420.51338873 248080.86351844 197475.26713618\n",
      "  61317.42197526  16568.23304516  45693.77380602 124852.06663102\n",
      " 109203.54575121 203344.99496778 139892.16658666 231011.34322853\n",
      " 185601.95622386 237012.1925875  243723.8369835  200826.47409046\n",
      " 187575.16161161 128225.89364249 180549.42131479 256656.05164473\n",
      " 182643.13899355 194474.91813202  95543.59532166 185508.19576754\n",
      " 112547.95726382 408718.08147305 124090.2422035  150385.2881279\n",
      " 165200.9182913  193598.72924375 115375.06589165 122042.875944\n",
      " 135170.52204372 181768.67133778  83871.88024695 330687.4255381\n",
      " 234503.07366029 135911.6721649  117069.36149153 151432.83179592\n",
      " 195921.29998678 364430.49806968 221864.65634862 132134.19095937\n",
      " 134259.86633018  78288.23554014 126664.15652436 249757.21164844\n",
      "  80407.48525473 162857.34475033 102298.03832872 303944.09684336\n",
      " 200622.6706755  146451.41703706 183767.23901708  72150.05951809\n",
      " 102037.32420474 293415.49666715 194628.02314092 286611.04924004\n",
      " 152475.10891835 172223.18128758 297297.90012276 233143.61173498\n",
      " 131443.00239865  86727.91016361 129706.48612081 197422.70423375\n",
      " 165707.80690868 150051.27414867 120614.25984183 197542.736043\n",
      " 263831.18457708 194675.83756732 139533.34192298  89263.66579851\n",
      " 181495.11631515 353341.65812553 154437.02802525 194414.97460902\n",
      " 186870.63413585 145420.76172025 413276.28610202 196268.45664733\n",
      " 178044.21493573 186452.18592226 236879.73836103 290235.78435584\n",
      " 184837.92551911 142171.05412179 115476.813449   115594.77222226\n",
      "  98200.39269992  67529.93272012 167553.80883534 263972.96482233\n",
      " 174473.80393142 211217.02181057 168501.12467677 248323.45247864\n",
      " 159923.07855857 137159.44649413 131302.37825745 142422.37143266\n",
      " 158721.71825357 220200.70672048 371397.0612276   77149.40739036\n",
      " 146000.61854965 333012.59686566 137664.66368246 156626.64031175\n",
      " 181195.49937435 190176.18715151 147365.27566565 118582.45528647\n",
      " 152329.10815516 106799.6568486  196270.61104714 143118.60331196\n",
      " 137849.3634721  163652.63212228 134292.31834708 215141.66307496\n",
      " 296974.80980324 235656.94693111 172956.60493525 149194.8714891\n",
      " 125186.30034079 112036.2028626  195225.51385513 145811.13844604\n",
      " 215256.88563894 250863.84564249 244837.13604286 170663.52209808\n",
      " 211740.13602461 220302.33167079 243996.29011854  89124.53677886\n",
      " 257724.51585984  91849.3525106  193387.02817341 197254.50298486\n",
      " 143861.44364057 370451.06012698  79426.73822561 200390.98952281\n",
      " 364055.18080514 139981.10207688 355344.62269458 463523.22006422\n",
      " 262403.7151795  129634.73557033 343423.70347925 169274.86213629\n",
      " 200063.19654635 231589.80913944 204737.10300487 161803.41353859\n",
      " 338050.35069777 232293.80836278 158905.72182482  80978.87986505\n",
      " 312504.03292204 322989.17696076 278144.50809338 114728.73672905\n",
      " 155677.6105126  117461.03582312 187908.77440078 127245.05643686\n",
      " 126742.34013297  97496.25107227 192754.83985048 129088.15445941\n",
      " 170310.79098943 123638.77321062 111703.4420665  133808.53925077\n",
      " 160311.57737192 145054.54859451 151941.85325388 212702.00408596\n",
      " 112507.78990823 129860.3850681  343795.0229171  153017.68488377\n",
      " 107316.17295095 160601.72108142  89585.8444266  149817.71137342\n",
      " 178156.21766883 198279.4163983  137080.95501221 117651.81294064\n",
      " 205604.25702579 316969.05959759 143649.21970175 199468.54697545\n",
      " 177119.6157485  113356.77121994 368231.72135728 191905.87523518\n",
      " 104208.54189872 187320.1660716  122255.59206337 159499.29670434\n",
      " 298211.87380365 174124.40166481 104417.89421563 211119.2986488\n",
      " 171534.23729517  94105.96765856 239541.44634992 154154.80413794\n",
      " 298677.79962308 196830.39965552 228512.19468582  69292.2876764\n",
      " 160730.66163806 177634.58723416 319944.08925536  80256.76696985\n",
      " 126006.98819733 231880.22455935 127129.66085304 409862.07490552\n",
      " 191151.08877279 181748.90321414 297276.91057368 147007.1912261\n",
      " 181078.80711511 294740.8839291  239837.77633018 178806.73108361\n",
      " 343532.44570686 124990.10509465 150617.88644681 139813.50979557\n",
      " 233616.52541364 226143.56238104 192626.38454854 180927.64930145\n",
      "  85607.12731303 191673.23305299 106828.94671296 107105.27102693\n",
      " 138572.89687972 224342.34673543 358436.30409429 179570.73619691\n",
      "  79100.44074645 290182.71630319]\n"
     ]
    }
   ],
   "source": [
    "print(predicted_y)"
   ]
  },
  {
   "cell_type": "code",
   "execution_count": 44,
   "metadata": {},
   "outputs": [
    {
     "data": {
      "text/plain": [
       "418    126000\n",
       "595    319000\n",
       "Name: SalePrice, dtype: int64"
      ]
     },
     "execution_count": 44,
     "metadata": {},
     "output_type": "execute_result"
    }
   ],
   "source": [
    "test_y[0:2]"
   ]
  },
  {
   "cell_type": "code",
   "execution_count": 45,
   "metadata": {},
   "outputs": [
    {
     "data": {
      "text/plain": [
       "array([106875.68937917, 354809.17633693])"
      ]
     },
     "execution_count": 45,
     "metadata": {},
     "output_type": "execute_result"
    }
   ],
   "source": [
    "predicted_y[0:2]"
   ]
  },
  {
   "cell_type": "code",
   "execution_count": 46,
   "metadata": {},
   "outputs": [
    {
     "name": "stdout",
     "output_type": "stream",
     "text": [
      "Standard Linear Regression: root_mean_squared_log_error = 0.1873974822091355\n"
     ]
    }
   ],
   "source": [
    "error = mean_squared_error(np.log(test_y), np.log(predicted_y), squared=False)\n",
    "print('Standard Linear Regression: root_mean_squared_log_error =', error)"
   ]
  },
  {
   "cell_type": "markdown",
   "metadata": {},
   "source": [
    "!!Здесь не применялся Imputer, вместо него все колонки с отсутствующими значениями были просто удалены!!\n",
    "\n",
    "В рамках предварительного анализа данных мы увидели, что существует корреляция между некоторыми признаками (факторами). Регуляризацию мы пока не подключали. Как результат, получили достаточно большие веса. Они также и неустойчивые к изменениям во входных данных. Как следствие, неустойчивым будет и предсказание.\n",
    "Провел мини-эксперимент: попробовал в тренировочной выборке для одного из элементов выборки увеличить всего лишь на 1 одно из значений его признаков. В результате веса и предсказания сразу начали плыть, на 10-20 изменились где-то. А если увеличивал, скажем, в 10 раз, то еще большие изменения на выходе: веса менялись на 1000, 2000. Явно неустойчивость.\n",
    "\n",
    "Видно еще, что ошибка на тестовой выборке довольно сильно разнится в зависимости от разбивки на train/test:\n",
    "наблюдались такие значения: 0.142, 0.146, 0.156, 0.166, 0.257\n",
    "\n",
    "Иногда еще вылазили отрицательные значения в предсказаниях, из-за чего логарифм не мог вычислиться.\n"
   ]
  },
  {
   "cell_type": "markdown",
   "metadata": {},
   "source": [
    "#### Эксперимент "
   ]
  },
  {
   "cell_type": "raw",
   "metadata": {},
   "source": [
    "Некоторые результаты до:\n",
    "    \n",
    "print(model.coef_[:5])\n",
    "print(model.coef_[-5:])\n",
    "[2436.42911814 1132.38094945 6854.7772293  8827.7484443  8059.75081552]\n",
    "[ -3645.63216884  14136.96454649 -12746.12819688  -4168.30190828  22421.07742544]\n",
    "\n",
    "print(predicted_y[:5])\n",
    "print(predicted_y[-5:])\n",
    "[106875.68937917 354809.17633693  98911.9082323  159041.46518521  211265.8984094 ]\n",
    "[224342.34673543 358436.30409429 179570.73619691  79100.44074645  290182.71630319]\n",
    "\n",
    "Сделал следующие изменения в элементе с Id=643 тренировочной выборки (разбивка на train-test по random_state=19):\n",
    "    \n",
    "LotFrontage: 75 -> 100\n",
    "LotArea: 13860 -> 33000\n",
    "TotalBsmtSF: 1952 -> 3000\n",
    "    \n",
    "\n",
    "Результаты после:\n",
    "\n",
    "print(model.coef_[:5])\n",
    "print(model.coef_[-5:])\n",
    "[2500.82985552 1093.38576167 6899.67968955 8798.50325548 8077.64567577]\n",
    "[ -2740.63679216  13869.99655876 -13063.42163806  -4378.08123637  22491.02939347]\n",
    "\n",
    "\n",
    "print(predicted_y[:5])\n",
    "print(predicted_y[-5:])\n",
    "[107833.55281055 354900.57361584  99200.86303686 159077.84382438  211095.86253793]\n",
    "[224419.56716077 358347.10430367 179650.81807733  78778.13234086  289549.95352859]\n",
    "\n",
    "    \n",
    "r2=0.8559000546077438\n",
    "root_mean_squared_error = 0.18840023025676927"
   ]
  },
  {
   "cell_type": "markdown",
   "metadata": {},
   "source": [
    "Видно, что веса очень большие, а также модель, как кажется, не устойчива к изменениям во входных данных (в тренировочной выборке).\n",
    "\n",
    "Также замечено, что root_mean_squared_error на тестовой выборке довольно сильно разнится в зависимости от разбивки на train/test. Наблюдались такие значения: 0.188, 0.191, 0.270, 0.199"
   ]
  },
  {
   "cell_type": "markdown",
   "metadata": {},
   "source": [
    "### Train on the whole training set"
   ]
  },
  {
   "cell_type": "code",
   "execution_count": 47,
   "metadata": {},
   "outputs": [],
   "source": [
    "pipeline.fit(df_data_X, df_data_y);\n",
    "\n",
    "predicted_y = pipeline.predict(df_data_X)"
   ]
  },
  {
   "cell_type": "code",
   "execution_count": 48,
   "metadata": {},
   "outputs": [
    {
     "name": "stdout",
     "output_type": "stream",
     "text": [
      "[-1.28358409e+03  1.45929607e+03  8.10547050e+03  8.70747471e+03\n",
      "  6.62936967e+03  1.09319081e+04  2.01275408e+03  3.28921510e+03\n",
      "  8.60852337e+03  1.35560961e+03  1.44703820e+02  9.66310990e+03\n",
      "  6.13356187e+03  1.63113548e+04 -9.56555101e+02  1.83857737e+04\n",
      "  2.72219554e+02 -7.08098643e+01  1.70382971e+03  5.80887540e+02\n",
      " -3.69648481e+03 -2.95158172e+03  1.25249837e+03  2.84625387e+03\n",
      "  2.36128589e+02  3.83426096e+03  1.66660943e+03  1.86869923e+03\n",
      "  9.27984767e+02  2.85962596e+02  7.91096658e+02  1.48469874e+03\n",
      "  3.20934867e+03  1.00922746e+01 -9.05090492e+02 -6.73327140e+02\n",
      " -2.15221879e+04  1.32380245e+04  2.81654826e+03  5.51205792e+03\n",
      " -4.44427935e+01 -1.61343820e+04  1.61343820e+04 -1.13392390e+03\n",
      "  1.67905629e+03 -5.18067409e+02 -2.70649801e+01  3.08672259e+03\n",
      "  5.90135441e+03 -1.22899426e+04]\n",
      "[ 4821.3837087   1040.99007439 -2559.44833739  2682.42984706\n",
      " -2958.14332752]\n",
      "291\n"
     ]
    }
   ],
   "source": [
    "print(model.coef_[:50])\n",
    "print(model.coef_[-5:])\n",
    "print(model.coef_.size)"
   ]
  },
  {
   "cell_type": "code",
   "execution_count": 49,
   "metadata": {},
   "outputs": [
    {
     "name": "stdout",
     "output_type": "stream",
     "text": [
      "Standard Linear Regression (training set): root_mean_squared_log_error = 0.10971437448454015\n"
     ]
    }
   ],
   "source": [
    "error = mean_squared_error(np.log(df_data_y), np.log(predicted_y), squared=False)\n",
    "print('Standard Linear Regression (training set): root_mean_squared_log_error =', error)"
   ]
  },
  {
   "cell_type": "markdown",
   "metadata": {},
   "source": [
    "### Model 2. Ridge Regression"
   ]
  },
  {
   "cell_type": "markdown",
   "metadata": {},
   "source": [
    "docs:\n",
    "\n",
    "https://scikit-learn.org/stable/modules/generated/sklearn.linear_model.Ridge.html#sklearn.linear_model.Ridge\n",
    "\n",
    "https://scikit-learn.org/stable/modules/generated/sklearn.linear_model.RidgeCV.html#sklearn.linear_model.RidgeCV"
   ]
  },
  {
   "cell_type": "code",
   "execution_count": 50,
   "metadata": {},
   "outputs": [],
   "source": [
    "from sklearn.linear_model import Ridge\n",
    "from sklearn.linear_model import RidgeCV"
   ]
  },
  {
   "cell_type": "code",
   "execution_count": 52,
   "metadata": {},
   "outputs": [],
   "source": [
    "ridge_model = RidgeCV(alphas=range(20, 45, 1), scoring=log_rmse_metric, cv=50)\n",
    "ridge_pipeline = Pipeline([('preprocessing', preprocessing_pipeline), ('model', ridge_model)])"
   ]
  },
  {
   "cell_type": "code",
   "execution_count": 53,
   "metadata": {},
   "outputs": [
    {
     "name": "stdout",
     "output_type": "stream",
     "text": [
      "Wall time: 18.5 s\n"
     ]
    },
    {
     "data": {
      "text/plain": [
       "Pipeline(steps=[('preprocessing',\n",
       "                 Pipeline(steps=[('remove_columns',\n",
       "                                  <__main__.DataFrameColumnsRemove object at 0x000002BB81A93EB0>),\n",
       "                                 ('column_based_preprocess_pipeline',\n",
       "                                  ColumnTransformer(transformers=[('numerical',\n",
       "                                                                   Pipeline(steps=[('imputer',\n",
       "                                                                                    SimpleImputer()),\n",
       "                                                                                   ('scaler',\n",
       "                                                                                    StandardScaler())]),\n",
       "                                                                   <sklearn.compose._column_transformer.make_column_selector object at 0x...\n",
       "                                                                                    SimpleImputer(fill_value='<missing>',\n",
       "                                                                                                  strategy='constant')),\n",
       "                                                                                   ('one_hot_encoder',\n",
       "                                                                                    OneHotEncoder(handle_unknown='ignore'))]),\n",
       "                                                                   <sklearn.compose._column_transformer.make_column_selector object at 0x000002BB81AA81C0>)]))])),\n",
       "                ('model',\n",
       "                 RidgeCV(alphas=array([20, 21, 22, 23, 24, 25, 26, 27, 28, 29, 30, 31, 32, 33, 34, 35, 36,\n",
       "       37, 38, 39, 40, 41, 42, 43, 44]),\n",
       "                         cv=50,\n",
       "                         scoring=make_scorer(<lambda>, greater_is_better=False)))])"
      ]
     },
     "execution_count": 53,
     "metadata": {},
     "output_type": "execute_result"
    }
   ],
   "source": [
    "%%time\n",
    "ridge_pipeline.fit(train_X, train_y)"
   ]
  },
  {
   "cell_type": "code",
   "execution_count": 54,
   "metadata": {},
   "outputs": [
    {
     "name": "stdout",
     "output_type": "stream",
     "text": [
      "RidgeCV. Best score: 0.13356767281007376, Best alpha: 41\n",
      "Weight vector:\n",
      "[-4106.31142387  1866.02668682  4154.48179461 12178.2638533\n",
      "  7508.03683546  6696.88357281  1638.55734499  6232.01593256\n",
      "  9967.78471502   834.52720699   510.80217351 11008.89488097\n",
      "  8656.3048385  13310.41907852 -1585.58764933 17431.89448843\n",
      "    32.38843015   -98.98177102  2399.29065529  1005.79497082\n",
      " -6194.38627005 -3568.11724041  3569.55218488  3120.36738276\n",
      "   994.41203017  4290.50105088  1323.68170265   521.15612689\n",
      "   619.91725407  -362.22897737   409.16710639  1004.89232943\n",
      "  2854.70574457  -806.66256666 -1033.89247055  -637.98386052\n",
      " -1551.35767303  1438.64874148   189.43151294  2316.00233508\n",
      " -2392.72491647 -2507.14904265  2507.14904265   471.85118532\n",
      "  1916.65954287  -910.60303314 -1477.90769505  -779.77900012\n",
      "  2039.97595148  -495.12929696]\n"
     ]
    }
   ],
   "source": [
    "print(\"RidgeCV. Best score: {}, Best alpha: {}\".format(-ridge_model.best_score_, ridge_model.alpha_))\n",
    "print('Weight vector:')\n",
    "print(ridge_model.coef_[:50])\n",
    "# make a custom scorer"
   ]
  },
  {
   "cell_type": "markdown",
   "metadata": {},
   "source": [
    "#### Predict on the hold-out set "
   ]
  },
  {
   "cell_type": "code",
   "execution_count": 55,
   "metadata": {},
   "outputs": [],
   "source": [
    "ridge_predicted_y = ridge_pipeline.predict(test_X)"
   ]
  },
  {
   "cell_type": "code",
   "execution_count": 56,
   "metadata": {},
   "outputs": [
    {
     "data": {
      "text/plain": [
       "41"
      ]
     },
     "execution_count": 56,
     "metadata": {},
     "output_type": "execute_result"
    }
   ],
   "source": [
    "ridge_model.alpha_"
   ]
  },
  {
   "cell_type": "code",
   "execution_count": 57,
   "metadata": {},
   "outputs": [
    {
     "name": "stdout",
     "output_type": "stream",
     "text": [
      "RidgeCV. Error on the hold-out set: 0.13500217444161872\n"
     ]
    }
   ],
   "source": [
    "error = mean_squared_error(np.log(test_y), np.log(ridge_predicted_y), squared=False)\n",
    "print(\"RidgeCV. Error on the hold-out set: {}\".format(error))"
   ]
  },
  {
   "cell_type": "markdown",
   "metadata": {},
   "source": [
    "#### Train on the whole training set "
   ]
  },
  {
   "cell_type": "code",
   "execution_count": 58,
   "metadata": {},
   "outputs": [
    {
     "name": "stdout",
     "output_type": "stream",
     "text": [
      "Wall time: 23.1 s\n"
     ]
    },
    {
     "data": {
      "text/plain": [
       "Pipeline(steps=[('preprocessing',\n",
       "                 Pipeline(steps=[('remove_columns',\n",
       "                                  <__main__.DataFrameColumnsRemove object at 0x000002BB81A93EB0>),\n",
       "                                 ('column_based_preprocess_pipeline',\n",
       "                                  ColumnTransformer(transformers=[('numerical',\n",
       "                                                                   Pipeline(steps=[('imputer',\n",
       "                                                                                    SimpleImputer()),\n",
       "                                                                                   ('scaler',\n",
       "                                                                                    StandardScaler())]),\n",
       "                                                                   <sklearn.compose._column_transformer.make_column_selector object at 0x...\n",
       "                                                                                    SimpleImputer(fill_value='<missing>',\n",
       "                                                                                                  strategy='constant')),\n",
       "                                                                                   ('one_hot_encoder',\n",
       "                                                                                    OneHotEncoder(handle_unknown='ignore'))]),\n",
       "                                                                   <sklearn.compose._column_transformer.make_column_selector object at 0x000002BB81AA81C0>)]))])),\n",
       "                ('model',\n",
       "                 RidgeCV(alphas=array([20, 21, 22, 23, 24, 25, 26, 27, 28, 29, 30, 31, 32, 33, 34, 35, 36,\n",
       "       37, 38, 39, 40, 41, 42, 43, 44]),\n",
       "                         cv=50,\n",
       "                         scoring=make_scorer(<lambda>, greater_is_better=False)))])"
      ]
     },
     "execution_count": 58,
     "metadata": {},
     "output_type": "execute_result"
    }
   ],
   "source": [
    "%%time\n",
    "ridge_pipeline.fit(df_data_X, df_data_y);"
   ]
  },
  {
   "cell_type": "code",
   "execution_count": 59,
   "metadata": {},
   "outputs": [
    {
     "name": "stdout",
     "output_type": "stream",
     "text": [
      "RidgeCV. Whole training set. Best score: 0.12854659738398774, Best alpha: 28\n",
      "Weight vector:\n",
      "[-2795.9210176   -838.44550267   911.49757098  -570.71839621\n",
      " -2201.85967781  1400.86386205  -951.83484504 -1790.65760837\n",
      "  3815.21076276 -1631.96946295  1360.24696937  1400.86386205\n",
      "    82.30231323 -2264.51829914   781.35212386  1400.86386205\n",
      "  3595.30371824 -3174.31768528  1383.43059402  -429.67066395\n",
      " -2775.60982507  1400.86386205   382.07224551 -1283.60139934\n",
      "  -530.29501687 -1064.13699364  1095.09730229   292.74429638\n",
      " -1570.65762154  1277.91332516   779.47393003 -3953.3433873\n",
      "  1585.41969709  2480.14191498  -891.69215479 -4041.4355704\n",
      "  1210.83634773  1202.64544168   -69.80538025  -678.66771312\n",
      "   157.58442528  6887.25696847   534.36305398 -5202.77757337\n",
      " -4753.09057736   725.67766466  -494.40842971 -2315.61847747\n",
      "  2020.86836146  4816.57145843]\n"
     ]
    }
   ],
   "source": [
    "print(\"RidgeCV. Whole training set. Best score: {}, Best alpha: {}\".format(-ridge_model.best_score_, ridge_model.alpha_))\n",
    "print('Weight vector:')\n",
    "print(ridge_model.coef_[-50:])"
   ]
  },
  {
   "cell_type": "code",
   "execution_count": 60,
   "metadata": {},
   "outputs": [
    {
     "name": "stdout",
     "output_type": "stream",
     "text": [
      "[-3086.68983217  2084.85157508  4791.29465786 11775.17492859\n",
      "  6800.46839981]\n",
      "[  725.67766466  -494.40842971 -2315.61847747  2020.86836146\n",
      "  4816.57145843]\n",
      "291\n"
     ]
    }
   ],
   "source": [
    "ridge_predicted_y = ridge_pipeline.predict(df_data_X)\n",
    "\n",
    "print(ridge_model.coef_[:5])\n",
    "print(ridge_model.coef_[-5:])\n",
    "print(ridge_model.coef_.size)"
   ]
  },
  {
   "cell_type": "code",
   "execution_count": 61,
   "metadata": {},
   "outputs": [
    {
     "name": "stdout",
     "output_type": "stream",
     "text": [
      "RidgeCV. Error on the whole training set: 0.11707712513047709\n"
     ]
    }
   ],
   "source": [
    "error = mean_squared_error(np.log(df_data_y), np.log(ridge_predicted_y), squared=False)\n",
    "print(\"RidgeCV. Error on the whole training set: {}\".format(error))"
   ]
  },
  {
   "cell_type": "markdown",
   "metadata": {},
   "source": [
    "### Model 3. LASSO Regression "
   ]
  },
  {
   "cell_type": "markdown",
   "metadata": {},
   "source": [
    "Docs:\n",
    "\n",
    "https://scikit-learn.org/stable/modules/generated/sklearn.linear_model.Lasso.html\n",
    "https://scikit-learn.org/stable/modules/generated/sklearn.linear_model.LassoCV.html"
   ]
  },
  {
   "cell_type": "code",
   "execution_count": 191,
   "metadata": {},
   "outputs": [],
   "source": [
    "from sklearn.linear_model import Lasso"
   ]
  },
  {
   "cell_type": "code",
   "execution_count": 63,
   "metadata": {},
   "outputs": [
    {
     "data": {
      "text/plain": [
       "array([1.00000000e-04, 2.63665090e-04, 6.95192796e-04, 1.83298071e-03,\n",
       "       4.83293024e-03, 1.27427499e-02, 3.35981829e-02, 8.85866790e-02,\n",
       "       2.33572147e-01, 6.15848211e-01, 1.62377674e+00, 4.28133240e+00,\n",
       "       1.12883789e+01, 2.97635144e+01, 7.84759970e+01, 2.06913808e+02,\n",
       "       5.45559478e+02, 1.43844989e+03, 3.79269019e+03, 1.00000000e+04])"
      ]
     },
     "execution_count": 63,
     "metadata": {},
     "output_type": "execute_result"
    }
   ],
   "source": [
    "np.logspace(-4, 4, 20)"
   ]
  },
  {
   "cell_type": "code",
   "execution_count": 64,
   "metadata": {},
   "outputs": [],
   "source": [
    "lasso_model = Lasso(max_iter=5000, selection='random', random_state=19)\n",
    "lasso_pipeline = Pipeline([('preprocessing', preprocessing_pipeline), ('model', lasso_model)])"
   ]
  },
  {
   "cell_type": "code",
   "execution_count": 65,
   "metadata": {},
   "outputs": [],
   "source": [
    "lasso_alphas = range(80, 110, 1)"
   ]
  },
  {
   "cell_type": "code",
   "execution_count": 66,
   "metadata": {},
   "outputs": [],
   "source": [
    "#lasso_pipeline.get_params()\n",
    "lasso_parameters_grid = {'model__alpha': lasso_alphas}\n",
    "lasso_grid_cv = GridSearchCV(lasso_pipeline, lasso_parameters_grid, scoring=log_rmse_metric, cv=10)"
   ]
  },
  {
   "cell_type": "code",
   "execution_count": 67,
   "metadata": {},
   "outputs": [
    {
     "name": "stdout",
     "output_type": "stream",
     "text": [
      "Wall time: 4min 38s\n"
     ]
    },
    {
     "data": {
      "text/plain": [
       "GridSearchCV(cv=10,\n",
       "             estimator=Pipeline(steps=[('preprocessing',\n",
       "                                        Pipeline(steps=[('remove_columns',\n",
       "                                                         <__main__.DataFrameColumnsRemove object at 0x000002BB81A93EB0>),\n",
       "                                                        ('column_based_preprocess_pipeline',\n",
       "                                                         ColumnTransformer(transformers=[('numerical',\n",
       "                                                                                          Pipeline(steps=[('imputer',\n",
       "                                                                                                           SimpleImputer()),\n",
       "                                                                                                          ('scaler',\n",
       "                                                                                                           StandardScaler())]),\n",
       "                                                                                          <sklearn.compose._column_transformer.m...\n",
       "                                                                                                           SimpleImputer(fill_value='<missing>',\n",
       "                                                                                                                         strategy='constant')),\n",
       "                                                                                                          ('one_hot_encoder',\n",
       "                                                                                                           OneHotEncoder(handle_unknown='ignore'))]),\n",
       "                                                                                          <sklearn.compose._column_transformer.make_column_selector object at 0x000002BB81AA81C0>)]))])),\n",
       "                                       ('model',\n",
       "                                        Lasso(max_iter=5000, random_state=19,\n",
       "                                              selection='random'))]),\n",
       "             param_grid={'model__alpha': range(80, 110)},\n",
       "             scoring=make_scorer(<lambda>, greater_is_better=False))"
      ]
     },
     "execution_count": 67,
     "metadata": {},
     "output_type": "execute_result"
    }
   ],
   "source": [
    "%%time\n",
    "lasso_grid_cv.fit(df_data_X, df_data_y)"
   ]
  },
  {
   "cell_type": "code",
   "execution_count": 68,
   "metadata": {},
   "outputs": [
    {
     "name": "stdout",
     "output_type": "stream",
     "text": [
      "-0.13043759767973234\n",
      "{'model__alpha': 93}\n"
     ]
    }
   ],
   "source": [
    "print(lasso_grid_cv.best_score_)\n",
    "print(lasso_grid_cv.best_params_)\n",
    "\n",
    "#lasso_grid_cv.best_estimator_\n",
    "#print(\"LassoCV. Best score: {}, Best alpha: {}\".format(-lasso_model.mse_path_, lasso_model.alpha_))\n",
    "#print('Weight vector:')\n",
    "#print(lasso_model.coef_[:50])"
   ]
  },
  {
   "cell_type": "code",
   "execution_count": 69,
   "metadata": {},
   "outputs": [],
   "source": [
    "lasso_cv_mean_test_score = lasso_grid_cv.cv_results_['mean_test_score']"
   ]
  },
  {
   "cell_type": "code",
   "execution_count": 70,
   "metadata": {},
   "outputs": [
    {
     "data": {
      "image/png": "[encoded data removed]",
      "text/plain": [
       "<Figure size 576x360 with 1 Axes>"
      ]
     },
     "metadata": {
      "needs_background": "light"
     },
     "output_type": "display_data"
    }
   ],
   "source": [
    "plt.figure(figsize=(8, 5))\n",
    "plt.plot(lasso_alphas, -lasso_cv_mean_test_score)\n",
    "plt.xlabel('alpha')\n",
    "plt.ylabel('Mean test score (RMSLE)')\n",
    "plt.title('Зависимость средней ошибки на валидации от коэффициента регуляризации');"
   ]
  },
  {
   "cell_type": "markdown",
   "metadata": {},
   "source": [
    "#### Динамика весов при увеличении параметра регуляризации "
   ]
  },
  {
   "cell_type": "code",
   "execution_count": 71,
   "metadata": {},
   "outputs": [
    {
     "name": "stdout",
     "output_type": "stream",
     "text": [
      "EnclosedPorch\n"
     ]
    }
   ],
   "source": [
    "column_based_pipeline = lasso_pipeline.named_steps['preprocessing'].named_steps['column_based_preprocess_pipeline']\n",
    "\n",
    "numeric_feature_names = np.array(column_based_pipeline.transformers_[0][2])\n",
    "#print(numeric_feature_names)\n",
    "\n",
    "cat_feature_names = np.array(column_based_pipeline.transformers_[1][1].named_steps['one_hot_encoder'].get_feature_names())\n",
    "#print(type(numeric_feature_names))\n",
    "\n",
    "feature_names = np.concatenate([numeric_feature_names, cat_feature_names])\n",
    "feature_names_series = pd.Series(feature_names)\n",
    "print(feature_names[29])\n",
    "#print(feature_names_series[feature_names_series == 'GarageCars'])"
   ]
  },
  {
   "cell_type": "code",
   "execution_count": 72,
   "metadata": {},
   "outputs": [
    {
     "name": "stderr",
     "output_type": "stream",
     "text": [
      "D:\\anaconda3\\lib\\site-packages\\sklearn\\pipeline.py:335: UserWarning: With alpha=0, this algorithm does not converge well. You are advised to use the LinearRegression estimator\n",
      "  self._final_estimator.fit(Xt, y, **fit_params_last_step)\n",
      "D:\\anaconda3\\lib\\site-packages\\sklearn\\linear_model\\_coordinate_descent.py:512: ConvergenceWarning: Objective did not converge. You might want to increase the number of iterations. Duality gap: 276969946270.4878, tolerance: 920745877.805445\n",
      "  model = cd_fast.sparse_enet_coordinate_descent(\n"
     ]
    }
   ],
   "source": [
    "lasso_alphas_plot = np.arange(0, 600, 50)\n",
    "lasso_alpha_coefs_matrix = np.zeros((lasso_alphas_plot.shape[0], feature_names.shape[0]))\n",
    "\n",
    "lasso_model_plot = Lasso(max_iter=5000, selection='random', random_state=19)\n",
    "lasso_pipeline_plot = Pipeline([('preprocessing', preprocessing_pipeline), ('model', lasso_model_plot)])\n",
    "\n",
    "for idx, alpha in enumerate(lasso_alphas_plot):\n",
    "    lasso_model_plot.alpha = alpha\n",
    "    lasso_pipeline_plot.fit(df_data_X, df_data_y)\n",
    "    lasso_alpha_coefs_matrix[idx,:] = lasso_pipeline_plot.named_steps['model'].coef_"
   ]
  },
  {
   "cell_type": "code",
   "execution_count": 73,
   "metadata": {},
   "outputs": [
    {
     "name": "stdout",
     "output_type": "stream",
     "text": [
      "(12, 291)\n"
     ]
    }
   ],
   "source": [
    "print(lasso_alpha_coefs_matrix.shape)"
   ]
  },
  {
   "cell_type": "code",
   "execution_count": 74,
   "metadata": {},
   "outputs": [
    {
     "data": {
      "text/plain": [
       "Text(0.5, 1.0, 'SF features')"
      ]
     },
     "execution_count": 74,
     "metadata": {},
     "output_type": "execute_result"
    },
    {
     "data": {
      "image/png": "[encoded data removed]",
      "text/plain": [
       "<Figure size 936x576 with 1 Axes>"
      ]
     },
     "metadata": {
      "needs_background": "light"
     },
     "output_type": "display_data"
    }
   ],
   "source": [
    "plt.figure(figsize=(13, 8))\n",
    "for coefs_for_alpha, feature in zip(lasso_alpha_coefs_matrix.T[10:15], feature_names[10:15]):\n",
    "    plt.plot(lasso_alphas_plot, coefs_for_alpha, color=np.random.rand(3), label=feature)\n",
    "plt.legend(loc=\"upper right\")\n",
    "plt.xlabel(\"alpha\")\n",
    "plt.ylabel(\"feature weight\")\n",
    "plt.title(\"SF features\")"
   ]
  },
  {
   "cell_type": "code",
   "execution_count": 75,
   "metadata": {},
   "outputs": [
    {
     "data": {
      "text/plain": [
       "Text(0.5, 1.0, 'Garage features')"
      ]
     },
     "execution_count": 75,
     "metadata": {},
     "output_type": "execute_result"
    },
    {
     "data": {
      "image/png": "[encoded data removed]",
      "text/plain": [
       "<Figure size 936x576 with 1 Axes>"
      ]
     },
     "metadata": {
      "needs_background": "light"
     },
     "output_type": "display_data"
    }
   ],
   "source": [
    "plt.figure(figsize=(13, 8))\n",
    "for coefs_for_alpha, feature in zip(lasso_alpha_coefs_matrix.T[24:30], feature_names[24:30]):\n",
    "    plt.plot(lasso_alphas_plot, coefs_for_alpha, color=np.random.rand(3), label=feature)\n",
    "plt.legend(loc=\"upper right\")\n",
    "plt.xlabel(\"alpha\")\n",
    "plt.ylabel(\"feature weight\")\n",
    "plt.title(\"Garage features\")"
   ]
  },
  {
   "cell_type": "code",
   "execution_count": 76,
   "metadata": {},
   "outputs": [
    {
     "data": {
      "text/plain": [
       "Text(0.5, 1.0, 'SaleCondition categorical feature')"
      ]
     },
     "execution_count": 76,
     "metadata": {},
     "output_type": "execute_result"
    },
    {
     "data": {
      "image/png": "[encoded data removed]",
      "text/plain": [
       "<Figure size 936x576 with 1 Axes>"
      ]
     },
     "metadata": {
      "needs_background": "light"
     },
     "output_type": "display_data"
    }
   ],
   "source": [
    "plt.figure(figsize=(13, 8))\n",
    "for coefs_for_alpha, feature in zip(lasso_alpha_coefs_matrix.T[-6:], feature_names[-6:]):\n",
    "    plt.plot(lasso_alphas_plot, coefs_for_alpha, color=np.random.rand(3), label=feature)\n",
    "plt.legend(loc=\"upper right\")\n",
    "plt.xlabel(\"alpha\")\n",
    "plt.ylabel(\"feature weight\")\n",
    "plt.title(\"SaleCondition categorical feature\")"
   ]
  },
  {
   "cell_type": "markdown",
   "metadata": {},
   "source": [
    "#### Train the best estimator "
   ]
  },
  {
   "cell_type": "code",
   "execution_count": 77,
   "metadata": {},
   "outputs": [],
   "source": [
    "lasso_best_estimator = lasso_grid_cv.best_estimator_"
   ]
  },
  {
   "cell_type": "code",
   "execution_count": 78,
   "metadata": {},
   "outputs": [
    {
     "name": "stdout",
     "output_type": "stream",
     "text": [
      "Wall time: 422 ms\n"
     ]
    },
    {
     "data": {
      "text/plain": [
       "Pipeline(steps=[('preprocessing',\n",
       "                 Pipeline(steps=[('remove_columns',\n",
       "                                  <__main__.DataFrameColumnsRemove object at 0x000002BB82E86790>),\n",
       "                                 ('column_based_preprocess_pipeline',\n",
       "                                  ColumnTransformer(transformers=[('numerical',\n",
       "                                                                   Pipeline(steps=[('imputer',\n",
       "                                                                                    SimpleImputer()),\n",
       "                                                                                   ('scaler',\n",
       "                                                                                    StandardScaler())]),\n",
       "                                                                   <sklearn.compose._column_transformer.make_column_selector object at 0x000002BB82E86880>),\n",
       "                                                                  ('categorical',\n",
       "                                                                   Pipeline(steps=[('imputer',\n",
       "                                                                                    SimpleImputer(fill_value='<missing>',\n",
       "                                                                                                  strategy='constant')),\n",
       "                                                                                   ('one_hot_encoder',\n",
       "                                                                                    OneHotEncoder(handle_unknown='ignore'))]),\n",
       "                                                                   <sklearn.compose._column_transformer.make_column_selector object at 0x000002BB82E807C0>)]))])),\n",
       "                ('model',\n",
       "                 Lasso(alpha=93, max_iter=5000, random_state=19,\n",
       "                       selection='random'))])"
      ]
     },
     "execution_count": 78,
     "metadata": {},
     "output_type": "execute_result"
    }
   ],
   "source": [
    "%%time\n",
    "lasso_best_estimator.fit(df_data_X, df_data_y);"
   ]
  },
  {
   "cell_type": "code",
   "execution_count": 79,
   "metadata": {},
   "outputs": [],
   "source": [
    "lasso_predicted_y = lasso_best_estimator.predict(df_data_X)"
   ]
  },
  {
   "cell_type": "code",
   "execution_count": 80,
   "metadata": {},
   "outputs": [
    {
     "name": "stdout",
     "output_type": "stream",
     "text": [
      "Number of non-zero features after the training:\n",
      "121\n",
      "Initial number of features:\n",
      "291\n"
     ]
    }
   ],
   "source": [
    "lasso_trained_model = lasso_best_estimator.named_steps['model']\n",
    "print('Number of non-zero features after the training:')\n",
    "print(np.count_nonzero(lasso_trained_model.coef_))\n",
    "print('Initial number of features:')\n",
    "print(lasso_trained_model.coef_.size)"
   ]
  },
  {
   "cell_type": "code",
   "execution_count": 81,
   "metadata": {},
   "outputs": [
    {
     "name": "stdout",
     "output_type": "stream",
     "text": [
      "[-3655.53328982  2065.21146956  4312.28112055 10321.40470073\n",
      "  6661.55588312  9274.2040369   1172.21072189  3996.59467449\n",
      "  7623.84451182   741.87367408    -0.          8531.65744362\n",
      "     0.          3139.29429756 -1897.78408489 28502.18682645\n",
      "   469.92581455  -336.41245536  1430.40245432   351.64222329\n",
      " -4433.64225415 -3426.74865261  1717.23676451  1929.4142699\n",
      "  1284.4530948   3623.08949925  1426.0597998   1630.24266894\n",
      "   871.15079615    -0.           408.1603128   1561.4141582\n",
      "  3273.70010453  -252.65236067  -665.26847795  -154.49307399\n",
      " -7339.20838835  1445.02410068     0.           186.13121634\n",
      " -4305.06330855  -742.61604077    61.52974543  -109.8298473\n",
      "   308.8607922     -0.             0.            -0.\n",
      "  1142.11752617 -2472.38783634]\n",
      "[-0.00000000e+00 -0.00000000e+00  0.00000000e+00 -0.00000000e+00\n",
      " -0.00000000e+00  3.96157581e+02 -1.17563359e+03 -0.00000000e+00\n",
      "  2.49211416e+03 -0.00000000e+00  0.00000000e+00  8.47026110e+01\n",
      " -0.00000000e+00 -2.11827858e+03  0.00000000e+00  9.40029316e+01\n",
      "  0.00000000e+00 -3.87739304e+03  0.00000000e+00 -0.00000000e+00\n",
      " -2.59076368e+03  1.50804094e+00  0.00000000e+00 -0.00000000e+00\n",
      " -0.00000000e+00 -0.00000000e+00  0.00000000e+00  0.00000000e+00\n",
      " -0.00000000e+00  0.00000000e+00  0.00000000e+00 -3.71048466e+03\n",
      "  0.00000000e+00  1.09072430e+03 -0.00000000e+00 -1.53184415e+03\n",
      "  0.00000000e+00  0.00000000e+00  0.00000000e+00 -0.00000000e+00\n",
      "  0.00000000e+00  1.49673978e+04  0.00000000e+00 -3.10090957e+03\n",
      " -4.40154687e+03  0.00000000e+00 -0.00000000e+00 -0.00000000e+00\n",
      "  2.92011091e+03  0.00000000e+00]\n"
     ]
    }
   ],
   "source": [
    "print(lasso_trained_model.coef_[:50])\n",
    "print(lasso_trained_model.coef_[-50:])"
   ]
  },
  {
   "cell_type": "code",
   "execution_count": 82,
   "metadata": {},
   "outputs": [
    {
     "name": "stdout",
     "output_type": "stream",
     "text": [
      "LassoCV. Error on the whole training set: 0.11777743750277313\n"
     ]
    }
   ],
   "source": [
    "error = mean_squared_error(np.log(df_data_y), np.log(lasso_predicted_y), squared=False)\n",
    "print(\"LassoCV. Error on the whole training set: {}\".format(error))"
   ]
  },
  {
   "cell_type": "markdown",
   "metadata": {},
   "source": [
    "По результатам на test set модель Lasso показало немного лучший результат, чем Ridge.\n",
    "Также и разница в ошибке между train и test для Lasso меньше.\n",
    "Видно, что было исключено более половины признаков."
   ]
  },
  {
   "cell_type": "markdown",
   "metadata": {},
   "source": [
    "#### Custom log rmse metric to handle negative values"
   ]
  },
  {
   "cell_type": "markdown",
   "metadata": {},
   "source": [
    "Причина ошибки \"ValueError: Input contains NaN, infinity or a value too large for dtype('float64').\" в том, что в y_pred иногда встречается отрицательное значение. Пример: -2958.13996099\n",
    "Надо добавить проверку в функцию-метрику. Они соответствуют относительно небольшим истинным значениям ответа. \n",
    "Например:\n",
    "375     61000\n",
    "533     39300 \n",
    "\n",
    "Что делать с этим отрицательным значением?.."
   ]
  },
  {
   "cell_type": "code",
   "execution_count": 83,
   "metadata": {},
   "outputs": [],
   "source": [
    "def rmse_full_scale_log(x):\n",
    "    \"\"\"\n",
    "    Compute np.log element-wise to be used in log_rmse.\n",
    "    Negative values and values from the [0, 1] are handled in a specific way.\n",
    "    WARN: LOOK LIKE IT WORKS INCORRECT.\n",
    "    \"\"\"\n",
    "    x_result = np.array(x)\n",
    "    regular_values_mask = x > 1\n",
    "    negative_values_mask = x < 0\n",
    "    zero_one_values_mask = (x >= 0) & (x <= 1)\n",
    "    x_result[regular_values_mask] = np.log(x[regular_values_mask])\n",
    "    x_result[negative_values_mask] = np.log(-x[negative_values_mask])\n",
    "    x_result[zero_one_values_mask] = 0\n",
    "    return x_result"
   ]
  },
  {
   "cell_type": "code",
   "execution_count": 84,
   "metadata": {},
   "outputs": [],
   "source": [
    "log_rmse_full_scale_metric = make_scorer(lambda y_true, y_pred: \\\n",
    "                            mean_squared_error(rmse_full_scale_log(y_true), rmse_full_scale_log(y_pred), squared=False), \\\n",
    "                                     greater_is_better=False)"
   ]
  },
  {
   "cell_type": "code",
   "execution_count": 85,
   "metadata": {},
   "outputs": [
    {
     "ename": "NameError",
     "evalue": "name 'log_full_scale' is not defined",
     "output_type": "error",
     "traceback": [
      "\u001b[1;31m---------------------------------------------------------------------------\u001b[0m",
      "\u001b[1;31mNameError\u001b[0m                                 Traceback (most recent call last)",
      "\u001b[1;32m<ipython-input-85-c6902b8fc134>\u001b[0m in \u001b[0;36m<module>\u001b[1;34m\u001b[0m\n\u001b[0;32m      1\u001b[0m \u001b[0mtest_array\u001b[0m \u001b[1;33m=\u001b[0m \u001b[0mnp\u001b[0m\u001b[1;33m.\u001b[0m\u001b[0marray\u001b[0m\u001b[1;33m(\u001b[0m\u001b[1;33m[\u001b[0m\u001b[1;36m50000\u001b[0m\u001b[1;33m,\u001b[0m \u001b[1;33m-\u001b[0m\u001b[1;36m5300\u001b[0m\u001b[1;33m,\u001b[0m \u001b[1;36m10000\u001b[0m\u001b[1;33m,\u001b[0m \u001b[1;36m0.5\u001b[0m\u001b[1;33m,\u001b[0m \u001b[1;33m-\u001b[0m\u001b[1;36m197\u001b[0m\u001b[1;33m]\u001b[0m\u001b[1;33m)\u001b[0m\u001b[1;33m\u001b[0m\u001b[1;33m\u001b[0m\u001b[0m\n\u001b[1;32m----> 2\u001b[1;33m \u001b[0mprint\u001b[0m\u001b[1;33m(\u001b[0m\u001b[0mlog_full_scale\u001b[0m\u001b[1;33m(\u001b[0m\u001b[0mnp\u001b[0m\u001b[1;33m.\u001b[0m\u001b[0marray\u001b[0m\u001b[1;33m(\u001b[0m\u001b[0mtest_array\u001b[0m\u001b[1;33m)\u001b[0m\u001b[1;33m)\u001b[0m\u001b[1;33m)\u001b[0m\u001b[1;33m\u001b[0m\u001b[1;33m\u001b[0m\u001b[0m\n\u001b[0m",
      "\u001b[1;31mNameError\u001b[0m: name 'log_full_scale' is not defined"
     ]
    }
   ],
   "source": [
    "test_array = np.array([50000, -5300, 10000, 0.5, -197])\n",
    "print(log_full_scale(np.array(test_array)))"
   ]
  },
  {
   "cell_type": "markdown",
   "metadata": {},
   "source": [
    "### Lasso 2 (category ordinal encoding) --- test "
   ]
  },
  {
   "cell_type": "code",
   "execution_count": 207,
   "metadata": {},
   "outputs": [],
   "source": [
    "lasso_model = Lasso(max_iter=5000, selection='random', random_state=19)\n",
    "lasso_pipeline = Pipeline([('preprocessing', preprocessing_pipeline_cat_ordinal), ('model', lasso_model)])"
   ]
  },
  {
   "cell_type": "code",
   "execution_count": 208,
   "metadata": {},
   "outputs": [],
   "source": [
    "#lasso_pipeline.get_params()\n",
    "lasso_alphas = range(50, 110, 5)\n",
    "lasso_parameters_grid = {'model__alpha': lasso_alphas}\n",
    "lasso_grid_cv = GridSearchCV(lasso_pipeline, lasso_parameters_grid, scoring=log_rmse_metric, cv=10)"
   ]
  },
  {
   "cell_type": "code",
   "execution_count": 209,
   "metadata": {},
   "outputs": [
    {
     "name": "stdout",
     "output_type": "stream",
     "text": [
      "Wall time: 1min 44s\n"
     ]
    },
    {
     "data": {
      "text/plain": [
       "GridSearchCV(cv=10,\n",
       "             estimator=Pipeline(steps=[('preprocessing',\n",
       "                                        Pipeline(steps=[('remove_columns',\n",
       "                                                         <__main__.DataFrameColumnsRemove object at 0x0000026032CE01F0>),\n",
       "                                                        ('column_based_preprocess_pipeline',\n",
       "                                                         ColumnTransformer(transformers=[('numerical',\n",
       "                                                                                          Pipeline(steps=[('imputer',\n",
       "                                                                                                           SimpleImputer()),\n",
       "                                                                                                          ('scaler',\n",
       "                                                                                                           StandardScaler())]),\n",
       "                                                                                          <sklearn.compose._column_transformer.m...\n",
       "                                                                                                           SimpleImputer(fill_value='<missing>',\n",
       "                                                                                                                         strategy='constant')),\n",
       "                                                                                                          ('one_hot_encoder',\n",
       "                                                                                                           OneHotEncoder(handle_unknown='ignore'))]),\n",
       "                                                                                          <sklearn.compose._column_transformer.make_column_selector object at 0x0000026032CE03A0>)]))])),\n",
       "                                       ('model',\n",
       "                                        Lasso(max_iter=5000, random_state=19,\n",
       "                                              selection='random'))]),\n",
       "             param_grid={'model__alpha': range(50, 110, 5)},\n",
       "             scoring=make_scorer(<lambda>, greater_is_better=False))"
      ]
     },
     "execution_count": 209,
     "metadata": {},
     "output_type": "execute_result"
    }
   ],
   "source": [
    "%%time\n",
    "lasso_grid_cv.fit(df_data_X, df_data_y)"
   ]
  },
  {
   "cell_type": "code",
   "execution_count": 210,
   "metadata": {},
   "outputs": [
    {
     "name": "stdout",
     "output_type": "stream",
     "text": [
      "-0.13043986759509937\n",
      "{'model__alpha': 95}\n"
     ]
    }
   ],
   "source": [
    "print(lasso_grid_cv.best_score_)\n",
    "print(lasso_grid_cv.best_params_)"
   ]
  },
  {
   "cell_type": "markdown",
   "metadata": {},
   "source": [
    "С использованием Category ordinal encoding результат для LASSO намного хуже, чем без него."
   ]
  },
  {
   "cell_type": "markdown",
   "metadata": {},
   "source": [
    "### Model 4. ElasticNet "
   ]
  },
  {
   "cell_type": "code",
   "execution_count": null,
   "metadata": {},
   "outputs": [],
   "source": [
    "from sklearn.linear_model import ElasticNet"
   ]
  },
  {
   "cell_type": "code",
   "execution_count": null,
   "metadata": {},
   "outputs": [],
   "source": [
    "elastic_net_model = ElasticNet(max_iter=100000, selection='random', random_state=19)\n",
    "elastic_net_pipeline = Pipeline([('preprocessing', preprocessing_pipeline), ('model', elastic_net_model)])"
   ]
  },
  {
   "cell_type": "code",
   "execution_count": null,
   "metadata": {},
   "outputs": [],
   "source": [
    "elastic_net_alphas = np.linspace(0.2, 0.8, num=4)\n",
    "elastic_net_l1_ratio = np.linspace(0.9, 0.99, num=5)"
   ]
  },
  {
   "cell_type": "code",
   "execution_count": null,
   "metadata": {},
   "outputs": [],
   "source": [
    "elastic_net_parameters_grid = {'model__alpha': elastic_net_alphas, 'model__l1_ratio': elastic_net_l1_ratio}\n",
    "elastic_net_grid_cv = GridSearchCV(elastic_net_pipeline, elastic_net_parameters_grid, scoring=log_rmse_metric, cv=20, n_jobs=2)"
   ]
  },
  {
   "cell_type": "code",
   "execution_count": null,
   "metadata": {},
   "outputs": [],
   "source": [
    "%%time\n",
    "elastic_net_grid_cv.fit(df_data_X, df_data_y)"
   ]
  },
  {
   "cell_type": "code",
   "execution_count": null,
   "metadata": {},
   "outputs": [],
   "source": [
    "print(elastic_net_grid_cv.best_score_)\n",
    "print(elastic_net_grid_cv.best_params_)"
   ]
  },
  {
   "cell_type": "code",
   "execution_count": null,
   "metadata": {},
   "outputs": [],
   "source": [
    "elastic_net_best_estimator = elastic_net_grid_cv.best_estimator_"
   ]
  },
  {
   "cell_type": "code",
   "execution_count": null,
   "metadata": {},
   "outputs": [],
   "source": [
    "elastic_net_predicted_y = elastic_net_best_estimator.predict(df_data_X)"
   ]
  },
  {
   "cell_type": "code",
   "execution_count": null,
   "metadata": {},
   "outputs": [],
   "source": [
    "error = mean_squared_error(np.log(df_data_y), np.log(elastic_net_predicted_y), squared=False)\n",
    "print(\"ElasticNetCV. Error on the whole training set: {}\".format(error))"
   ]
  },
  {
   "cell_type": "markdown",
   "metadata": {},
   "source": [
    "On test set Lasso looks better than ElasticNet."
   ]
  },
  {
   "cell_type": "markdown",
   "metadata": {},
   "source": [
    "##### [Experiments] with SGDRegressor. Errors with \"log\"..."
   ]
  },
  {
   "cell_type": "markdown",
   "metadata": {},
   "source": [
    "Info about SGD:\n",
    "https://scikit-learn.org/stable/modules/sgd.html#sgd\n",
    "\n",
    "\"SGDRegressor is well suited for regression problems with a large number of training samples (> 10.000), for other problems we recommend Ridge, Lasso, or ElasticNet.\""
   ]
  },
  {
   "cell_type": "code",
   "execution_count": null,
   "metadata": {},
   "outputs": [],
   "source": [
    "sgd_ridge_model = linear_model.SGDRegressor(random_state=19, loss='squared_loss', penalty='l2')\n",
    "sgd_ridge_pipeline = Pipeline([('preprocessing', preprocessing_pipeline), ('model', sgd_ridge_model)])"
   ]
  },
  {
   "cell_type": "code",
   "execution_count": null,
   "metadata": {},
   "outputs": [],
   "source": [
    "parameters_grid = {'model__alpha': [0.080, 0.01, 0.02, 0.03, 0.04]}\n",
    "sgd_ridge_grid_cv = GridSearchCV(sgd_ridge_pipeline, parameters_grid, scoring=log_rmse_metric, cv=10)"
   ]
  },
  {
   "cell_type": "code",
   "execution_count": null,
   "metadata": {},
   "outputs": [],
   "source": [
    "%%time\n",
    "sgd_ridge_grid_cv.fit(train_X, train_y)"
   ]
  },
  {
   "cell_type": "code",
   "execution_count": null,
   "metadata": {},
   "outputs": [],
   "source": [
    "print(sgd_ridge_grid_cv.best_score_)\n",
    "print(sgd_ridge_grid_cv.best_params_)\n"
   ]
  },
  {
   "cell_type": "markdown",
   "metadata": {},
   "source": [
    "Что интересно, на SGD результаты выглядят хуже.\n",
    "\n",
    "Со временем, надо разобраться с этой ошибкой:\n",
    "\n",
    "ValueError: Input contains NaN, infinity or a value too large for dtype('float64')."
   ]
  },
  {
   "cell_type": "markdown",
   "metadata": {},
   "source": [
    "//--//"
   ]
  },
  {
   "cell_type": "markdown",
   "metadata": {},
   "source": [
    "### Model 6. Bagging"
   ]
  },
  {
   "cell_type": "markdown",
   "metadata": {},
   "source": [
    "Docs:\n",
    "https://scikit-learn.org/stable/modules/generated/sklearn.ensemble.BaggingRegressor.html\n",
    "\n",
    "Note:\n",
    "\n",
    "In theory, categories themselves can be handled in decision trees. However, most python implementations will only work with numbers, so you need to convert them. "
   ]
  },
  {
   "cell_type": "code",
   "execution_count": 87,
   "metadata": {},
   "outputs": [],
   "source": [
    "from sklearn.ensemble import BaggingRegressor"
   ]
  },
  {
   "cell_type": "code",
   "execution_count": 103,
   "metadata": {},
   "outputs": [],
   "source": [
    "bagging_regressor_model = BaggingRegressor()\n",
    "bagging_pipeline = Pipeline([('preprocessing', preprocessing_pipeline), ('model', bagging_regressor_model)])"
   ]
  },
  {
   "cell_type": "code",
   "execution_count": 109,
   "metadata": {},
   "outputs": [],
   "source": [
    "bagging_n_estimators = range(10, 13)\n",
    "bagging_parameters_grid = {'model__n_estimators': bagging_n_estimators}\n",
    "bagging_grid_cv = GridSearchCV(bagging_pipeline, bagging_parameters_grid, scoring=log_rmse_metric, cv=10)"
   ]
  },
  {
   "cell_type": "code",
   "execution_count": 110,
   "metadata": {},
   "outputs": [
    {
     "name": "stdout",
     "output_type": "stream",
     "text": [
      "Wall time: 49.6 s\n"
     ]
    },
    {
     "data": {
      "text/plain": [
       "GridSearchCV(cv=10,\n",
       "             estimator=Pipeline(steps=[('preprocessing',\n",
       "                                        Pipeline(steps=[('remove_columns',\n",
       "                                                         <__main__.DataFrameColumnsRemove object at 0x000002BB853C38B0>),\n",
       "                                                        ('column_based_preprocess_pipeline',\n",
       "                                                         ColumnTransformer(transformers=[('numerical',\n",
       "                                                                                          Pipeline(steps=[('imputer',\n",
       "                                                                                                           SimpleImputer()),\n",
       "                                                                                                          ('scaler',\n",
       "                                                                                                           StandardScaler())]),\n",
       "                                                                                          <sklearn.compose._column_transformer.m...\n",
       "                                                                                          Pipeline(steps=[('imputer',\n",
       "                                                                                                           SimpleImputer(fill_value='<missing>',\n",
       "                                                                                                                         strategy='constant')),\n",
       "                                                                                                          ('one_hot_encoder',\n",
       "                                                                                                           OneHotEncoder(handle_unknown='ignore'))]),\n",
       "                                                                                          <sklearn.compose._column_transformer.make_column_selector object at 0x000002BB819D2670>)]))])),\n",
       "                                       ('model', BaggingRegressor())]),\n",
       "             param_grid={'model__n_estimators': range(10, 13)},\n",
       "             scoring=make_scorer(<lambda>, greater_is_better=False))"
      ]
     },
     "execution_count": 110,
     "metadata": {},
     "output_type": "execute_result"
    }
   ],
   "source": [
    "bagging_grid_cv.fit(df_data_X, df_data_y)"
   ]
  },
  {
   "cell_type": "code",
   "execution_count": 111,
   "metadata": {},
   "outputs": [
    {
     "name": "stdout",
     "output_type": "stream",
     "text": [
      "-0.14537098398570575\n",
      "{'model__n_estimators': 12}\n"
     ]
    }
   ],
   "source": [
    "print(bagging_grid_cv.best_score_)\n",
    "print(bagging_grid_cv.best_params_)"
   ]
  },
  {
   "cell_type": "markdown",
   "metadata": {},
   "source": [
    "### Model 7. Random Forest "
   ]
  },
  {
   "cell_type": "markdown",
   "metadata": {},
   "source": [
    "Docs:\n",
    "https://scikit-learn.org/stable/modules/generated/sklearn.ensemble.RandomForestRegressor.html"
   ]
  },
  {
   "cell_type": "code",
   "execution_count": 155,
   "metadata": {},
   "outputs": [],
   "source": [
    "from sklearn.ensemble import RandomForestRegressor"
   ]
  },
  {
   "cell_type": "markdown",
   "metadata": {},
   "source": [
    "#### Baseline model"
   ]
  },
  {
   "cell_type": "code",
   "execution_count": 32,
   "metadata": {},
   "outputs": [],
   "source": [
    "rforest_baseline_model = RandomForestRegressor(random_state=19)\n",
    "rforest_baseline_pipeline = Pipeline([('preprocessing', preprocessing_pipeline), ('model', rforest_baseline_model)])"
   ]
  },
  {
   "cell_type": "code",
   "execution_count": 158,
   "metadata": {},
   "outputs": [],
   "source": [
    "rforest_baseline_pipeline.fit(df_data_X, df_data_y);"
   ]
  },
  {
   "cell_type": "code",
   "execution_count": 159,
   "metadata": {},
   "outputs": [],
   "source": [
    "rforest_predicted_y = rforest_baseline_pipeline.predict(df_data_X)"
   ]
  },
  {
   "cell_type": "code",
   "execution_count": 160,
   "metadata": {},
   "outputs": [
    {
     "name": "stdout",
     "output_type": "stream",
     "text": [
      "RandomForest. Baseline score on the training set: 0.056565297017220975\n"
     ]
    }
   ],
   "source": [
    "rforest_baseline_error = mean_squared_error(np.log(df_data_y), np.log(rforest_predicted_y), squared=False)\n",
    "print(\"RandomForest. Baseline score on the training set: {}\".format(rforest_baseline_error))"
   ]
  },
  {
   "cell_type": "markdown",
   "metadata": {},
   "source": [
    "На тесте результат для baseline-модели намного хуже: 0.14899"
   ]
  },
  {
   "cell_type": "markdown",
   "metadata": {},
   "source": [
    "#### Построение валидационных кривых (validation curves)"
   ]
  },
  {
   "cell_type": "code",
   "execution_count": 35,
   "metadata": {},
   "outputs": [],
   "source": [
    "rforest_baseline_model = RandomForestRegressor(random_state=19)\n",
    "rforest_baseline_pipeline = Pipeline([('preprocessing', preprocessing_pipeline), ('model', rforest_baseline_model)])"
   ]
  },
  {
   "cell_type": "code",
   "execution_count": 66,
   "metadata": {},
   "outputs": [
    {
     "data": {
      "text/plain": [
       "dict_keys(['memory', 'steps', 'verbose', 'preprocessing', 'model', 'preprocessing__memory', 'preprocessing__steps', 'preprocessing__verbose', 'preprocessing__remove_columns', 'preprocessing__column_based_preprocess_pipeline', 'preprocessing__column_based_preprocess_pipeline__n_jobs', 'preprocessing__column_based_preprocess_pipeline__remainder', 'preprocessing__column_based_preprocess_pipeline__sparse_threshold', 'preprocessing__column_based_preprocess_pipeline__transformer_weights', 'preprocessing__column_based_preprocess_pipeline__transformers', 'preprocessing__column_based_preprocess_pipeline__verbose', 'preprocessing__column_based_preprocess_pipeline__numerical', 'preprocessing__column_based_preprocess_pipeline__categorical', 'preprocessing__column_based_preprocess_pipeline__numerical__memory', 'preprocessing__column_based_preprocess_pipeline__numerical__steps', 'preprocessing__column_based_preprocess_pipeline__numerical__verbose', 'preprocessing__column_based_preprocess_pipeline__numerical__imputer', 'preprocessing__column_based_preprocess_pipeline__numerical__scaler', 'preprocessing__column_based_preprocess_pipeline__numerical__imputer__add_indicator', 'preprocessing__column_based_preprocess_pipeline__numerical__imputer__copy', 'preprocessing__column_based_preprocess_pipeline__numerical__imputer__fill_value', 'preprocessing__column_based_preprocess_pipeline__numerical__imputer__missing_values', 'preprocessing__column_based_preprocess_pipeline__numerical__imputer__strategy', 'preprocessing__column_based_preprocess_pipeline__numerical__imputer__verbose', 'preprocessing__column_based_preprocess_pipeline__numerical__scaler__copy', 'preprocessing__column_based_preprocess_pipeline__numerical__scaler__with_mean', 'preprocessing__column_based_preprocess_pipeline__numerical__scaler__with_std', 'preprocessing__column_based_preprocess_pipeline__categorical__memory', 'preprocessing__column_based_preprocess_pipeline__categorical__steps', 'preprocessing__column_based_preprocess_pipeline__categorical__verbose', 'preprocessing__column_based_preprocess_pipeline__categorical__imputer', 'preprocessing__column_based_preprocess_pipeline__categorical__one_hot_encoder', 'preprocessing__column_based_preprocess_pipeline__categorical__imputer__add_indicator', 'preprocessing__column_based_preprocess_pipeline__categorical__imputer__copy', 'preprocessing__column_based_preprocess_pipeline__categorical__imputer__fill_value', 'preprocessing__column_based_preprocess_pipeline__categorical__imputer__missing_values', 'preprocessing__column_based_preprocess_pipeline__categorical__imputer__strategy', 'preprocessing__column_based_preprocess_pipeline__categorical__imputer__verbose', 'preprocessing__column_based_preprocess_pipeline__categorical__one_hot_encoder__categories', 'preprocessing__column_based_preprocess_pipeline__categorical__one_hot_encoder__drop', 'preprocessing__column_based_preprocess_pipeline__categorical__one_hot_encoder__dtype', 'preprocessing__column_based_preprocess_pipeline__categorical__one_hot_encoder__handle_unknown', 'preprocessing__column_based_preprocess_pipeline__categorical__one_hot_encoder__sparse', 'model__bootstrap', 'model__ccp_alpha', 'model__criterion', 'model__max_depth', 'model__max_features', 'model__max_leaf_nodes', 'model__max_samples', 'model__min_impurity_decrease', 'model__min_impurity_split', 'model__min_samples_leaf', 'model__min_samples_split', 'model__min_weight_fraction_leaf', 'model__n_estimators', 'model__n_jobs', 'model__oob_score', 'model__random_state', 'model__verbose', 'model__warm_start'])"
      ]
     },
     "execution_count": 66,
     "metadata": {},
     "output_type": "execute_result"
    }
   ],
   "source": [
    "rforest_baseline_pipeline.get_params().keys()"
   ]
  },
  {
   "cell_type": "code",
   "execution_count": 85,
   "metadata": {},
   "outputs": [],
   "source": [
    "def build_validation_curve(estimator, param_name, param_range, x_label, ylim):\n",
    "    train_scores, test_scores = validation_curve(estimator, df_data_X, df_data_y, \\\n",
    "                                                param_name=param_name, param_range=param_range, \\\n",
    "                                                cv=5, scoring=log_rmse_metric, n_jobs=-1)\n",
    "    train_scores = np.negative(train_scores)\n",
    "    test_scores = np.negative(test_scores)\n",
    "    train_scores_mean = np.mean(train_scores, axis=1)\n",
    "    train_scores_std = np.std(train_scores, axis=1)\n",
    "    test_scores_mean = np.mean(test_scores, axis=1)\n",
    "    test_scores_std = np.std(test_scores, axis=1)\n",
    "    print(\"Cross-validation scores:\")\n",
    "    print(test_scores_mean)\n",
    "    \n",
    "    plt.figure(figsize=(12, 8))\n",
    "    plt.title(\"Validation Curve with Random Forest for \" + x_label)\n",
    "    plt.xlabel(x_label)\n",
    "    plt.ylabel(\"Error (RMSLE)\")\n",
    "    plt.ylim(ylim[0], ylim[1])\n",
    "    plt.grid()\n",
    "    plt.plot(param_range, train_scores_mean, color='orange', label=\"Training error\")\n",
    "    plt.fill_between(param_range, \\\n",
    "                 train_scores_mean - train_scores_std, train_scores_mean + train_scores_std, alpha=0.2, color='orange')\n",
    "    plt.plot(param_range, test_scores_mean, color='blue', label=\"Cross-validation error\")\n",
    "    plt.fill_between(param_range, \\\n",
    "                 test_scores_mean - test_scores_std, test_scores_mean + test_scores_std, alpha=0.2, color='blue')\n",
    "    plt.legend(loc='best')"
   ]
  },
  {
   "cell_type": "markdown",
   "metadata": {},
   "source": [
    "#### Подбор количества деревьев "
   ]
  },
  {
   "cell_type": "code",
   "execution_count": 34,
   "metadata": {},
   "outputs": [],
   "source": [
    "n_estimators_param_range = [5, 10, 15, 20, 30, 50, 75, 100, 120, 150, 200]"
   ]
  },
  {
   "cell_type": "code",
   "execution_count": 68,
   "metadata": {},
   "outputs": [
    {
     "name": "stdout",
     "output_type": "stream",
     "text": [
      "Cross-validation scores:\n",
      "[0.15722435 0.1483364  0.1453785  0.14369609 0.1422383  0.14109673\n",
      " 0.14102912 0.14136281 0.14094948 0.14081105 0.14054345]\n"
     ]
    },
    {
     "data": {
      "image/png": "[encoded data removed]",
      "text/plain": [
       "<Figure size 864x576 with 1 Axes>"
      ]
     },
     "metadata": {
      "needs_background": "light"
     },
     "output_type": "display_data"
    }
   ],
   "source": [
    "build_validation_curve(rforest_baseline_pipeline, \"model__n_estimators\", n_estimators_param_range, \"n_estimators\", (0.05, 0.18))\n",
    "\n",
    "# Use sklearn.model_selection.KFold OR model_selection.validation_curve(estimator, …)\n",
    "#train_scores, test_scores = validation_curve(rforest_baseline_pipeline, df_data_X, df_data_y, \\\n",
    "#                                             param_name=\"model__n_estimators\", param_range=n_estimators_param_range, \\\n",
    "#                                             cv=5, scoring=log_rmse_metric, n_jobs=-1)"
   ]
  },
  {
   "cell_type": "code",
   "execution_count": 132,
   "metadata": {},
   "outputs": [
    {
     "name": "stderr",
     "output_type": "stream",
     "text": [
      "No handles with labels found to put in legend.\n"
     ]
    },
    {
     "data": {
      "image/png": "[encoded data removed]",
      "text/plain": [
       "<Figure size 800x500 with 1 Axes>"
      ]
     },
     "metadata": {},
     "output_type": "display_data"
    }
   ],
   "source": [
    "plt.figure(figsize=(8, 5))\n",
    "plt.legend(loc=\"upper right\")\n",
    "plt.title(\"Validation Curve with Random Forest for n_estimators\")\n",
    "plt.xlabel(\"Number of trees in the forest (n_estimators)\")\n",
    "plt.ylabel(\"Score\")\n",
    "plt.ylim(0.05, 0.18)\n",
    "plt.grid()\n",
    "plt.plot(n_estimators_param_range, train_scores_mean, color='orange', label=\"Training score\")\n",
    "plt.fill_between(n_estimators_param_range, \\\n",
    "                 train_scores_mean - train_scores_std, train_scores_mean + train_scores_std, alpha=0.2, color='orange')\n",
    "plt.plot(n_estimators_param_range, test_scores_mean, color='blue', label=\"Cross-validation score\")\n",
    "plt.fill_between(n_estimators_param_range, \\\n",
    "                 test_scores_mean - test_scores_std, test_scores_mean + test_scores_std, alpha=0.2, color='blue')\n",
    "plt.legend(loc='best')\n",
    "plt.show()"
   ]
  },
  {
   "cell_type": "markdown",
   "metadata": {},
   "source": [
    "Начиная где-то от 50 деревьев ошибка на валидации уже почти не меняется, только по чуть-чуть уменьшается."
   ]
  },
  {
   "cell_type": "markdown",
   "metadata": {},
   "source": [
    "Далее: посмотреть другие параметры: например, макс. глубина дерева, кол-во признаков и др."
   ]
  },
  {
   "cell_type": "markdown",
   "metadata": {},
   "source": [
    "#### Максимальная глубина дерева "
   ]
  },
  {
   "cell_type": "code",
   "execution_count": 64,
   "metadata": {},
   "outputs": [],
   "source": [
    "max_depth_param_range = range(5, 28, 3)"
   ]
  },
  {
   "cell_type": "code",
   "execution_count": 65,
   "metadata": {},
   "outputs": [
    {
     "name": "stdout",
     "output_type": "stream",
     "text": [
      "Cross-validation scores:\n",
      "[0.16750513 0.1465896  0.14204069 0.14158158 0.1415205  0.14166949\n",
      " 0.14152102 0.14139846]\n"
     ]
    },
    {
     "data": {
      "image/png": "[encoded data removed]",
      "text/plain": [
       "<Figure size 864x576 with 1 Axes>"
      ]
     },
     "metadata": {
      "needs_background": "light"
     },
     "output_type": "display_data"
    }
   ],
   "source": [
    "# n_estimator=100 by default\n",
    "build_validation_curve(rforest_baseline_pipeline, \"model__max_depth\", max_depth_param_range, \"max_depth\", (0.05, 0.18))"
   ]
  },
  {
   "cell_type": "markdown",
   "metadata": {},
   "source": [
    "#### Минимальное число объектов в листе "
   ]
  },
  {
   "cell_type": "code",
   "execution_count": 78,
   "metadata": {},
   "outputs": [
    {
     "name": "stdout",
     "output_type": "stream",
     "text": [
      "1 2 3 4 5 6 7 8 9 10 11 12 13 14 15\n"
     ]
    }
   ],
   "source": [
    "min_samples_leaf_param_range = range(1, 16)\n",
    "print(*min_samples_leaf_param_range)"
   ]
  },
  {
   "cell_type": "code",
   "execution_count": 79,
   "metadata": {},
   "outputs": [
    {
     "name": "stdout",
     "output_type": "stream",
     "text": [
      "Cross-validation scores:\n",
      "[0.14136281 0.14140184 0.14225086 0.14318385 0.14451729 0.14561663\n",
      " 0.14733512 0.14891694 0.15013224 0.15140449 0.15263465 0.15410379\n",
      " 0.15523348 0.15661442 0.15812329]\n"
     ]
    },
    {
     "data": {
      "image/png": "[encoded data removed]",
      "text/plain": [
       "<Figure size 864x576 with 1 Axes>"
      ]
     },
     "metadata": {
      "needs_background": "light"
     },
     "output_type": "display_data"
    }
   ],
   "source": [
    "build_validation_curve(rforest_baseline_pipeline, \"model__min_samples_leaf\", \\\n",
    "                       min_samples_leaf_param_range, \"min_samples_leaf\", (0.05, 0.18))"
   ]
  },
  {
   "cell_type": "markdown",
   "metadata": {},
   "source": [
    "При увеличении min_samples_leaf ошибка на валидации увеличивается, но зато и уменьшается эффект переобучения, т.к. значение ошибки на тренировочной выборке приближается к ошибке на валидации. Без особых потерь можно было бы взять min_samples_leaf=5. Увеличение min_samples_leaf, согласно документации, имеет сглаживающий эффект."
   ]
  },
  {
   "cell_type": "markdown",
   "metadata": {},
   "source": [
    "#### Число признаков, по которым ищется разбиение"
   ]
  },
  {
   "cell_type": "code",
   "execution_count": 95,
   "metadata": {},
   "outputs": [
    {
     "name": "stdout",
     "output_type": "stream",
     "text": [
      "2 4 8 16 32 64 100 128 160 200 256 280\n"
     ]
    }
   ],
   "source": [
    "features_total = 291\n",
    "max_features_param_range = [2, 4, 8, 16, 32, 64, 100, 128, 160, 200, 256, 280]\n",
    "print(*max_features_param_range)"
   ]
  },
  {
   "cell_type": "code",
   "execution_count": 96,
   "metadata": {},
   "outputs": [
    {
     "name": "stdout",
     "output_type": "stream",
     "text": [
      "Cross-validation scores:\n",
      "[0.1742152  0.16398897 0.15440317 0.14496509 0.14058647 0.1375697\n",
      " 0.13655512 0.13764097 0.13791636 0.13923674 0.13998817 0.14121927]\n"
     ]
    },
    {
     "data": {
      "image/png": "[encoded data removed]",
      "text/plain": [
       "<Figure size 864x576 with 1 Axes>"
      ]
     },
     "metadata": {
      "needs_background": "light"
     },
     "output_type": "display_data"
    }
   ],
   "source": [
    "build_validation_curve(rforest_baseline_pipeline, \"model__max_features\", \\\n",
    "                       max_features_param_range, \"max_features\", (0.05, 0.18))"
   ]
  },
  {
   "cell_type": "markdown",
   "metadata": {},
   "source": [
    "Лучшие результаты получаются примерно на 100 признаках. Это как раз примерно соответствует эмпирической рекомендации в max_features = n/3 для задачи регрессии, где n -- общее количество признаков.\n",
    "Здесь должно соблюдаться то, что за счет неполного числа используемых признаков мы получаем разные подмножества признаков и уменьшаем коррелированность ошибок между базовыми алгоритмами, они должны получаться более разнообразными."
   ]
  },
  {
   "cell_type": "markdown",
   "metadata": {},
   "source": [
    "Почему-то при задании max_features=291 результат = nan... Надо будет посмотреть, сколько в итоге признаков получилось. Судя по прошлым моделям, должно быть 291"
   ]
  },
  {
   "cell_type": "markdown",
   "metadata": {},
   "source": [
    "Далее: провести кросс-валидацию с целью нахождения оптимального множества значений параметров"
   ]
  },
  {
   "cell_type": "markdown",
   "metadata": {},
   "source": [
    "#### Подбор оптимальных параметров модели"
   ]
  },
  {
   "cell_type": "code",
   "execution_count": 73,
   "metadata": {},
   "outputs": [],
   "source": [
    "# assume n_estimators=150\n",
    "rforest_n_estimators=150\n",
    "rforest_model = RandomForestRegressor(n_estimators=rforest_n_estimators, random_state=19)\n",
    "rforest_pipeline = Pipeline([('preprocessing', preprocessing_pipeline), ('model', rforest_model)])"
   ]
  },
  {
   "cell_type": "code",
   "execution_count": null,
   "metadata": {},
   "outputs": [],
   "source": [
    "rforest_max_depth_range = [10, 20, 30]\n",
    "rforest_min_samples_leaf_range = [1, 2, 3, 4, 5, 8, 10]\n",
    "rforest_max_features_range = [80, 100, 120, 200, 280]"
   ]
  },
  {
   "cell_type": "code",
   "execution_count": 33,
   "metadata": {},
   "outputs": [],
   "source": [
    "rforest_parameters_grid = {'model__max_depth': rforest_max_depth_range, \\\n",
    "                           'model__min_samples_leaf': rforest_min_samples_leaf_range, \\\n",
    "                           'model__max_features': rforest_max_features_range}\n",
    "\n",
    "rforest_grid_cv = GridSearchCV(rforest_pipeline, rforest_parameters_grid, scoring=log_rmse_metric, cv=8, n_jobs=-1)"
   ]
  },
  {
   "cell_type": "code",
   "execution_count": 34,
   "metadata": {},
   "outputs": [
    {
     "name": "stdout",
     "output_type": "stream",
     "text": [
      "Wall time: 37min 59s\n"
     ]
    },
    {
     "data": {
      "text/plain": [
       "GridSearchCV(cv=8,\n",
       "             estimator=Pipeline(steps=[('preprocessing',\n",
       "                                        Pipeline(steps=[('remove_columns',\n",
       "                                                         <__main__.DataFrameColumnsRemove object at 0x0000016CCB1A4850>),\n",
       "                                                        ('column_based_preprocess_pipeline',\n",
       "                                                         ColumnTransformer(transformers=[('numerical',\n",
       "                                                                                          Pipeline(steps=[('imputer',\n",
       "                                                                                                           SimpleImputer()),\n",
       "                                                                                                          ('scaler',\n",
       "                                                                                                           StandardScaler())]),\n",
       "                                                                                          <sklearn.compose._column_transformer.ma...\n",
       "                                                                                                           OneHotEncoder(handle_unknown='ignore'))]),\n",
       "                                                                                          <sklearn.compose._column_transformer.make_column_selector object at 0x0000016CCB1A43A0>)]))])),\n",
       "                                       ('model',\n",
       "                                        RandomForestRegressor(n_estimators=150))]),\n",
       "             n_jobs=-1,\n",
       "             param_grid={'model__max_depth': [10, 20, 30],\n",
       "                         'model__max_features': [80, 100, 120, 200, 280],\n",
       "                         'model__min_samples_leaf': [1, 2, 3, 4, 5, 8, 10]},\n",
       "             scoring=make_scorer(<lambda>, greater_is_better=False))"
      ]
     },
     "execution_count": 34,
     "metadata": {},
     "output_type": "execute_result"
    }
   ],
   "source": [
    "%%time\n",
    "rforest_grid_cv.fit(df_data_X, df_data_y)"
   ]
  },
  {
   "cell_type": "code",
   "execution_count": 35,
   "metadata": {},
   "outputs": [
    {
     "name": "stdout",
     "output_type": "stream",
     "text": [
      "-0.13432571522223286\n",
      "{'model__max_depth': 30, 'model__max_features': 100, 'model__min_samples_leaf': 1}\n"
     ]
    }
   ],
   "source": [
    "print(rforest_grid_cv.best_score_)\n",
    "print(rforest_grid_cv.best_params_)"
   ]
  },
  {
   "cell_type": "code",
   "execution_count": 42,
   "metadata": {},
   "outputs": [
    {
     "name": "stdout",
     "output_type": "stream",
     "text": [
      "Check the number of features:\n",
      "291\n"
     ]
    }
   ],
   "source": [
    "rforest_best_estimator = rforest_grid_cv.best_estimator_\n",
    "rforest_trained_model = rforest_best_estimator.named_steps['model']\n",
    "print('Check the number of features:')\n",
    "print(rforest_trained_model.n_features_)"
   ]
  },
  {
   "cell_type": "code",
   "execution_count": 29,
   "metadata": {},
   "outputs": [],
   "source": [
    "#rforest_max_depth_range_2 = [30, 50, 100]\n",
    "rforest_max_features_range_2 = [95, 100, 105, 110, 115]\n",
    "\n",
    "#rforest_model_2 = RandomForestRegressor(n_estimators=rforest_n_estimators)\n",
    "#rforest_pipeline_2 = Pipeline([('preprocessing', preprocessing_pipeline), ('model', rforest_model_2)])"
   ]
  },
  {
   "cell_type": "code",
   "execution_count": 30,
   "metadata": {},
   "outputs": [],
   "source": [
    "rforest_parameters_grid_2 = {'model__max_features': rforest_max_features_range_2}\n",
    "rforest_grid_cv_2 = GridSearchCV(rforest_pipeline, rforest_parameters_grid_2, scoring=log_rmse_metric, cv=7, n_jobs=-1)"
   ]
  },
  {
   "cell_type": "code",
   "execution_count": 31,
   "metadata": {},
   "outputs": [
    {
     "name": "stdout",
     "output_type": "stream",
     "text": [
      "Wall time: 2min 39s\n"
     ]
    },
    {
     "data": {
      "text/plain": [
       "GridSearchCV(cv=7,\n",
       "             estimator=Pipeline(steps=[('preprocessing',\n",
       "                                        Pipeline(steps=[('remove_columns',\n",
       "                                                         <__main__.DataFrameColumnsRemove object at 0x0000026D27B21430>),\n",
       "                                                        ('column_based_preprocess_pipeline',\n",
       "                                                         ColumnTransformer(transformers=[('numerical',\n",
       "                                                                                          Pipeline(steps=[('imputer',\n",
       "                                                                                                           SimpleImputer()),\n",
       "                                                                                                          ('scaler',\n",
       "                                                                                                           StandardScaler())]),\n",
       "                                                                                          <sklearn.compose._column_transformer.ma...\n",
       "                                                                                                           SimpleImputer(fill_value='<missing>',\n",
       "                                                                                                                         strategy='constant')),\n",
       "                                                                                                          ('one_hot_encoder',\n",
       "                                                                                                           OneHotEncoder(handle_unknown='ignore'))]),\n",
       "                                                                                          <sklearn.compose._column_transformer.make_column_selector object at 0x0000026D27B21610>)]))])),\n",
       "                                       ('model',\n",
       "                                        RandomForestRegressor(n_estimators=150))]),\n",
       "             n_jobs=-1,\n",
       "             param_grid={'model__max_features': [95, 100, 105, 110, 115]},\n",
       "             scoring=make_scorer(<lambda>, greater_is_better=False))"
      ]
     },
     "execution_count": 31,
     "metadata": {},
     "output_type": "execute_result"
    }
   ],
   "source": [
    "%%time\n",
    "rforest_grid_cv_2.fit(df_data_X, df_data_y)"
   ]
  },
  {
   "cell_type": "code",
   "execution_count": 32,
   "metadata": {},
   "outputs": [
    {
     "name": "stdout",
     "output_type": "stream",
     "text": [
      "-0.1357987556990535\n",
      "{'model__max_features': 100}\n"
     ]
    }
   ],
   "source": [
    "print(rforest_grid_cv_2.best_score_)\n",
    "print(rforest_grid_cv_2.best_params_)"
   ]
  },
  {
   "cell_type": "code",
   "execution_count": 33,
   "metadata": {},
   "outputs": [],
   "source": [
    "rforest_best_estimator_2 = rforest_grid_cv_2.best_estimator_\n",
    "rforest_trained_model_2 = rforest_best_estimator_2.named_steps['model']"
   ]
  },
  {
   "cell_type": "code",
   "execution_count": 66,
   "metadata": {},
   "outputs": [],
   "source": [
    "trees_depth = [estimator.get_depth() for estimator in rforest_trained_model_2.estimators_]\n",
    "trees_depth = np.array(trees_depth)"
   ]
  },
  {
   "cell_type": "code",
   "execution_count": 72,
   "metadata": {},
   "outputs": [
    {
     "name": "stdout",
     "output_type": "stream",
     "text": [
      "Base algorithms. Decision tree depth. Mean: 23.64, Std: 2.139408017809288\n"
     ]
    }
   ],
   "source": [
    "print(\"Base algorithms. Decision tree depth. Mean: {}, Std: {}\".format(trees_depth.mean(), trees_depth.std()))"
   ]
  },
  {
   "cell_type": "markdown",
   "metadata": {},
   "source": [
    "Выбрать модель. Узнать получившуюся глубину дерева при max_depth=None.\n",
    "Попробовать min_samples_leaf > 1"
   ]
  },
  {
   "cell_type": "markdown",
   "metadata": {},
   "source": [
    "#### Random Forest. Train the final estimator"
   ]
  },
  {
   "cell_type": "code",
   "execution_count": 153,
   "metadata": {},
   "outputs": [],
   "source": [
    "rforest_final_model = RandomForestRegressor(n_estimators=2000, max_features=100, oob_score=True, n_jobs=-1)\n",
    "rforest_final_pipeline = Pipeline([('preprocessing', preprocessing_pipeline), ('model', rforest_final_model)])"
   ]
  },
  {
   "cell_type": "code",
   "execution_count": 154,
   "metadata": {},
   "outputs": [
    {
     "name": "stdout",
     "output_type": "stream",
     "text": [
      "Wall time: 1min 40s\n"
     ]
    },
    {
     "data": {
      "text/plain": [
       "Pipeline(steps=[('preprocessing',\n",
       "                 Pipeline(steps=[('remove_columns',\n",
       "                                  <__main__.DataFrameColumnsRemove object at 0x0000026D27B21430>),\n",
       "                                 ('column_based_preprocess_pipeline',\n",
       "                                  ColumnTransformer(transformers=[('numerical',\n",
       "                                                                   Pipeline(steps=[('imputer',\n",
       "                                                                                    SimpleImputer()),\n",
       "                                                                                   ('scaler',\n",
       "                                                                                    StandardScaler())]),\n",
       "                                                                   <sklearn.compose._column_transformer.make_column_selector object at 0x...),\n",
       "                                                                  ('categorical',\n",
       "                                                                   Pipeline(steps=[('imputer',\n",
       "                                                                                    SimpleImputer(fill_value='<missing>',\n",
       "                                                                                                  strategy='constant')),\n",
       "                                                                                   ('one_hot_encoder',\n",
       "                                                                                    OneHotEncoder(handle_unknown='ignore'))]),\n",
       "                                                                   <sklearn.compose._column_transformer.make_column_selector object at 0x0000026D27B21610>)]))])),\n",
       "                ('model',\n",
       "                 RandomForestRegressor(max_features=100, n_estimators=2000,\n",
       "                                       n_jobs=-1, oob_score=True))])"
      ]
     },
     "execution_count": 154,
     "metadata": {},
     "output_type": "execute_result"
    }
   ],
   "source": [
    "%%time\n",
    "rforest_final_pipeline.fit(df_data_X, df_data_y)"
   ]
  },
  {
   "cell_type": "code",
   "execution_count": 155,
   "metadata": {},
   "outputs": [
    {
     "data": {
      "text/plain": [
       "array([206514.50688705, 168528.55088195, 214911.10427807, ...,\n",
       "       238195.6251768 , 133871.6171875 , 152292.90670171])"
      ]
     },
     "execution_count": 155,
     "metadata": {},
     "output_type": "execute_result"
    }
   ],
   "source": [
    "rforest_final_trained_model.oob_prediction_"
   ]
  },
  {
   "cell_type": "code",
   "execution_count": 156,
   "metadata": {},
   "outputs": [
    {
     "name": "stdout",
     "output_type": "stream",
     "text": [
      "Random Forest. Error on the training set: 0.053940088538112656\n"
     ]
    }
   ],
   "source": [
    "rforest_predicted_y = rforest_final_pipeline.predict(df_data_X)\n",
    "\n",
    "error = mean_squared_error(np.log(df_data_y), np.log(rforest_predicted_y), squared=False)\n",
    "print(\"Random Forest. Error on the training set: {}\".format(error))"
   ]
  },
  {
   "cell_type": "code",
   "execution_count": 157,
   "metadata": {},
   "outputs": [
    {
     "name": "stdout",
     "output_type": "stream",
     "text": [
      "R^2 out-of-bag score: 0.9010097452503602\n",
      "Random Forest. Out-of-bag error on the training set: 0.13447565458066948\n"
     ]
    }
   ],
   "source": [
    "rforest_final_trained_model = rforest_final_pipeline.named_steps['model']\n",
    "print(\"R^2 out-of-bag score: {}\".format(rforest_final_trained_model.oob_score_))\n",
    "rforest_oob_predicted_y = rforest_final_trained_model.oob_prediction_\n",
    "\n",
    "error = mean_squared_error(np.log(df_data_y), np.log(rforest_oob_predicted_y), squared=False)\n",
    "print(\"Random Forest. Out-of-bag error on the training set: {}\".format(error))"
   ]
  },
  {
   "cell_type": "markdown",
   "metadata": {},
   "source": [
    "Случайный лес пока что не показывает чего-то выдающегося. На тесте ошибка равна около 0.145, что больше, чем в Лассо и гребневой регрессии. На тренировочной выборке out-of-bag error равен примерно 0.1344.\n",
    "Возможно, где-то есть нюансы на уровне предобработки данных...."
   ]
  },
  {
   "cell_type": "markdown",
   "metadata": {},
   "source": [
    "Далее: попробовать преобразовать категориальные признаки в числовые (порядковые)\n",
    "https://www.kaggle.com/c/house-prices-advanced-regression-techniques/discussion/32425"
   ]
  },
  {
   "cell_type": "markdown",
   "metadata": {},
   "source": [
    "#### Random Forest. Ordinal Encoder"
   ]
  },
  {
   "cell_type": "code",
   "execution_count": 185,
   "metadata": {},
   "outputs": [],
   "source": [
    "rforest_final_model = RandomForestRegressor(n_estimators=2000, max_features=70, oob_score=True, n_jobs=-1)\n",
    "rforest_final_pipeline = Pipeline([('preprocessing', preprocessing_pipeline_cat_ordinal), ('model', rforest_final_model)])"
   ]
  },
  {
   "cell_type": "code",
   "execution_count": 186,
   "metadata": {},
   "outputs": [
    {
     "name": "stdout",
     "output_type": "stream",
     "text": [
      "Wall time: 15.3 s\n"
     ]
    },
    {
     "data": {
      "text/plain": [
       "Pipeline(steps=[('preprocessing',\n",
       "                 Pipeline(steps=[('remove_columns',\n",
       "                                  <__main__.DataFrameColumnsRemove object at 0x0000026034065EE0>),\n",
       "                                 ('custom_ordinal_encoder',\n",
       "                                  <__main__.CustomOrdinalEncoder object at 0x0000026034065F40>),\n",
       "                                 ('column_based_preprocess_pipeline',\n",
       "                                  ColumnTransformer(transformers=[('numerical',\n",
       "                                                                   Pipeline(steps=[('imputer',\n",
       "                                                                                    SimpleImputer()),\n",
       "                                                                                   ('scaler',\n",
       "                                                                                    St...\n",
       "                                                                   <sklearn.compose._column_transformer.make_column_selector object at 0x00000260340650D0>),\n",
       "                                                                  ('categorical',\n",
       "                                                                   Pipeline(steps=[('imputer',\n",
       "                                                                                    SimpleImputer(fill_value='<missing>',\n",
       "                                                                                                  strategy='constant')),\n",
       "                                                                                   ('one_hot_encoder',\n",
       "                                                                                    OneHotEncoder(handle_unknown='ignore'))]),\n",
       "                                                                   <sklearn.compose._column_transformer.make_column_selector object at 0x0000026034065B80>)]))])),\n",
       "                ('model',\n",
       "                 RandomForestRegressor(max_features=70, n_estimators=2000,\n",
       "                                       n_jobs=-1, oob_score=True))])"
      ]
     },
     "execution_count": 186,
     "metadata": {},
     "output_type": "execute_result"
    }
   ],
   "source": [
    "%%time\n",
    "rforest_final_pipeline.fit(df_data_X, df_data_y)"
   ]
  },
  {
   "cell_type": "code",
   "execution_count": 187,
   "metadata": {},
   "outputs": [
    {
     "name": "stdout",
     "output_type": "stream",
     "text": [
      "Random Forest. Error on the training set: 0.05362629704132\n"
     ]
    }
   ],
   "source": [
    "rforest_predicted_y = rforest_final_pipeline.predict(df_data_X)\n",
    "\n",
    "error = mean_squared_error(np.log(df_data_y), np.log(rforest_predicted_y), squared=False)\n",
    "print(\"Random Forest. Error on the training set: {}\".format(error))"
   ]
  },
  {
   "cell_type": "code",
   "execution_count": 188,
   "metadata": {},
   "outputs": [
    {
     "name": "stdout",
     "output_type": "stream",
     "text": [
      "R^2 out-of-bag score: 0.9015133403161631\n",
      "Random Forest. Out-of-bag error on the training set: 0.13344305415370522\n"
     ]
    }
   ],
   "source": [
    "rforest_final_trained_model = rforest_final_pipeline.named_steps['model']\n",
    "print(\"R^2 out-of-bag score: {}\".format(rforest_final_trained_model.oob_score_))\n",
    "rforest_oob_predicted_y = rforest_final_trained_model.oob_prediction_\n",
    "\n",
    "error = mean_squared_error(np.log(df_data_y), np.log(rforest_oob_predicted_y), squared=False)\n",
    "print(\"Random Forest. Out-of-bag error on the training set: {}\".format(error))"
   ]
  },
  {
   "cell_type": "markdown",
   "metadata": {},
   "source": [
    "Использование Ordinal Feature Encoding улучшило результат только на 0.001."
   ]
  },
  {
   "cell_type": "markdown",
   "metadata": {},
   "source": [
    "#### Предсказания в Kaggle"
   ]
  },
  {
   "cell_type": "code",
   "execution_count": 163,
   "metadata": {},
   "outputs": [],
   "source": [
    "df_test_data = pd.read_csv('data/test.csv')\n",
    "final_test_predictions = pd.Series(rforest_final_pipeline.predict(df_test_data))"
   ]
  },
  {
   "cell_type": "code",
   "execution_count": 164,
   "metadata": {},
   "outputs": [
    {
     "data": {
      "text/html": [
       "<div>\n",
       "<style scoped>\n",
       "    .dataframe tbody tr th:only-of-type {\n",
       "        vertical-align: middle;\n",
       "    }\n",
       "\n",
       "    .dataframe tbody tr th {\n",
       "        vertical-align: top;\n",
       "    }\n",
       "\n",
       "    .dataframe thead th {\n",
       "        text-align: right;\n",
       "    }\n",
       "</style>\n",
       "<table border=\"1\" class=\"dataframe\">\n",
       "  <thead>\n",
       "    <tr style=\"text-align: right;\">\n",
       "      <th></th>\n",
       "      <th>Id</th>\n",
       "      <th>SalePrice</th>\n",
       "    </tr>\n",
       "  </thead>\n",
       "  <tbody>\n",
       "    <tr>\n",
       "      <th>0</th>\n",
       "      <td>1461</td>\n",
       "      <td>126926.6905</td>\n",
       "    </tr>\n",
       "    <tr>\n",
       "      <th>1</th>\n",
       "      <td>1462</td>\n",
       "      <td>153740.4795</td>\n",
       "    </tr>\n",
       "    <tr>\n",
       "      <th>2</th>\n",
       "      <td>1463</td>\n",
       "      <td>179893.4765</td>\n",
       "    </tr>\n",
       "    <tr>\n",
       "      <th>3</th>\n",
       "      <td>1464</td>\n",
       "      <td>183771.9780</td>\n",
       "    </tr>\n",
       "    <tr>\n",
       "      <th>4</th>\n",
       "      <td>1465</td>\n",
       "      <td>195928.0830</td>\n",
       "    </tr>\n",
       "    <tr>\n",
       "      <th>...</th>\n",
       "      <td>...</td>\n",
       "      <td>...</td>\n",
       "    </tr>\n",
       "    <tr>\n",
       "      <th>1454</th>\n",
       "      <td>2915</td>\n",
       "      <td>86374.7305</td>\n",
       "    </tr>\n",
       "    <tr>\n",
       "      <th>1455</th>\n",
       "      <td>2916</td>\n",
       "      <td>87066.7240</td>\n",
       "    </tr>\n",
       "    <tr>\n",
       "      <th>1456</th>\n",
       "      <td>2917</td>\n",
       "      <td>157493.5465</td>\n",
       "    </tr>\n",
       "    <tr>\n",
       "      <th>1457</th>\n",
       "      <td>2918</td>\n",
       "      <td>114349.1250</td>\n",
       "    </tr>\n",
       "    <tr>\n",
       "      <th>1458</th>\n",
       "      <td>2919</td>\n",
       "      <td>224230.0640</td>\n",
       "    </tr>\n",
       "  </tbody>\n",
       "</table>\n",
       "<p>1459 rows × 2 columns</p>\n",
       "</div>"
      ],
      "text/plain": [
       "        Id    SalePrice\n",
       "0     1461  126926.6905\n",
       "1     1462  153740.4795\n",
       "2     1463  179893.4765\n",
       "3     1464  183771.9780\n",
       "4     1465  195928.0830\n",
       "...    ...          ...\n",
       "1454  2915   86374.7305\n",
       "1455  2916   87066.7240\n",
       "1456  2917  157493.5465\n",
       "1457  2918  114349.1250\n",
       "1458  2919  224230.0640\n",
       "\n",
       "[1459 rows x 2 columns]"
      ]
     },
     "execution_count": 164,
     "metadata": {},
     "output_type": "execute_result"
    }
   ],
   "source": [
    "final_result = pd.concat([df_test_data['Id'], final_test_predictions], axis=1, keys=['Id', 'SalePrice'])\n",
    "final_result"
   ]
  },
  {
   "cell_type": "code",
   "execution_count": 166,
   "metadata": {},
   "outputs": [],
   "source": [
    "final_result.to_csv('output\\\\random_forest_cat_ordinal_encoder_estimators_2000_max_features_70.csv', sep=',', header=True, index=False)"
   ]
  },
  {
   "cell_type": "markdown",
   "metadata": {},
   "source": [
    "Удалить признаки с большим кол-вом пропусков (> 90%), по остальным, возможно, проанализировать корреляцию, посмотреть, почему они пустые, возможно, использовать SimpleImputer.\n",
    "\n",
    "Анализировал пропущенные значения. Пока думаю так: \n",
    "* удалить колонки с > 90% пропущенного на train. Это PoolQC, MiscFeature, Alley.\n",
    "* для категориальных признаков: пропущенное значение выделить в отдельную категорию. Назвать ее как-то\n",
    "* для числовых признаков: Применить Imputer, strategy=mean"
   ]
  },
  {
   "cell_type": "markdown",
   "metadata": {},
   "source": [
    "Затем определиться со схемой валидации: hold-out, cross-validation? плюсы/минусы.\n",
    "После чего можно попробовать запустить линейную регрессию.\n",
    "Держим в уме масштабирование признаков для нормальной работы градиентного спуска, а также мультиколлинеарность и регуляризацию.\n",
    "Попробуем запустить без них, чтобы посмотреть на качество модели.\n",
    "Интересно посмотреть на влияние мультиколлинеарности, посмотреть на неустойчивость и попробовать определить число обусловленности матрицы."
   ]
  }
 ],
 "metadata": {
  "kernelspec": {
   "display_name": "Python 3",
   "language": "python",
   "name": "python3"
  },
  "language_info": {
   "codemirror_mode": {
    "name": "ipython",
    "version": 3
   },
   "file_extension": ".py",
   "mimetype": "text/x-python",
   "name": "python",
   "nbconvert_exporter": "python",
   "pygments_lexer": "ipython3",
   "version": "3.8.3"
  }
 },
 "nbformat": 4,
 "nbformat_minor": 2
}
