{
 "cells": [
  {
   "cell_type": "markdown",
   "metadata": {},
   "source": [
    "https://www.kaggle.com/c/house-prices-advanced-regression-techniques"
   ]
  },
  {
   "cell_type": "code",
   "execution_count": 1,
   "metadata": {},
   "outputs": [],
   "source": [
    "import pandas as pd\n",
    "import numpy as np\n",
    "\n",
    "from sklearn import linear_model, datasets, metrics\n",
    "from sklearn.preprocessing import OneHotEncoder, StandardScaler\n",
    "from sklearn.pipeline import Pipeline\n",
    "from sklearn.metrics import mean_squared_error\n",
    "from sklearn.metrics import make_scorer\n",
    "from sklearn.base import TransformerMixin\n",
    "from sklearn.base import BaseEstimator\n",
    "from sklearn.base import RegressorMixin\n",
    "from sklearn.impute import SimpleImputer\n",
    "from sklearn.compose import ColumnTransformer\n",
    "from sklearn.compose import make_column_selector\n",
    "from sklearn.model_selection import GridSearchCV\n",
    "from sklearn.model_selection import validation_curve\n",
    "from sklearn.model_selection import train_test_split\n",
    "\n",
    "from matplotlib import pyplot as plt\n",
    "import seaborn as sns\n",
    "%matplotlib inline"
   ]
  },
  {
   "cell_type": "code",
   "execution_count": 2,
   "metadata": {},
   "outputs": [],
   "source": [
    "sns.set(rc={\"figure.figsize\": (8, 4)})"
   ]
  },
  {
   "cell_type": "markdown",
   "metadata": {},
   "source": [
    "### Data loading"
   ]
  },
  {
   "cell_type": "code",
   "execution_count": 3,
   "metadata": {},
   "outputs": [],
   "source": [
    "df_train = pd.read_csv('data/train.csv')\n",
    "df_test = pd.read_csv('data/test.csv')\n",
    "\n",
    "df_test_id_series = df_test['Id']"
   ]
  },
  {
   "cell_type": "markdown",
   "metadata": {},
   "source": [
    "### Data cleaning and preparation"
   ]
  },
  {
   "cell_type": "markdown",
   "metadata": {},
   "source": [
    "#### Helper functions"
   ]
  },
  {
   "cell_type": "code",
   "execution_count": 4,
   "metadata": {},
   "outputs": [],
   "source": [
    "def missing_data_total_percent(df):\n",
    "    missing_total = df.isnull().sum().sort_values(ascending=False)\n",
    "    missing_percent = (df.isnull().sum() / df.shape[0]).sort_values(ascending=False)\n",
    "    return (missing_total, missing_percent)"
   ]
  },
  {
   "cell_type": "markdown",
   "metadata": {},
   "source": [
    "#### Drop some columns with too much missing data"
   ]
  },
  {
   "cell_type": "code",
   "execution_count": 5,
   "metadata": {},
   "outputs": [
    {
     "name": "stdout",
     "output_type": "stream",
     "text": [
      "Columns with too much missing data: ['PoolQC' 'MiscFeature' 'Alley']\n",
      "Columns to remove: ['PoolQC' 'MiscFeature' 'Alley' 'Id']\n"
     ]
    }
   ],
   "source": [
    "missing_total, missing_percent = missing_data_total_percent(df_train)\n",
    "\n",
    "columns_with_too_much_missing_data = missing_percent[missing_percent > 0.9].index.values\n",
    "print(\"Columns with too much missing data: {}\".format(columns_with_too_much_missing_data))\n",
    "\n",
    "# we should not consider 'Id' as a feature\n",
    "columns_to_remove = np.append(columns_with_too_much_missing_data, ['Id'])\n",
    "print(\"Columns to remove: {}\".format(columns_to_remove))\n",
    "\n",
    "df_train = df_train.drop(columns_to_remove, axis='columns')\n",
    "df_test = df_test.drop(columns_to_remove, axis='columns')"
   ]
  },
  {
   "cell_type": "markdown",
   "metadata": {},
   "source": [
    "#### Fill missing data for numerical features, where mean/median doesn't make sense "
   ]
  },
  {
   "cell_type": "code",
   "execution_count": 6,
   "metadata": {},
   "outputs": [],
   "source": [
    "num_features_fill_na_0 = ['LotFrontage', 'MasVnrArea', 'BsmtHalfBath', 'BsmtFullBath',\n",
    "                          'BsmtFinSF1', 'BsmtFinSF2', 'BsmtUnfSF', 'TotalBsmtSF', 'GarageArea', 'GarageCars']\n",
    "\n",
    "df_train[num_features_fill_na_0] = df_train[num_features_fill_na_0].fillna(0)\n",
    "df_test[num_features_fill_na_0] = df_test[num_features_fill_na_0].fillna(0)"
   ]
  },
  {
   "cell_type": "markdown",
   "metadata": {},
   "source": [
    "#### Categorical encoding for some numerical features"
   ]
  },
  {
   "cell_type": "code",
   "execution_count": 7,
   "metadata": {},
   "outputs": [],
   "source": [
    "month_num_to_name_dict = {1: 'Jan', 2: 'Feb', 3: 'Mar', 4: 'Apr', 5: 'May',\n",
    "                          6: 'Jun', 7: 'Jul', 8: 'Aug', 9: 'Sep', 10: 'Oct', 11: 'Nov', 12: 'Dec'}\n",
    "\n",
    "df_train['MoSold'] = df_train['MoSold'].map(month_num_to_name_dict)\n",
    "df_test['MoSold'] = df_test['MoSold'].map(month_num_to_name_dict)\n",
    "\n",
    "ms_subclass_num_cat_dict = {20: 'ms_subclass_20', 30: 'ms_subclass_30',\n",
    "                            40: 'ms_subclass_40', 45: 'ms_subclass_45', 50: 'ms_subclass_50',\n",
    "                            60: 'ms_subclass_60', 70: 'ms_subclass_70', 75: 'ms_subclass_75',\n",
    "                            80: 'ms_subclass_80', 85: 'ms_subclass_85', 90: 'ms_subclass_90',\n",
    "                            120: 'ms_subclass_120', 150: 'ms_subclass_150', 160: 'ms_subclass_160',\n",
    "                            180: 'ms_subclass_180', 190: 'ms_subclass_190'}\n",
    "\n",
    "df_train['MSSubClass'] = df_train['MSSubClass'].map(ms_subclass_num_cat_dict)\n",
    "df_test['MSSubClass'] = df_test['MSSubClass'].map(ms_subclass_num_cat_dict)"
   ]
  },
  {
   "cell_type": "markdown",
   "metadata": {},
   "source": [
    "Преобразование признака MoSold в категориальный улучшил результат на тестовой выборке на 0.0002, немного. MSSubClass: улучшило примерно на 0.00036"
   ]
  },
  {
   "cell_type": "markdown",
   "metadata": {},
   "source": [
    "#### Log transformation: features"
   ]
  },
  {
   "cell_type": "markdown",
   "metadata": {},
   "source": [
    "Признак 'GrLivArea':\n",
    "\n",
    "\n",
    "Удаление выброса сильно улучшает результат на CV, но несколько ухудшает его на test set. В чем дело? Скорее всего в тестовой выборке тоже outlier с большим значением GrLivArea и аномально маленькой ценой.\n",
    "\n",
    "Видимо, вот он: id=2550\n",
    "\n",
    "Можно искусственно уменьшить предсказываемый sale price для этого объекта в test set, но это нечестно. Хотя это и должно заметно улучшить оценку на test set. См. https://www.kaggle.com/c/house-prices-advanced-regression-techniques/discussion/210174\n",
    "\n",
    "Попробуем применить какую-нибудь трансформацию для этого признака (логарифм?), чтобы уменьшить влияние этих выбросов.\n",
    "\n",
    "Скорее всего, по этой причине, без удаления выбросов, у нас получались странные результаты на отложенной (hold-out) выборке.\n",
    "\n",
    "Лог-трансформация (log scaling) признака GrLivArea убрала положительное смещение (skewness) в распределении этого признака. 1.367 -> -6.00e-3. См. ноутбук по EDA.\n",
    "\n",
    "Info: https://medium.com/analytics-vidhya/log-transform-for-positivity-d3e1f183c804\n",
    "\n",
    "\"Log transform reduces or removes skewness and tries to make our distribution normal.\" \"It is common practice to apply a logarithmic transformation on the data so that the very large and very small values do not negatively affect the performance of a learning algorithm.\"\n",
    "\n",
    "Лог-трансформация признака GrLivArea сильно улучшила результат на тестовой выборке: с 0.13206 до 0.12621.\n",
    "\n",
    "Попробовал другие способы убрать перекос:\n",
    "\n",
    "RobustScaler показал в результате практически то же самое, что и простой StandardScaler. В свою очередь PowerTransformer (метод Бокса-Кокса) по результатам был очень похож уже на лог-преобразование.\n",
    "\n",
    "Наибольший прирост был на тех числовых признаках, где на диаграмме рассеяним с SalePrice были заметны отклонения в виде выбросов. Признаки: 'GrLivArea', 'LotArea', 'BsmtSF...', 'MasVnrArea', '1stFlrSF'"
   ]
  },
  {
   "cell_type": "code",
   "execution_count": 8,
   "metadata": {},
   "outputs": [],
   "source": [
    "features_log_transform = ['GrLivArea', 'LotArea', 'BsmtFinSF1', 'BsmtFinSF2',\n",
    "                          'BsmtUnfSF', 'TotalBsmtSF', 'MasVnrArea', '1stFlrSF',\n",
    "                          'WoodDeckSF', 'OpenPorchSF', 'EnclosedPorch']\n",
    "\n",
    "df_train[features_log_transform] = np.log1p(df_train[features_log_transform])\n",
    "df_test[features_log_transform] = np.log1p(df_test[features_log_transform])"
   ]
  },
  {
   "cell_type": "markdown",
   "metadata": {},
   "source": [
    "#### Log transformation: target variable"
   ]
  },
  {
   "cell_type": "code",
   "execution_count": 9,
   "metadata": {},
   "outputs": [
    {
     "name": "stdout",
     "output_type": "stream",
     "text": [
      "Skewness: 1.8828757597682129\n"
     ]
    },
    {
     "data": {
      "image/png": "[encoded data removed]",
      "text/plain": [
       "<Figure size 576x288 with 1 Axes>"
      ]
     },
     "metadata": {},
     "output_type": "display_data"
    }
   ],
   "source": [
    "ax = sns.distplot(df_train['SalePrice'])\n",
    "ax.set_title('SalePrice distribution')\n",
    "print(\"Skewness: {}\".format(df_train['SalePrice'].skew()))"
   ]
  },
  {
   "cell_type": "markdown",
   "metadata": {},
   "source": [
    "##### Обоснование лог-трансформации SalePrice"
   ]
  },
  {
   "cell_type": "markdown",
   "metadata": {},
   "source": [
    "Думаю, основная причина заключается в той метрике, которая используется для оценки тестовой выборки. А именно: RMSLE.\n",
    "Мотивация ее использования:\n",
    "\"Taking logs means that errors in predicting expensive houses and cheap houses will affect the result equally.\"\n",
    "\n",
    "То есть, например, log(800.000) - log(700.000) < log(200.000) - log(100.000), хотя разность аргументов одинакова.\n",
    "То есть для такой оценки важнее доля (прирост), а не абсолютная разность.\n",
    "\n",
    "Если лог-трансформация для SalePrice не применяется, то т.к. при обучении модели используются обычные MSE или MAE-оценки, то особенность, заложенная в логарифмической оценке, не будет учитываться, а следовательно, дорогие и дешевые дома будут оцениваться по-разному.\n",
    "\n",
    "Помимо этого, на графике распределения SalePrice мы наблюдаем некоторое смещение в сторону очень дорогих домов, которые оказывают значительное влияние на результат.\n",
    "\n",
    "По этой теме см. также обсуждение:\n",
    "https://www.kaggle.com/c/house-prices-advanced-regression-techniques/discussion/103975"
   ]
  },
  {
   "cell_type": "code",
   "execution_count": 10,
   "metadata": {},
   "outputs": [],
   "source": [
    "df_train['SalePrice'] = np.log(df_train['SalePrice'])"
   ]
  },
  {
   "cell_type": "markdown",
   "metadata": {},
   "source": [
    "Log-transformation of SalePrice has significantly improved my score on test test:\n",
    "from 0.13853 to 0.13208"
   ]
  },
  {
   "cell_type": "markdown",
   "metadata": {},
   "source": [
    "#### Preprocessing pipeline"
   ]
  },
  {
   "cell_type": "markdown",
   "metadata": {},
   "source": [
    "StandardScaler:\n",
    "\n",
    "If a feature has a variance that is orders of magnitude larger that others, it might dominate the objective function and make the estimator unable to learn from other features correctly as expected."
   ]
  },
  {
   "cell_type": "code",
   "execution_count": 11,
   "metadata": {},
   "outputs": [],
   "source": [
    "num_preprocess_pipeline = Pipeline([('imputer', SimpleImputer(strategy='mean')),\n",
    "                                    ('scaler', StandardScaler())])\n",
    "\n",
    "cat_preprocess_ohe_pipeline = Pipeline([('imputer', SimpleImputer(strategy='constant', fill_value='<missing>')),\n",
    "                                        ('one_hot_encoder', OneHotEncoder(handle_unknown='ignore'))])\n",
    "\n",
    "column_type_based_preprocess_ohe_transformer = ColumnTransformer([\n",
    "    ('numerical', num_preprocess_pipeline,\n",
    "     make_column_selector(dtype_include='number')),\n",
    "    ('categorical', cat_preprocess_ohe_pipeline,\n",
    "     make_column_selector(dtype_include='object'))\n",
    "])\n",
    "\n",
    "preprocessing_ohe_pipeline = Pipeline(\n",
    "    [('column_based_preprocess_pipeline', column_type_based_preprocess_ohe_transformer)])"
   ]
  },
  {
   "cell_type": "markdown",
   "metadata": {},
   "source": [
    "### Create datasets for training: X, y"
   ]
  },
  {
   "cell_type": "code",
   "execution_count": 12,
   "metadata": {},
   "outputs": [],
   "source": [
    "X_train = df_train.copy()\n",
    "y_train = X_train.pop('SalePrice')"
   ]
  },
  {
   "cell_type": "markdown",
   "metadata": {},
   "source": [
    "#### Train-test split"
   ]
  },
  {
   "cell_type": "code",
   "execution_count": 13,
   "metadata": {},
   "outputs": [],
   "source": [
    "# При данном random_state и test_size 2 объекта-выброса попадают в разные выборки: одна -- в train, другая -- в hold-out.\n",
    "\n",
    "X_train_part, X_hold_out, y_train_part, y_hold_out = train_test_split(\n",
    "    X_train, y_train, test_size=0.15, random_state=28)"
   ]
  },
  {
   "cell_type": "markdown",
   "metadata": {},
   "source": [
    "### Models"
   ]
  },
  {
   "cell_type": "markdown",
   "metadata": {},
   "source": [
    "#### Helper functions"
   ]
  },
  {
   "cell_type": "code",
   "execution_count": 14,
   "metadata": {},
   "outputs": [],
   "source": [
    "def print_grid_search_cv_result(grid_cv, hyperparam_values=None):\n",
    "    print(\"Best score:\", -grid_cv.best_score_)\n",
    "    print(\"Best alpha:\", grid_cv.best_params_)\n",
    "    cv_mean_test_scores = -grid_cv.cv_results_['mean_test_score']\n",
    "    if (hyperparam_values is not None):\n",
    "        print(\"\\n Hyperparameter value to CV mean test score:\")\n",
    "        print(pd.Series(cv_mean_test_scores, index=hyperparam_values))\n",
    "    else:\n",
    "        print(\"CV mean test scores:\")\n",
    "        print(cv_mean_test_scores)"
   ]
  },
  {
   "cell_type": "code",
   "execution_count": 15,
   "metadata": {},
   "outputs": [],
   "source": [
    "def build_validation_curve(estimator, X_train, y_train, param_name, param_range, x_label, ylim):\n",
    "    train_scores, test_scores = validation_curve(estimator, X_train, y_train, \\\n",
    "                                                param_name=param_name, param_range=param_range, \\\n",
    "                                                cv=5, scoring='neg_root_mean_squared_error', n_jobs=-1)\n",
    "    train_scores = np.negative(train_scores)\n",
    "    test_scores = np.negative(test_scores)\n",
    "    train_scores_mean = np.mean(train_scores, axis=1)\n",
    "    train_scores_std = np.std(train_scores, axis=1)\n",
    "    test_scores_mean = np.mean(test_scores, axis=1)\n",
    "    test_scores_std = np.std(test_scores, axis=1)\n",
    "    print(\"Cross-validation scores:\")\n",
    "    print(test_scores_mean)\n",
    "    \n",
    "    plt.figure(figsize=(12, 8))\n",
    "    plt.title(\"Validation Curve for \" + x_label)\n",
    "    plt.xlabel(x_label)\n",
    "    plt.ylabel(\"Error (RMSE)\")\n",
    "    plt.ylim(ylim[0], ylim[1])\n",
    "    \n",
    "    plt.plot(param_range, train_scores_mean, color='orange', label=\"Training error\")\n",
    "    plt.grid()\n",
    "    plt.fill_between(param_range, \\\n",
    "                 train_scores_mean - train_scores_std, train_scores_mean + train_scores_std, alpha=0.2, color='orange')\n",
    "    plt.plot(param_range, test_scores_mean, color='blue', label=\"Cross-validation error\")\n",
    "    plt.fill_between(param_range, \\\n",
    "                 test_scores_mean - test_scores_std, test_scores_mean + test_scores_std, alpha=0.2, color='blue')\n",
    "    plt.legend(loc='best')\n",
    "    plt.grid()\n",
    "    plt.show()"
   ]
  },
  {
   "cell_type": "markdown",
   "metadata": {},
   "source": [
    "### LASSO Regression Model"
   ]
  },
  {
   "cell_type": "markdown",
   "metadata": {},
   "source": [
    "Docs:\n",
    "\n",
    "https://scikit-learn.org/stable/modules/generated/sklearn.linear_model.Lasso.html\n",
    "\n",
    "https://scikit-learn.org/stable/modules/generated/sklearn.linear_model.LassoCV.html\n",
    "\n",
    "https://scikit-learn.org/stable/modules/linear_model.html#lasso"
   ]
  },
  {
   "cell_type": "code",
   "execution_count": 16,
   "metadata": {},
   "outputs": [],
   "source": [
    "from sklearn.linear_model import Lasso"
   ]
  },
  {
   "cell_type": "code",
   "execution_count": 125,
   "metadata": {},
   "outputs": [],
   "source": [
    "lasso_model = Lasso(max_iter=10000, selection='random', random_state=19)\n",
    "lasso_pipeline = Pipeline([('preprocessing', preprocessing_ohe_pipeline), ('model', lasso_model)])"
   ]
  },
  {
   "cell_type": "code",
   "execution_count": 57,
   "metadata": {},
   "outputs": [],
   "source": [
    "# lasso_alphas = np.logspace(-4, -3, 20)\n",
    "# print(lasso_alphas)"
   ]
  },
  {
   "cell_type": "code",
   "execution_count": 126,
   "metadata": {},
   "outputs": [],
   "source": [
    "lasso_alphas = [0.0002, 0.00025, 0.0003, 0.00035, 0.0004, 0.00045,\n",
    "                0.0005, 0.00053, 0.00054, 0.00055, 0.00058, 0.0006, 0.00065, 0.0007]\n",
    "\n",
    "# lasso_pipeline.get_params()\n",
    "lasso_parameters_grid = {'model__alpha': lasso_alphas}\n",
    "\n",
    "lasso_grid_cv = GridSearchCV(lasso_pipeline, lasso_parameters_grid, \n",
    "                             scoring='neg_root_mean_squared_error', cv=10, n_jobs=-1)"
   ]
  },
  {
   "cell_type": "code",
   "execution_count": 127,
   "metadata": {},
   "outputs": [
    {
     "name": "stdout",
     "output_type": "stream",
     "text": [
      "Wall time: 28.9 s\n"
     ]
    },
    {
     "data": {
      "text/plain": [
       "GridSearchCV(cv=10,\n",
       "             estimator=Pipeline(steps=[('preprocessing',\n",
       "                                        Pipeline(steps=[('column_based_preprocess_pipeline',\n",
       "                                                         ColumnTransformer(transformers=[('numerical',\n",
       "                                                                                          Pipeline(steps=[('imputer',\n",
       "                                                                                                           SimpleImputer()),\n",
       "                                                                                                          ('scaler',\n",
       "                                                                                                           StandardScaler())]),\n",
       "                                                                                          <sklearn.compose._column_transformer.make_column_selector object at 0x0000023E8D847FA0>),\n",
       "                                                                                         ('categorical',\n",
       "                                                                                          Pipeline(steps=[...\n",
       "                                                                                                           OneHotEncoder(handle_unknown='ignore'))]),\n",
       "                                                                                          <sklearn.compose._column_transformer.make_column_selector object at 0x0000023E8D847FD0>)]))])),\n",
       "                                       ('model',\n",
       "                                        Lasso(max_iter=10000, random_state=19,\n",
       "                                              selection='random'))]),\n",
       "             n_jobs=-1,\n",
       "             param_grid={'model__alpha': [0.0002, 0.00025, 0.0003, 0.00035,\n",
       "                                          0.0004, 0.00045, 0.0005, 0.00053,\n",
       "                                          0.00054, 0.00055, 0.00058, 0.0006,\n",
       "                                          0.00065, 0.0007]},\n",
       "             scoring='neg_root_mean_squared_error')"
      ]
     },
     "execution_count": 127,
     "metadata": {},
     "output_type": "execute_result"
    }
   ],
   "source": [
    "%%time\n",
    "lasso_grid_cv.fit(X_train, y_train)"
   ]
  },
  {
   "cell_type": "code",
   "execution_count": 128,
   "metadata": {},
   "outputs": [
    {
     "name": "stdout",
     "output_type": "stream",
     "text": [
      "Best score: 0.12049463997315266\n",
      "Best alpha: {'model__alpha': 0.00045}\n",
      "\n",
      " Alpha to CV mean test score:\n",
      "0.00020    0.122383\n",
      "0.00025    0.121453\n",
      "0.00030    0.120858\n",
      "0.00035    0.120599\n",
      "0.00040    0.120505\n",
      "0.00045    0.120495\n",
      "0.00050    0.120512\n",
      "0.00053    0.120502\n",
      "0.00054    0.120504\n",
      "0.00055    0.120505\n",
      "0.00058    0.120524\n",
      "0.00060    0.120544\n",
      "0.00065    0.120631\n",
      "0.00070    0.120774\n",
      "dtype: float64\n"
     ]
    }
   ],
   "source": [
    "print_grid_search_cv_result(lasso_grid_cv, lasso_alphas)"
   ]
  },
  {
   "cell_type": "markdown",
   "metadata": {},
   "source": [
    "Замечание! Для alpha=0.00055 на тестовых данных результат получается лучше где-то на 0.0003, чем для найденного в рамках CV при количестве фолдов=10 значения alpha=0.00045. Возможно, связано с тем, что распределение тренировочной и тестовой выборов несколько отличаются.. Или, возможно, эффект случайности: разбиения не слишком хорошо отражают истинное распределение, еще стоит учитывать выбросы, которые не удалялись. Как вариант, можно изменить random_state.\n",
    "В следующей ячейке фиксирую лучшую модель LASSO с alpha=0.00055\n",
    "\n",
    "Попробовал random_state=23; 51 – результат тот же."
   ]
  },
  {
   "cell_type": "code",
   "execution_count": 143,
   "metadata": {},
   "outputs": [
    {
     "data": {
      "image/png": "[encoded data removed]",
      "text/plain": [
       "<Figure size 720x432 with 1 Axes>"
      ]
     },
     "metadata": {
      "needs_background": "light"
     },
     "output_type": "display_data"
    }
   ],
   "source": [
    "lasso_cv_mean_test_scores = lasso_grid_cv.cv_results_['mean_test_score']\n",
    "\n",
    "plt.figure(figsize=(10, 6))\n",
    "plt.plot(lasso_alphas, -lasso_cv_mean_test_scores)\n",
    "plt.xlabel('alpha')\n",
    "plt.ylabel('Mean test score (RMSE)')\n",
    "plt.title('LASSO. Зависимость средней ошибки на валидации от коэффициента регуляризации');\n",
    "plt.show()"
   ]
  },
  {
   "cell_type": "markdown",
   "metadata": {},
   "source": [
    "#### Lasso best estimator"
   ]
  },
  {
   "cell_type": "code",
   "execution_count": 17,
   "metadata": {},
   "outputs": [],
   "source": [
    "###### LASSO best estimator #####\n",
    "# Considering the comments above, we take alpha=0.00055 for the best estimator:\n",
    "\n",
    "lasso_model = Lasso(max_iter=10000, selection='random', random_state=19, alpha=0.00055)\n",
    "lasso_best_estimator = Pipeline(\n",
    "    [('preprocessing', preprocessing_ohe_pipeline), ('model', lasso_model)])\n",
    "\n",
    "lasso_best_estimator.fit(X_train, y_train);\n",
    "######"
   ]
  },
  {
   "cell_type": "code",
   "execution_count": 137,
   "metadata": {},
   "outputs": [
    {
     "name": "stdout",
     "output_type": "stream",
     "text": [
      "Some predictions on the training set:\n",
      "[203966.6496486  192084.55493118 217270.30168072 174835.66330535\n",
      " 296453.26609878]\n",
      "LassoCV best estimator. Error on the whole training set: 0.10503512684363614\n"
     ]
    }
   ],
   "source": [
    "lasso_predicted_y = lasso_best_estimator.predict(X_train)\n",
    "print('Some predictions on the training set:')\n",
    "print(np.exp(lasso_predicted_y[:5]))\n",
    "\n",
    "error = mean_squared_error(y_train, lasso_predicted_y, squared=False)\n",
    "print(\"LassoCV best estimator. Error on the whole training set: {}\".format(error))"
   ]
  },
  {
   "cell_type": "markdown",
   "metadata": {},
   "source": [
    "#### #Experiments: train Lasso on a part of the training set and evaluate it on the hold-out set"
   ]
  },
  {
   "cell_type": "code",
   "execution_count": 132,
   "metadata": {},
   "outputs": [],
   "source": [
    "lasso_part_grid_cv = GridSearchCV(lasso_pipeline, lasso_parameters_grid, \n",
    "                             scoring='neg_root_mean_squared_error', cv=10, n_jobs=-1)\n",
    "lasso_part_grid_cv.fit(X_train_part, y_train_part);"
   ]
  },
  {
   "cell_type": "code",
   "execution_count": 133,
   "metadata": {},
   "outputs": [
    {
     "name": "stdout",
     "output_type": "stream",
     "text": [
      "Split dataset \n",
      "\n",
      "Best score: 0.11584134924800589\n",
      "Best alpha: {'model__alpha': 0.00045}\n",
      "\n",
      " Alpha to CV mean test score:\n",
      "0.00020    0.116981\n",
      "0.00025    0.116525\n",
      "0.00030    0.116226\n",
      "0.00035    0.115971\n",
      "0.00040    0.115843\n",
      "0.00045    0.115841\n",
      "0.00050    0.115947\n",
      "0.00053    0.115996\n",
      "0.00054    0.116008\n",
      "0.00055    0.116020\n",
      "0.00058    0.116073\n",
      "0.00060    0.116116\n",
      "0.00065    0.116227\n",
      "0.00070    0.116310\n",
      "dtype: float64\n"
     ]
    }
   ],
   "source": [
    "print(\"Split dataset \\n\")\n",
    "print_grid_search_cv_result(lasso_part_grid_cv, lasso_alphas)"
   ]
  },
  {
   "cell_type": "code",
   "execution_count": 134,
   "metadata": {},
   "outputs": [
    {
     "name": "stdout",
     "output_type": "stream",
     "text": [
      "LassoCV. Error on the hold-out set: 0.16286343167093523\n"
     ]
    }
   ],
   "source": [
    "lasso_train_part_best_estimator = lasso_part_grid_cv.best_estimator_\n",
    "lasso_hold_out_predicted_y = lasso_train_part_best_estimator.predict(X_hold_out)\n",
    "error = mean_squared_error(y_hold_out, lasso_hold_out_predicted_y, squared=False)\n",
    "print(\"LassoCV. Error on the hold-out set: {}\".format(error))"
   ]
  },
  {
   "cell_type": "markdown",
   "metadata": {},
   "source": [
    "#### Lasso trained estimator analysis"
   ]
  },
  {
   "cell_type": "code",
   "execution_count": 91,
   "metadata": {},
   "outputs": [
    {
     "name": "stdout",
     "output_type": "stream",
     "text": [
      "Lasso. Picked features count: 111\n",
      "Lasso. Eliminated features count: 206\n"
     ]
    }
   ],
   "source": [
    "lasso_best_estimator_coefs = lasso_best_estimator.named_steps['model'].coef_\n",
    "\n",
    "print('Lasso. Picked features count:', sum(lasso_best_estimator_coefs != 0))\n",
    "print('Lasso. Eliminated features count:', sum(lasso_best_estimator_coefs == 0))"
   ]
  },
  {
   "cell_type": "code",
   "execution_count": 83,
   "metadata": {},
   "outputs": [
    {
     "data": {
      "text/plain": [
       "317"
      ]
     },
     "execution_count": 83,
     "metadata": {},
     "output_type": "execute_result"
    }
   ],
   "source": [
    "# get feature names\n",
    "\n",
    "column_based_pipeline = \\\n",
    "    lasso_best_estimator.named_steps['preprocessing'].named_steps['column_based_preprocess_pipeline']\n",
    "\n",
    "numeric_feature_names = np.array(column_based_pipeline.transformers_[0][2])\n",
    "cat_feature_names = \\\n",
    "    np.array(column_based_pipeline.transformers_[1][1].named_steps['one_hot_encoder'].get_feature_names())\n",
    "\n",
    "feature_names = np.concatenate([numeric_feature_names, cat_feature_names])\n",
    "len(feature_names)"
   ]
  },
  {
   "cell_type": "code",
   "execution_count": 92,
   "metadata": {},
   "outputs": [
    {
     "name": "stdout",
     "output_type": "stream",
     "text": [
      "Lasso feature coefficients.\n",
      "\n",
      "Head:\n",
      "x8_StoneBr           0.101678\n",
      "x8_Crawfor           0.100571\n",
      "GrLivArea            0.092133\n",
      "x8_NridgHt           0.073526\n",
      "x31_Typ              0.073150\n",
      "OverallQual          0.071394\n",
      "x8_NoRidge           0.069473\n",
      "x15_BrkFace          0.065872\n",
      "x30_Ex               0.060918\n",
      "x8_Somerst           0.051904\n",
      "YearBuilt            0.051462\n",
      "x9_Norm              0.051043\n",
      "x21_Ex               0.050694\n",
      "1stFlrSF             0.049951\n",
      "OverallCond          0.046306\n",
      "x8_BrkSide           0.041355\n",
      "x23_Gd               0.041007\n",
      "LotArea              0.036748\n",
      "2ndFlrSF             0.036734\n",
      "GarageCars           0.034932\n",
      "x27_Ex               0.027142\n",
      "BsmtFinSF1           0.025977\n",
      "x6_CulDSac           0.024024\n",
      "x0_ms_subclass_20    0.022406\n",
      "x19_TA               0.020236\n",
      "x20_PConc            0.019995\n",
      "x40_New              0.019635\n",
      "TotalBsmtSF          0.019619\n",
      "x8_ClearCr           0.016410\n",
      "BsmtFullBath         0.015802\n",
      "dtype: float64\n",
      "\n",
      "Tail:\n",
      "x6_FR2               -0.011083\n",
      "x18_TA               -0.011503\n",
      "x0_ms_subclass_60    -0.013580\n",
      "KitchenAbvGr         -0.013770\n",
      "x23_No               -0.014488\n",
      "x20_BrkTil           -0.014781\n",
      "x0_ms_subclass_30    -0.017091\n",
      "x38_GdWo             -0.019188\n",
      "x8_Mitchel           -0.020508\n",
      "x28_N                -0.025869\n",
      "x0_ms_subclass_160   -0.026200\n",
      "x40_WD               -0.029033\n",
      "x36_Fa               -0.031633\n",
      "x4_Bnk               -0.033246\n",
      "x1_RM                -0.041866\n",
      "x41_Abnorml          -0.051051\n",
      "x8_Edwards           -0.054750\n",
      "x10_PosN             -0.164323\n",
      "x1_C (all)           -0.276771\n",
      "x14_ClyTile          -0.577315\n",
      "dtype: float64\n"
     ]
    }
   ],
   "source": [
    "print('Lasso feature coefficients.\\n')\n",
    "lasso_feature_coefs = pd.Series(lasso_best_estimator_coefs, index=feature_names)\n",
    "print('Head:')\n",
    "print(lasso_feature_coefs.sort_values(ascending=False).head(30))\n",
    "print('\\nTail:')\n",
    "print(lasso_feature_coefs.sort_values(ascending=False).tail(20))"
   ]
  },
  {
   "cell_type": "markdown",
   "metadata": {},
   "source": [
    "#### Residuals"
   ]
  },
  {
   "cell_type": "code",
   "execution_count": 185,
   "metadata": {},
   "outputs": [
    {
     "data": {
      "image/png": "[encoded data removed]",
      "text/plain": [
       "<Figure size 720x432 with 1 Axes>"
      ]
     },
     "metadata": {
      "needs_background": "light"
     },
     "output_type": "display_data"
    }
   ],
   "source": [
    "plt.figure(figsize=(10, 6))\n",
    "plt.scatter(lasso_predicted_y, lasso_predicted_y - y_train, c=\"blue\", s=12)\n",
    "plt.hlines(y = 0, xmin = 10.5, xmax = 13.5, color = \"green\")\n",
    "plt.title(\"Residuals on training set for Lasso regression\")\n",
    "plt.xlabel(\"Predicted values\")\n",
    "plt.ylabel(\"Residuals\")\n",
    "plt.show()"
   ]
  },
  {
   "cell_type": "markdown",
   "metadata": {},
   "source": [
    "**LASSO model best score on test set: 0.12351**"
   ]
  },
  {
   "cell_type": "markdown",
   "metadata": {},
   "source": [
    "### XGBoost Regressor"
   ]
  },
  {
   "cell_type": "markdown",
   "metadata": {},
   "source": [
    "Docs:\n",
    "https://xgboost.readthedocs.io/en/latest/python/python_api.html#module-xgboost.sklearn\n",
    "\n",
    "https://habr.com/ru/company/ods/blog/327250/\n",
    "\n",
    "https://scikit-learn.org/stable/modules/ensemble.html#ensemble"
   ]
  },
  {
   "cell_type": "code",
   "execution_count": 18,
   "metadata": {},
   "outputs": [],
   "source": [
    "from xgboost import XGBRegressor"
   ]
  },
  {
   "cell_type": "markdown",
   "metadata": {},
   "source": [
    "#### Validation curves"
   ]
  },
  {
   "cell_type": "code",
   "execution_count": 35,
   "metadata": {},
   "outputs": [
    {
     "name": "stdout",
     "output_type": "stream",
     "text": [
      "Cross-validation scores:\n",
      "[1.96050336 0.3722698  0.14447392 0.14204231 0.14220487 0.14211061\n",
      " 0.14214943 0.14214724 0.14214724]\n"
     ]
    },
    {
     "data": {
      "image/png": "[encoded data removed]",
      "text/plain": [
       "<Figure size 864x576 with 1 Axes>"
      ]
     },
     "metadata": {},
     "output_type": "display_data"
    }
   ],
   "source": [
    "xgb_n_estimators = [5, 10, 25, 50, 75, 100, 200, 500, 1000]\n",
    "\n",
    "xgb_model = XGBRegressor(random_state=19)\n",
    "xgb_pipeline = Pipeline([('preprocessing', preprocessing_ohe_pipeline), ('model', xgb_model)])\n",
    "\n",
    "build_validation_curve(xgb_pipeline, X_train, y_train, \"model__n_estimators\",\n",
    "                       xgb_n_estimators, \"n_estimators\", (0, 0.5))"
   ]
  },
  {
   "cell_type": "code",
   "execution_count": 36,
   "metadata": {},
   "outputs": [
    {
     "name": "stdout",
     "output_type": "stream",
     "text": [
      "Cross-validation scores:\n",
      "[0.13798806 0.1310132  0.12907948 0.13422533 0.13805745 0.14184456\n",
      " 0.14800744 0.14672881 0.14648081]\n"
     ]
    },
    {
     "data": {
      "image/png": "[encoded data removed]",
      "text/plain": [
       "<Figure size 864x576 with 1 Axes>"
      ]
     },
     "metadata": {},
     "output_type": "display_data"
    }
   ],
   "source": [
    "xgb_max_depth_range = [1, 2, 3, 4, 5, 10, 20, 30, 50]\n",
    "\n",
    "xgb_model = XGBRegressor(random_state=19, n_estimators=100)\n",
    "xgb_pipeline = Pipeline([('preprocessing', preprocessing_ohe_pipeline), ('model', xgb_model)])\n",
    "\n",
    "build_validation_curve(xgb_pipeline, X_train, y_train, \"model__max_depth\",\n",
    "                       xgb_max_depth_range, \"max_depth\", (0, 0.2))"
   ]
  },
  {
   "cell_type": "code",
   "execution_count": 30,
   "metadata": {},
   "outputs": [
    {
     "data": {
      "text/plain": [
       "array([0.01      , 0.01274275, 0.01623777, 0.02069138, 0.02636651,\n",
       "       0.03359818, 0.04281332, 0.05455595, 0.06951928, 0.08858668,\n",
       "       0.11288379, 0.14384499, 0.18329807, 0.23357215, 0.29763514,\n",
       "       0.37926902, 0.48329302, 0.61584821, 0.78475997, 1.        ])"
      ]
     },
     "execution_count": 30,
     "metadata": {},
     "output_type": "execute_result"
    }
   ],
   "source": [
    "xgb_learning_rate_range = np.logspace(-2, 0, 20)\n",
    "xgb_learning_rate_range"
   ]
  },
  {
   "cell_type": "code",
   "execution_count": 37,
   "metadata": {},
   "outputs": [
    {
     "name": "stdout",
     "output_type": "stream",
     "text": [
      "Cross-validation scores:\n",
      "[4.2357711  3.2152138  2.26221221 1.44647383 0.82280289 0.41577699\n",
      " 0.21054688 0.14815757 0.13779713 0.13249865 0.13170992 0.12873819\n",
      " 0.13004926 0.13082737 0.13214159 0.13693745 0.13995795 0.14485974\n",
      " 0.15976777 0.18582821]\n"
     ]
    },
    {
     "data": {
      "image/png": "[encoded data removed]",
      "text/plain": [
       "<Figure size 864x576 with 1 Axes>"
      ]
     },
     "metadata": {},
     "output_type": "display_data"
    }
   ],
   "source": [
    "xgb_model = XGBRegressor(random_state=19, n_estimators=100, max_depth=3)\n",
    "xgb_pipeline = Pipeline([('preprocessing', preprocessing_ohe_pipeline), ('model', xgb_model)])\n",
    "\n",
    "build_validation_curve(xgb_pipeline, X_train, y_train, \"model__learning_rate\",\n",
    "                       xgb_learning_rate_range, \"learning_rate\", (0, 0.3))"
   ]
  },
  {
   "cell_type": "markdown",
   "metadata": {},
   "source": [
    "#### Hyperparameters search: max_depth and learning_rate"
   ]
  },
  {
   "cell_type": "code",
   "execution_count": 38,
   "metadata": {},
   "outputs": [],
   "source": [
    "xgb_max_depth_range = [1, 2, 3, 4, 5, 10, 20, 30, 50]\n",
    "xgb_learning_rate_range = np.logspace(-2, 0, 20)"
   ]
  },
  {
   "cell_type": "code",
   "execution_count": 30,
   "metadata": {},
   "outputs": [],
   "source": [
    "xgb_model = XGBRegressor(random_state=19, n_estimators=50)\n",
    "xgb_pipeline = Pipeline([('preprocessing', preprocessing_ohe_pipeline), ('model', xgb_model)])\n",
    "\n",
    "xgb_parameters_grid = {'model__max_depth': xgb_max_depth_range, 'model__learning_rate': xgb_learning_rate_range}\n",
    "xgb_grid_cv = GridSearchCV(xgb_pipeline, xgb_parameters_grid, scoring='neg_root_mean_squared_error', cv=5, n_jobs=-1)\n",
    "\n",
    "xgb_grid_cv.fit(X_train, y_train);"
   ]
  },
  {
   "cell_type": "code",
   "execution_count": 40,
   "metadata": {},
   "outputs": [
    {
     "name": "stdout",
     "output_type": "stream",
     "text": [
      "XGBoost CV. max_depth and learning_rate \n",
      "\n",
      "Best score: 0.13273673435485317\n",
      "Best alpha: {'model__learning_rate': 0.24, 'model__max_depth': 3}\n",
      "[0.16030843 0.14275791 0.13754556 0.13554936 0.13625759 0.13800036\n",
      " 0.1368541  0.13693223 0.13699234 0.15852506 0.14090224 0.13739442\n",
      " 0.13531026 0.13645675 0.13811173 0.13960131 0.1384821  0.13833048\n",
      " 0.15752885 0.1407108  0.1371704  0.13640717 0.13720467 0.13798703\n",
      " 0.13917985 0.13968629 0.14004045 0.15583664 0.14156733 0.13675999\n",
      " 0.13684246 0.13676553 0.1357917  0.137371   0.13786024 0.137661\n",
      " 0.15477163 0.13978893 0.13359776 0.13302523 0.13417816 0.13497372\n",
      " 0.13823922 0.1378215  0.13759241 0.15287394 0.13877927 0.13623522\n",
      " 0.13629709 0.13702146 0.13852429 0.13842556 0.137284   0.13741096\n",
      " 0.15321085 0.13922354 0.13435812 0.1362877  0.13355825 0.14195253\n",
      " 0.14043053 0.14231222 0.14179271 0.15214154 0.13662981 0.13474953\n",
      " 0.13632271 0.1373661  0.14114917 0.14314403 0.14251095 0.14248339\n",
      " 0.15068842 0.1370246  0.13554716 0.13461578 0.13436122 0.13938145\n",
      " 0.14120729 0.14142977 0.1412134  0.14761932 0.13399722 0.13273673\n",
      " 0.13460189 0.13587837 0.14399921 0.14526816 0.14482015 0.14528995]\n"
     ]
    }
   ],
   "source": [
    "print(\"XGBoost CV. max_depth and learning_rate \\n\")\n",
    "print_grid_search_cv_result(xgb_grid_cv, xgb_max_depth_range)"
   ]
  },
  {
   "cell_type": "code",
   "execution_count": 20,
   "metadata": {},
   "outputs": [],
   "source": [
    "xgb_max_depth_range = [1, 2, 3, 4, 5, 10, 20, 30]\n",
    "xgb_learning_rate_range = [0.15, 0.17, 0.19, 0.21, 0.23, 0.25, 0.27, 0.29, 0.31]\n",
    "\n",
    "xgb_model = XGBRegressor(random_state=19, n_estimators=100)\n",
    "xgb_pipeline = Pipeline([('preprocessing', preprocessing_ohe_pipeline), ('model', xgb_model)])\n",
    "\n",
    "xgb_parameters_grid = {'model__max_depth': xgb_max_depth_range, 'model__learning_rate': xgb_learning_rate_range}\n",
    "xgb_grid_cv = GridSearchCV(xgb_pipeline, xgb_parameters_grid, scoring='neg_root_mean_squared_error', cv=5, n_jobs=-1)\n",
    "\n",
    "xgb_grid_cv.fit(X_train, y_train);"
   ]
  },
  {
   "cell_type": "code",
   "execution_count": 24,
   "metadata": {},
   "outputs": [
    {
     "name": "stdout",
     "output_type": "stream",
     "text": [
      "XGBoost CV. max_depth and learning_rate, detailed \n",
      "\n",
      "Best score: 0.12874541155138397\n",
      "Best alpha: {'model__learning_rate': 0.25, 'model__max_depth': 2}\n",
      "CV mean test scores:\n",
      "[0.14213666 0.13130641 0.12977198 0.13082519 0.13347054 0.1365503\n",
      " 0.1358289  0.13604049 0.14187623 0.13019184 0.13097221 0.13192952\n",
      " 0.13459748 0.13713617 0.13884215 0.13929338 0.14091984 0.13130619\n",
      " 0.12937068 0.12973218 0.13244004 0.13444363 0.13802941 0.13766937\n",
      " 0.13980371 0.13066204 0.13044027 0.13400206 0.131923   0.14173373\n",
      " 0.14037931 0.142259   0.13783848 0.13093534 0.13152021 0.13239914\n",
      " 0.13229134 0.13922799 0.14117366 0.14139346 0.13552369 0.12874541\n",
      " 0.13333033 0.13302257 0.13467233 0.14180911 0.14261023 0.14366336\n",
      " 0.13751003 0.12892442 0.13336759 0.13251113 0.13407533 0.13989084\n",
      " 0.14315635 0.14406063 0.13684329 0.13033179 0.12901266 0.13569804\n",
      " 0.13553626 0.13996088 0.14312195 0.14314896 0.13740333 0.12890079\n",
      " 0.13188859 0.1355425  0.13525811 0.142119   0.14406639 0.14446963]\n"
     ]
    }
   ],
   "source": [
    "print(\"XGBoost CV. max_depth and learning_rate, detailed \\n\")\n",
    "print_grid_search_cv_result(xgb_grid_cv)"
   ]
  },
  {
   "cell_type": "markdown",
   "metadata": {},
   "source": [
    "Note: It looks like that by minimizing \"max_depth\" one should increase \"n_estimators\""
   ]
  },
  {
   "cell_type": "markdown",
   "metadata": {},
   "source": [
    "#### Best estimator"
   ]
  },
  {
   "cell_type": "code",
   "execution_count": 19,
   "metadata": {},
   "outputs": [],
   "source": [
    "### best estimator\n",
    "xgb_model = XGBRegressor(random_state=19, n_estimators=100, max_depth=2, learning_rate=0.25)\n",
    "xgb_best_estimator = Pipeline([('preprocessing', preprocessing_ohe_pipeline), ('model', xgb_model)])\n",
    "\n",
    "xgb_best_estimator.fit(X_train, y_train);\n",
    "###"
   ]
  },
  {
   "cell_type": "code",
   "execution_count": 56,
   "metadata": {},
   "outputs": [
    {
     "name": "stdout",
     "output_type": "stream",
     "text": [
      "Some predictions on the training set:\n",
      "[205190.33 171707.69 206005.2  159153.27 307794.6 ]\n",
      "XGB best estimator. Error on the whole training set: 0.08912784477498188\n"
     ]
    }
   ],
   "source": [
    "xgb_predicted_y = xgb_best_estimator.predict(X_train)\n",
    "print('Some predictions on the training set:')\n",
    "print(np.exp(xgb_predicted_y[:5]))\n",
    "\n",
    "error = mean_squared_error(y_train, xgb_predicted_y, squared=False)\n",
    "print(\"XGB best estimator. Error on the whole training set: {}\".format(error))"
   ]
  },
  {
   "cell_type": "markdown",
   "metadata": {},
   "source": [
    "#### Baseline estimator"
   ]
  },
  {
   "cell_type": "code",
   "execution_count": 20,
   "metadata": {},
   "outputs": [],
   "source": [
    "### baseline estimator\n",
    "xgb_model = XGBRegressor(random_state=19, n_estimators=100)\n",
    "xgb_baseline_estimator = Pipeline([('preprocessing', preprocessing_ohe_pipeline), ('model', xgb_model)])\n",
    "\n",
    "xgb_baseline_estimator.fit(X_train, y_train);\n",
    "###"
   ]
  },
  {
   "cell_type": "markdown",
   "metadata": {},
   "source": [
    "#### testing with the hold-out set"
   ]
  },
  {
   "cell_type": "code",
   "execution_count": 46,
   "metadata": {},
   "outputs": [],
   "source": [
    "xgb_model = XGBRegressor(random_state=19, n_estimators=100, max_depth=2, learning_rate=0.25)\n",
    "xgb_part_best_estimator = Pipeline([('preprocessing', preprocessing_ohe_pipeline), ('model', xgb_model)])\n",
    "\n",
    "xgb_part_best_estimator.fit(X_train_part, y_train_part);"
   ]
  },
  {
   "cell_type": "code",
   "execution_count": 49,
   "metadata": {},
   "outputs": [
    {
     "name": "stdout",
     "output_type": "stream",
     "text": [
      "XGBRegressor. Split dataset. Error on the split training set: 0.08911736240181777\n"
     ]
    }
   ],
   "source": [
    "xgb_predicted_y = xgb_part_best_estimator.predict(X_train_part)\n",
    "error = mean_squared_error(y_train_part, xgb_predicted_y, squared=False)\n",
    "print(\"XGBRegressor. Split dataset. Error on the split training set: {}\".format(error))"
   ]
  },
  {
   "cell_type": "code",
   "execution_count": 50,
   "metadata": {},
   "outputs": [
    {
     "name": "stdout",
     "output_type": "stream",
     "text": [
      "XGBRegressor. Split dataset. Error on the hold-out set: 0.13386355099806355\n"
     ]
    }
   ],
   "source": [
    "xgb_predicted_y_hold_out = xgb_part_best_estimator.predict(X_hold_out)\n",
    "error = mean_squared_error(y_hold_out, xgb_predicted_y_hold_out, squared=False)\n",
    "print(\"XGBRegressor. Split dataset. Error on the hold-out set: {}\".format(error))"
   ]
  },
  {
   "cell_type": "markdown",
   "metadata": {},
   "source": [
    "**XGBoost scores:**\n",
    "\n",
    "baseline model(n_estimators=100): 0.14155\n",
    "\n",
    "tuned model(n_estimators=100, max_depth=2, learning_rate=0.25): 0.13520"
   ]
  },
  {
   "cell_type": "markdown",
   "metadata": {},
   "source": [
    "### Ensembling. StackingRegressor"
   ]
  },
  {
   "cell_type": "markdown",
   "metadata": {},
   "source": [
    "Docs:\n",
    "\n",
    "https://scikit-learn.org/stable/modules/generated/sklearn.ensemble.StackingRegressor.html\n",
    "\n",
    "https://scikit-learn.org/stable/modules/ensemble.html#stacking\n",
    "\n",
    "https://dyakonov.org/2017/03/10/c%D1%82%D0%B5%D0%BA%D0%B8%D0%BD%D0%B3-stacking-%D0%B8-%D0%B1%D0%BB%D0%B5%D0%BD%D0%B4%D0%B8%D0%BD%D0%B3-blending/"
   ]
  },
  {
   "cell_type": "code",
   "execution_count": 21,
   "metadata": {},
   "outputs": [],
   "source": [
    "from sklearn.linear_model import RidgeCV\n",
    "from sklearn.ensemble import StackingRegressor"
   ]
  },
  {
   "cell_type": "code",
   "execution_count": 26,
   "metadata": {},
   "outputs": [],
   "source": [
    "estimators_xgb_baseline = [('lasso', lasso_best_estimator), ('xgboost', xgb_baseline_estimator)]\n",
    "estimators_xgb_tuned = [('lasso', lasso_best_estimator), ('xgboost', xgb_best_estimator)]\n",
    "\n",
    "final_estimator_alphas = (0.01, 0.05, 0.1, 0.2, 0.5, 1, 2, 3, 4, 5, 6, 7, 8, 9, 10)\n",
    "final_estimator = RidgeCV(alphas=final_estimator_alphas, scoring='neg_root_mean_squared_error')\n",
    "lasso_xgb_stacking = StackingRegressor(estimators=estimators_xgb_baseline, final_estimator=final_estimator)"
   ]
  },
  {
   "cell_type": "code",
   "execution_count": 27,
   "metadata": {},
   "outputs": [],
   "source": [
    "# train on the split dataset\n",
    "lasso_xgb_stacking.fit(X_train_part, y_train_part);"
   ]
  },
  {
   "cell_type": "code",
   "execution_count": 28,
   "metadata": {},
   "outputs": [
    {
     "name": "stdout",
     "output_type": "stream",
     "text": [
      "Lasso-XGBoost stacking CV. Split dataset.\n",
      "\n",
      "Coefficients:  [0.85017639 0.14933152]\n",
      "Estimated alpha:  0.1\n",
      "Best score:  0.11629558367717638\n",
      "Error on the hold-out set:  0.1469093791003197\n"
     ]
    }
   ],
   "source": [
    "print('Lasso-XGBoost stacking CV. Split dataset.\\n')\n",
    "\n",
    "print(\"Coefficients: \", lasso_xgb_stacking.final_estimator_.coef_)\n",
    "print(\"Estimated alpha: \", lasso_xgb_stacking.final_estimator_.alpha_)\n",
    "print(\"Best score: \", -lasso_xgb_stacking.final_estimator_.best_score_)\n",
    "\n",
    "lasso_xgb_stacking_predicted_y_hold_out = lasso_xgb_stacking.predict(X_hold_out)\n",
    "error = mean_squared_error(y_hold_out, lasso_xgb_stacking_predicted_y_hold_out, squared=False)\n",
    "print(\"Error on the hold-out set: \", error)"
   ]
  },
  {
   "cell_type": "code",
   "execution_count": 31,
   "metadata": {},
   "outputs": [
    {
     "name": "stdout",
     "output_type": "stream",
     "text": [
      "Lasso-XGBoost stacking CV with the best XGB estimator. Split dataset.\n",
      "\n",
      "Coefficients:  [0.83032304 0.16992507]\n",
      "Estimated alpha:  0.1\n",
      "Best score:  0.11649933093928161\n",
      "Error on the hold-out set:  0.15014102604084464\n"
     ]
    }
   ],
   "source": [
    "# train with the tuned xgb estimator\n",
    "\n",
    "lasso_xgb_stacking_xgb_tuned = StackingRegressor(estimators=estimators_xgb_tuned, final_estimator=final_estimator)\n",
    "lasso_xgb_stacking_xgb_tuned.fit(X_train_part, y_train_part);\n",
    "\n",
    "print('Lasso-XGBoost stacking CV with the best XGB estimator. Split dataset.\\n')\n",
    "\n",
    "print(\"Coefficients: \", lasso_xgb_stacking_xgb_tuned.final_estimator_.coef_)\n",
    "print(\"Estimated alpha: \", lasso_xgb_stacking_xgb_tuned.final_estimator_.alpha_)\n",
    "print(\"Best score: \", -lasso_xgb_stacking_xgb_tuned.final_estimator_.best_score_)\n",
    "\n",
    "lasso_xgb_stacking_predicted_y_hold_out = lasso_xgb_stacking_xgb_tuned.predict(X_hold_out)\n",
    "error = mean_squared_error(y_hold_out, lasso_xgb_stacking_predicted_y_hold_out, squared=False)\n",
    "print(\"Error on the hold-out set: \", error)"
   ]
  },
  {
   "cell_type": "markdown",
   "metadata": {},
   "source": [
    "The tuned model is worse than the baseline one on the hold-out set."
   ]
  },
  {
   "cell_type": "code",
   "execution_count": 113,
   "metadata": {},
   "outputs": [],
   "source": [
    "# train on the full training dataset\n",
    "lasso_xgb_stacking.fit(X_train, y_train);"
   ]
  },
  {
   "cell_type": "code",
   "execution_count": 114,
   "metadata": {},
   "outputs": [
    {
     "name": "stdout",
     "output_type": "stream",
     "text": [
      "Lasso-XGBoost stacking CV. Full dataset.\n",
      "\n",
      "Coefficients:  [0.65218919 0.34828833]\n",
      "Estimated alpha:  4.0\n",
      "Best score:  0.12107088861530343\n"
     ]
    }
   ],
   "source": [
    "print('Lasso-XGBoost stacking CV. Full dataset.\\n')\n",
    "\n",
    "print(\"Coefficients: \", lasso_xgb_stacking.final_estimator_.coef_)\n",
    "print(\"Estimated alpha: \", lasso_xgb_stacking.final_estimator_.alpha_)\n",
    "print(\"Best score: \", -lasso_xgb_stacking.final_estimator_.best_score_)"
   ]
  },
  {
   "cell_type": "code",
   "execution_count": 115,
   "metadata": {},
   "outputs": [
    {
     "name": "stdout",
     "output_type": "stream",
     "text": [
      "[[11.67587621 11.73027515]\n",
      " [11.92732305 12.03089905]\n",
      " [12.0884138  12.13765335]\n",
      " ...\n",
      " [12.01060238 12.02751827]\n",
      " [11.70197465 11.60183334]\n",
      " [12.33030088 12.35721302]]\n"
     ]
    }
   ],
   "source": [
    "print(lasso_xgb_stacking.transform(df_test))"
   ]
  },
  {
   "cell_type": "markdown",
   "metadata": {},
   "source": [
    "**Note:**\n",
    "It's very interesting that a StackingRegressor model works better on the test set with the baseline XGB estimator rather than the tuned one.\n",
    "\n",
    "Public scores:\n",
    "\n",
    "lass-xgb stacking (baseline xgb): 0.12085\n",
    "lass-xgb stacking (tuned xgb): 0.12315\n",
    "\n",
    "At the same time:\n",
    "\n",
    "XGBoost scores:\n",
    "\n",
    "baseline model(n_estimators=100): 0.14155\n",
    "\n",
    "tuned model(n_estimators=100, max_depth=2, learning_rate=0.25): 0.13520"
   ]
  },
  {
   "cell_type": "markdown",
   "metadata": {},
   "source": [
    "### Prediction for the test data"
   ]
  },
  {
   "cell_type": "code",
   "execution_count": 51,
   "metadata": {},
   "outputs": [
    {
     "data": {
      "text/html": [
       "<div>\n",
       "<style scoped>\n",
       "    .dataframe tbody tr th:only-of-type {\n",
       "        vertical-align: middle;\n",
       "    }\n",
       "\n",
       "    .dataframe tbody tr th {\n",
       "        vertical-align: top;\n",
       "    }\n",
       "\n",
       "    .dataframe thead th {\n",
       "        text-align: right;\n",
       "    }\n",
       "</style>\n",
       "<table border=\"1\" class=\"dataframe\">\n",
       "  <thead>\n",
       "    <tr style=\"text-align: right;\">\n",
       "      <th></th>\n",
       "      <th>MSSubClass</th>\n",
       "      <th>MSZoning</th>\n",
       "      <th>LotFrontage</th>\n",
       "      <th>LotArea</th>\n",
       "      <th>Street</th>\n",
       "      <th>LotShape</th>\n",
       "      <th>LandContour</th>\n",
       "      <th>Utilities</th>\n",
       "      <th>LotConfig</th>\n",
       "      <th>LandSlope</th>\n",
       "      <th>...</th>\n",
       "      <th>EnclosedPorch</th>\n",
       "      <th>3SsnPorch</th>\n",
       "      <th>ScreenPorch</th>\n",
       "      <th>PoolArea</th>\n",
       "      <th>Fence</th>\n",
       "      <th>MiscVal</th>\n",
       "      <th>MoSold</th>\n",
       "      <th>YrSold</th>\n",
       "      <th>SaleType</th>\n",
       "      <th>SaleCondition</th>\n",
       "    </tr>\n",
       "  </thead>\n",
       "  <tbody>\n",
       "    <tr>\n",
       "      <th>0</th>\n",
       "      <td>ms_subclass_20</td>\n",
       "      <td>RH</td>\n",
       "      <td>80.0</td>\n",
       "      <td>9.360741</td>\n",
       "      <td>Pave</td>\n",
       "      <td>Reg</td>\n",
       "      <td>Lvl</td>\n",
       "      <td>AllPub</td>\n",
       "      <td>Inside</td>\n",
       "      <td>Gtl</td>\n",
       "      <td>...</td>\n",
       "      <td>0.0</td>\n",
       "      <td>0</td>\n",
       "      <td>120</td>\n",
       "      <td>0</td>\n",
       "      <td>MnPrv</td>\n",
       "      <td>0</td>\n",
       "      <td>Jun</td>\n",
       "      <td>2010</td>\n",
       "      <td>WD</td>\n",
       "      <td>Normal</td>\n",
       "    </tr>\n",
       "    <tr>\n",
       "      <th>1</th>\n",
       "      <td>ms_subclass_20</td>\n",
       "      <td>RL</td>\n",
       "      <td>81.0</td>\n",
       "      <td>9.565775</td>\n",
       "      <td>Pave</td>\n",
       "      <td>IR1</td>\n",
       "      <td>Lvl</td>\n",
       "      <td>AllPub</td>\n",
       "      <td>Corner</td>\n",
       "      <td>Gtl</td>\n",
       "      <td>...</td>\n",
       "      <td>0.0</td>\n",
       "      <td>0</td>\n",
       "      <td>0</td>\n",
       "      <td>0</td>\n",
       "      <td>NaN</td>\n",
       "      <td>12500</td>\n",
       "      <td>Jun</td>\n",
       "      <td>2010</td>\n",
       "      <td>WD</td>\n",
       "      <td>Normal</td>\n",
       "    </tr>\n",
       "    <tr>\n",
       "      <th>2</th>\n",
       "      <td>ms_subclass_60</td>\n",
       "      <td>RL</td>\n",
       "      <td>74.0</td>\n",
       "      <td>9.534668</td>\n",
       "      <td>Pave</td>\n",
       "      <td>IR1</td>\n",
       "      <td>Lvl</td>\n",
       "      <td>AllPub</td>\n",
       "      <td>Inside</td>\n",
       "      <td>Gtl</td>\n",
       "      <td>...</td>\n",
       "      <td>0.0</td>\n",
       "      <td>0</td>\n",
       "      <td>0</td>\n",
       "      <td>0</td>\n",
       "      <td>MnPrv</td>\n",
       "      <td>0</td>\n",
       "      <td>Mar</td>\n",
       "      <td>2010</td>\n",
       "      <td>WD</td>\n",
       "      <td>Normal</td>\n",
       "    </tr>\n",
       "    <tr>\n",
       "      <th>3</th>\n",
       "      <td>ms_subclass_60</td>\n",
       "      <td>RL</td>\n",
       "      <td>78.0</td>\n",
       "      <td>9.208238</td>\n",
       "      <td>Pave</td>\n",
       "      <td>IR1</td>\n",
       "      <td>Lvl</td>\n",
       "      <td>AllPub</td>\n",
       "      <td>Inside</td>\n",
       "      <td>Gtl</td>\n",
       "      <td>...</td>\n",
       "      <td>0.0</td>\n",
       "      <td>0</td>\n",
       "      <td>0</td>\n",
       "      <td>0</td>\n",
       "      <td>NaN</td>\n",
       "      <td>0</td>\n",
       "      <td>Jun</td>\n",
       "      <td>2010</td>\n",
       "      <td>WD</td>\n",
       "      <td>Normal</td>\n",
       "    </tr>\n",
       "    <tr>\n",
       "      <th>4</th>\n",
       "      <td>ms_subclass_120</td>\n",
       "      <td>RL</td>\n",
       "      <td>43.0</td>\n",
       "      <td>8.518392</td>\n",
       "      <td>Pave</td>\n",
       "      <td>IR1</td>\n",
       "      <td>HLS</td>\n",
       "      <td>AllPub</td>\n",
       "      <td>Inside</td>\n",
       "      <td>Gtl</td>\n",
       "      <td>...</td>\n",
       "      <td>0.0</td>\n",
       "      <td>0</td>\n",
       "      <td>144</td>\n",
       "      <td>0</td>\n",
       "      <td>NaN</td>\n",
       "      <td>0</td>\n",
       "      <td>Jan</td>\n",
       "      <td>2010</td>\n",
       "      <td>WD</td>\n",
       "      <td>Normal</td>\n",
       "    </tr>\n",
       "  </tbody>\n",
       "</table>\n",
       "<p>5 rows × 76 columns</p>\n",
       "</div>"
      ],
      "text/plain": [
       "        MSSubClass MSZoning  LotFrontage   LotArea Street LotShape  \\\n",
       "0   ms_subclass_20       RH         80.0  9.360741   Pave      Reg   \n",
       "1   ms_subclass_20       RL         81.0  9.565775   Pave      IR1   \n",
       "2   ms_subclass_60       RL         74.0  9.534668   Pave      IR1   \n",
       "3   ms_subclass_60       RL         78.0  9.208238   Pave      IR1   \n",
       "4  ms_subclass_120       RL         43.0  8.518392   Pave      IR1   \n",
       "\n",
       "  LandContour Utilities LotConfig LandSlope  ... EnclosedPorch 3SsnPorch  \\\n",
       "0         Lvl    AllPub    Inside       Gtl  ...           0.0         0   \n",
       "1         Lvl    AllPub    Corner       Gtl  ...           0.0         0   \n",
       "2         Lvl    AllPub    Inside       Gtl  ...           0.0         0   \n",
       "3         Lvl    AllPub    Inside       Gtl  ...           0.0         0   \n",
       "4         HLS    AllPub    Inside       Gtl  ...           0.0         0   \n",
       "\n",
       "  ScreenPorch PoolArea  Fence  MiscVal  MoSold  YrSold  SaleType SaleCondition  \n",
       "0         120        0  MnPrv        0     Jun    2010        WD        Normal  \n",
       "1           0        0    NaN    12500     Jun    2010        WD        Normal  \n",
       "2           0        0  MnPrv        0     Mar    2010        WD        Normal  \n",
       "3           0        0    NaN        0     Jun    2010        WD        Normal  \n",
       "4         144        0    NaN        0     Jan    2010        WD        Normal  \n",
       "\n",
       "[5 rows x 76 columns]"
      ]
     },
     "execution_count": 51,
     "metadata": {},
     "output_type": "execute_result"
    }
   ],
   "source": [
    "df_test[0:5]"
   ]
  },
  {
   "cell_type": "code",
   "execution_count": 116,
   "metadata": {},
   "outputs": [],
   "source": [
    "final_test_predictions = np.exp(pd.Series(lasso_xgb_stacking.predict(df_test)))"
   ]
  },
  {
   "cell_type": "code",
   "execution_count": 117,
   "metadata": {},
   "outputs": [
    {
     "data": {
      "text/html": [
       "<div>\n",
       "<style scoped>\n",
       "    .dataframe tbody tr th:only-of-type {\n",
       "        vertical-align: middle;\n",
       "    }\n",
       "\n",
       "    .dataframe tbody tr th {\n",
       "        vertical-align: top;\n",
       "    }\n",
       "\n",
       "    .dataframe thead th {\n",
       "        text-align: right;\n",
       "    }\n",
       "</style>\n",
       "<table border=\"1\" class=\"dataframe\">\n",
       "  <thead>\n",
       "    <tr style=\"text-align: right;\">\n",
       "      <th></th>\n",
       "      <th>Id</th>\n",
       "      <th>SalePrice</th>\n",
       "    </tr>\n",
       "  </thead>\n",
       "  <tbody>\n",
       "    <tr>\n",
       "      <th>0</th>\n",
       "      <td>1461</td>\n",
       "      <td>119964.778486</td>\n",
       "    </tr>\n",
       "    <tr>\n",
       "      <th>1</th>\n",
       "      <td>1462</td>\n",
       "      <td>156944.601381</td>\n",
       "    </tr>\n",
       "    <tr>\n",
       "      <th>2</th>\n",
       "      <td>1463</td>\n",
       "      <td>180934.631177</td>\n",
       "    </tr>\n",
       "    <tr>\n",
       "      <th>3</th>\n",
       "      <td>1464</td>\n",
       "      <td>195064.946778</td>\n",
       "    </tr>\n",
       "    <tr>\n",
       "      <th>4</th>\n",
       "      <td>1465</td>\n",
       "      <td>190843.751695</td>\n",
       "    </tr>\n",
       "  </tbody>\n",
       "</table>\n",
       "</div>"
      ],
      "text/plain": [
       "     Id      SalePrice\n",
       "0  1461  119964.778486\n",
       "1  1462  156944.601381\n",
       "2  1463  180934.631177\n",
       "3  1464  195064.946778\n",
       "4  1465  190843.751695"
      ]
     },
     "execution_count": 117,
     "metadata": {},
     "output_type": "execute_result"
    }
   ],
   "source": [
    "final_result = pd.concat([df_test_id_series, final_test_predictions], axis=1, keys=['Id', 'SalePrice'])\n",
    "final_result.head()"
   ]
  },
  {
   "cell_type": "code",
   "execution_count": 118,
   "metadata": {},
   "outputs": [],
   "source": [
    "final_result.to_csv('output\\\\lasso_xgb_stacking_model_2.csv', sep=',', header=True, index=False)"
   ]
  },
  {
   "cell_type": "markdown",
   "metadata": {},
   "source": [
    "**Best score on the public leaderboard:** 0.12085 (top 8%)"
   ]
  }
 ],
 "metadata": {
  "kernelspec": {
   "display_name": "Python 3",
   "language": "python",
   "name": "python3"
  },
  "language_info": {
   "codemirror_mode": {
    "name": "ipython",
    "version": 3
   },
   "file_extension": ".py",
   "mimetype": "text/x-python",
   "name": "python",
   "nbconvert_exporter": "python",
   "pygments_lexer": "ipython3",
   "version": "3.8.3"
  },
  "varInspector": {
   "cols": {
    "lenName": 16,
    "lenType": 16,
    "lenVar": 40
   },
   "kernels_config": {
    "python": {
     "delete_cmd_postfix": "",
     "delete_cmd_prefix": "del ",
     "library": "var_list.py",
     "varRefreshCmd": "print(var_dic_list())"
    },
    "r": {
     "delete_cmd_postfix": ") ",
     "delete_cmd_prefix": "rm(",
     "library": "var_list.r",
     "varRefreshCmd": "cat(var_dic_list()) "
    }
   },
   "types_to_exclude": [
    "module",
    "function",
    "builtin_function_or_method",
    "instance",
    "_Feature"
   ],
   "window_display": false
  }
 },
 "nbformat": 4,
 "nbformat_minor": 4
}
